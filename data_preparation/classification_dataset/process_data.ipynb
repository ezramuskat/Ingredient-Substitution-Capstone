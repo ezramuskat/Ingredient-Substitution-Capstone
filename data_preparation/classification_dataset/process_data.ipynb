{
  "cells": [
    {
      "cell_type": "markdown",
      "metadata": {
        "id": "83YqCTK6BLhp"
      },
      "source": [
        "# Classification Dataset\n",
        "BS\"D\n",
        "\n",
        "In this notebook, I will put together the dataset of food items labeled according to dietary restrictions. It will be used to train classifiers for each dietary restriction.\n",
        "\n",
        "The diets I will be working on are:\n",
        "- Vegetarian\n",
        "- Vegan\n",
        "- Gluten Free\n",
        "- Dairy Free"
      ]
    },
    {
      "cell_type": "code",
      "execution_count": 2,
      "metadata": {},
      "outputs": [],
      "source": [
        "import pandas as pd\n",
        "import numpy as np\n",
        "import matplotlib.pyplot as plt"
      ]
    },
    {
      "cell_type": "markdown",
      "metadata": {},
      "source": [
        "## Hand-Labeling Data\n",
        "The following set of ingredients will be hand-labeled according to the dietary restrictions."
      ]
    },
    {
      "cell_type": "code",
      "execution_count": 1,
      "metadata": {},
      "outputs": [],
      "source": [
        "def load_common_ingredients_from_source_json(file_name = \"source_data/common_ingredients.json\"):\n",
        "    '''\n",
        "    Load the list of common ingredients from the source data\n",
        "\n",
        "    Parameters\n",
        "    ----------\n",
        "    file_name : str\n",
        "        The name of the file to load the data from (default is \"source_data/common_ingredients.json\")\n",
        "\n",
        "    Returns\n",
        "    -------\n",
        "    pd.DataFrame\n",
        "        A dataframe containing the common ingredients and the frequency of their occurrence\n",
        "\n",
        "    '''\n",
        "\n",
        "    # Load the data\n",
        "    data = pd.read_json(file_name)\n",
        "\n",
        "    # The data is a dataframe of dictionaries and needs to be exploded\n",
        "    data[\"ingredient\"] = data[\"data\"].apply(lambda x: x[\"index\"])\n",
        "    data[\"quantity\"] = data[\"data\"].apply(lambda x: x[\"quantity\"])\n",
        "\n",
        "    # Drop the data column\n",
        "    data = data.drop(\"data\", axis=1)\n",
        "\n",
        "    return data"
      ]
    },
    {
      "cell_type": "code",
      "execution_count": null,
      "metadata": {},
      "outputs": [
        {
          "data": {
            "text/html": [
              "<div>\n",
              "<style scoped>\n",
              "    .dataframe tbody tr th:only-of-type {\n",
              "        vertical-align: middle;\n",
              "    }\n",
              "\n",
              "    .dataframe tbody tr th {\n",
              "        vertical-align: top;\n",
              "    }\n",
              "\n",
              "    .dataframe thead th {\n",
              "        text-align: right;\n",
              "    }\n",
              "</style>\n",
              "<table border=\"1\" class=\"dataframe\">\n",
              "  <thead>\n",
              "    <tr style=\"text-align: right;\">\n",
              "      <th></th>\n",
              "      <th>ingredient</th>\n",
              "      <th>quantity</th>\n",
              "    </tr>\n",
              "  </thead>\n",
              "  <tbody>\n",
              "    <tr>\n",
              "      <th>0</th>\n",
              "      <td>salt</td>\n",
              "      <td>18049</td>\n",
              "    </tr>\n",
              "    <tr>\n",
              "      <th>1</th>\n",
              "      <td>olive oil</td>\n",
              "      <td>7972</td>\n",
              "    </tr>\n",
              "    <tr>\n",
              "      <th>2</th>\n",
              "      <td>onions</td>\n",
              "      <td>7972</td>\n",
              "    </tr>\n",
              "    <tr>\n",
              "      <th>3</th>\n",
              "      <td>water</td>\n",
              "      <td>7457</td>\n",
              "    </tr>\n",
              "    <tr>\n",
              "      <th>4</th>\n",
              "      <td>garlic</td>\n",
              "      <td>7380</td>\n",
              "    </tr>\n",
              "    <tr>\n",
              "      <th>...</th>\n",
              "      <td>...</td>\n",
              "      <td>...</td>\n",
              "    </tr>\n",
              "    <tr>\n",
              "      <th>495</th>\n",
              "      <td>boneless chicken breast</td>\n",
              "      <td>146</td>\n",
              "    </tr>\n",
              "    <tr>\n",
              "      <th>496</th>\n",
              "      <td>crème fraîche</td>\n",
              "      <td>145</td>\n",
              "    </tr>\n",
              "    <tr>\n",
              "      <th>497</th>\n",
              "      <td>cooked white rice</td>\n",
              "      <td>145</td>\n",
              "    </tr>\n",
              "    <tr>\n",
              "      <th>498</th>\n",
              "      <td>pecans</td>\n",
              "      <td>144</td>\n",
              "    </tr>\n",
              "    <tr>\n",
              "      <th>499</th>\n",
              "      <td>peppercorns</td>\n",
              "      <td>144</td>\n",
              "    </tr>\n",
              "  </tbody>\n",
              "</table>\n",
              "<p>500 rows × 2 columns</p>\n",
              "</div>"
            ],
            "text/plain": [
              "                  ingredient  quantity\n",
              "0                       salt     18049\n",
              "1                  olive oil      7972\n",
              "2                     onions      7972\n",
              "3                      water      7457\n",
              "4                     garlic      7380\n",
              "..                       ...       ...\n",
              "495  boneless chicken breast       146\n",
              "496            crème fraîche       145\n",
              "497        cooked white rice       145\n",
              "498                   pecans       144\n",
              "499              peppercorns       144\n",
              "\n",
              "[500 rows x 2 columns]"
            ]
          },
          "execution_count": 31,
          "metadata": {},
          "output_type": "execute_result"
        }
      ],
      "source": [
        "common_ingredients = load_common_ingredients_from_source_json()\n",
        "\n",
        "common_ingredients"
      ]
    },
    {
      "cell_type": "code",
      "execution_count": null,
      "metadata": {},
      "outputs": [],
      "source": [
        "# Save the data as an excel file\n",
        "# with pd.ExcelWriter(\"common_ingredients.xlsx\") as writer:\n",
        "#     common_ingredients.to_excel(writer, sheet_name=\"common_ingredients\", index=False)"
      ]
    },
    {
      "cell_type": "markdown",
      "metadata": {},
      "source": [
        "### Loading the Hand-Labeled Data"
      ]
    },
    {
      "cell_type": "code",
      "execution_count": 17,
      "metadata": {},
      "outputs": [
        {
          "data": {
            "text/html": [
              "<div>\n",
              "<style scoped>\n",
              "    .dataframe tbody tr th:only-of-type {\n",
              "        vertical-align: middle;\n",
              "    }\n",
              "\n",
              "    .dataframe tbody tr th {\n",
              "        vertical-align: top;\n",
              "    }\n",
              "\n",
              "    .dataframe thead th {\n",
              "        text-align: right;\n",
              "    }\n",
              "</style>\n",
              "<table border=\"1\" class=\"dataframe\">\n",
              "  <thead>\n",
              "    <tr style=\"text-align: right;\">\n",
              "      <th></th>\n",
              "      <th>ingredient</th>\n",
              "      <th>vegetarian</th>\n",
              "      <th>vegan</th>\n",
              "      <th>dairy_free</th>\n",
              "      <th>gluten_free</th>\n",
              "    </tr>\n",
              "  </thead>\n",
              "  <tbody>\n",
              "    <tr>\n",
              "      <th>0</th>\n",
              "      <td>salt</td>\n",
              "      <td>Yes</td>\n",
              "      <td>Yes</td>\n",
              "      <td>Yes</td>\n",
              "      <td>Yes</td>\n",
              "    </tr>\n",
              "    <tr>\n",
              "      <th>1</th>\n",
              "      <td>olive oil</td>\n",
              "      <td>Yes</td>\n",
              "      <td>Yes</td>\n",
              "      <td>Yes</td>\n",
              "      <td>Yes</td>\n",
              "    </tr>\n",
              "    <tr>\n",
              "      <th>2</th>\n",
              "      <td>onions</td>\n",
              "      <td>Yes</td>\n",
              "      <td>Yes</td>\n",
              "      <td>Yes</td>\n",
              "      <td>Yes</td>\n",
              "    </tr>\n",
              "    <tr>\n",
              "      <th>3</th>\n",
              "      <td>water</td>\n",
              "      <td>Yes</td>\n",
              "      <td>Yes</td>\n",
              "      <td>Yes</td>\n",
              "      <td>Yes</td>\n",
              "    </tr>\n",
              "    <tr>\n",
              "      <th>4</th>\n",
              "      <td>garlic</td>\n",
              "      <td>Yes</td>\n",
              "      <td>Yes</td>\n",
              "      <td>Yes</td>\n",
              "      <td>Yes</td>\n",
              "    </tr>\n",
              "    <tr>\n",
              "      <th>...</th>\n",
              "      <td>...</td>\n",
              "      <td>...</td>\n",
              "      <td>...</td>\n",
              "      <td>...</td>\n",
              "      <td>...</td>\n",
              "    </tr>\n",
              "    <tr>\n",
              "      <th>494</th>\n",
              "      <td>boneless chicken breast</td>\n",
              "      <td>No</td>\n",
              "      <td>no</td>\n",
              "      <td>yes</td>\n",
              "      <td>Yes</td>\n",
              "    </tr>\n",
              "    <tr>\n",
              "      <th>495</th>\n",
              "      <td>crème fraîche</td>\n",
              "      <td>Yes</td>\n",
              "      <td>no</td>\n",
              "      <td>no</td>\n",
              "      <td>Yes</td>\n",
              "    </tr>\n",
              "    <tr>\n",
              "      <th>496</th>\n",
              "      <td>cooked white rice</td>\n",
              "      <td>Yes</td>\n",
              "      <td>yes</td>\n",
              "      <td>yes</td>\n",
              "      <td>Yes</td>\n",
              "    </tr>\n",
              "    <tr>\n",
              "      <th>497</th>\n",
              "      <td>pecans</td>\n",
              "      <td>Yes</td>\n",
              "      <td>yes</td>\n",
              "      <td>yes</td>\n",
              "      <td>Yes</td>\n",
              "    </tr>\n",
              "    <tr>\n",
              "      <th>498</th>\n",
              "      <td>peppercorns</td>\n",
              "      <td>Yes</td>\n",
              "      <td>yes</td>\n",
              "      <td>yes</td>\n",
              "      <td>Yes</td>\n",
              "    </tr>\n",
              "  </tbody>\n",
              "</table>\n",
              "<p>499 rows × 5 columns</p>\n",
              "</div>"
            ],
            "text/plain": [
              "                  ingredient vegetarian vegan dairy_free gluten_free\n",
              "0                       salt        Yes   Yes        Yes         Yes\n",
              "1                  olive oil        Yes   Yes        Yes         Yes\n",
              "2                     onions        Yes   Yes        Yes         Yes\n",
              "3                      water        Yes   Yes        Yes         Yes\n",
              "4                     garlic        Yes   Yes        Yes         Yes\n",
              "..                       ...        ...   ...        ...         ...\n",
              "494  boneless chicken breast         No    no        yes         Yes\n",
              "495            crème fraîche        Yes    no         no         Yes\n",
              "496        cooked white rice        Yes   yes        yes         Yes\n",
              "497                   pecans        Yes   yes        yes         Yes\n",
              "498              peppercorns        Yes   yes        yes         Yes\n",
              "\n",
              "[499 rows x 5 columns]"
            ]
          },
          "execution_count": 17,
          "metadata": {},
          "output_type": "execute_result"
        }
      ],
      "source": [
        "small_dataset = pd.read_csv(\"common_ingredients_initial.csv\")\n",
        "\n",
        "small_dataset\n"
      ]
    },
    {
      "cell_type": "code",
      "execution_count": 12,
      "metadata": {},
      "outputs": [
        {
          "name": "stdout",
          "output_type": "stream",
          "text": [
            "Column: vegetarian\n",
            "['Yes' 'No']\n",
            "\n",
            "\n",
            "Column: vegan\n",
            "['Yes' 'No' 'yes' 'no' '?']\n",
            "\n",
            "\n",
            "Column: dairy_free\n",
            "['Yes' 'No' 'no' 'yes' '?']\n",
            "\n",
            "\n",
            "Column: gluten_free\n",
            "['Yes' 'No' 'Sometimes']\n",
            "\n",
            "\n"
          ]
        }
      ],
      "source": [
        "columns = small_dataset.columns\n",
        "\n",
        "def print_unique_values_in_columns(columns, dataset):\n",
        "    '''\n",
        "    Print the unique values in each column of a dataset\n",
        "\n",
        "    Parameters\n",
        "    ----------\n",
        "    columns : list\n",
        "        A list of column names\n",
        "    dataset : pd.DataFrame\n",
        "        The dataset to print the unique values from\n",
        "\n",
        "    Returns\n",
        "    -------\n",
        "    None\n",
        "\n",
        "    '''\n",
        "\n",
        "    for column in columns:\n",
        "        if column == \"ingredient\":\n",
        "            continue\n",
        "\n",
        "        # Print the unique values in the column\n",
        "        print(f\"Column: {column}\")\n",
        "        print(dataset[column].unique())\n",
        "        print(\"\\n\")\n",
        "\n",
        "print_unique_values_in_columns(columns, small_dataset)"
      ]
    },
    {
      "cell_type": "markdown",
      "metadata": {},
      "source": [
        "I will now edit the dataset to only be lowercase."
      ]
    },
    {
      "cell_type": "code",
      "execution_count": 13,
      "metadata": {},
      "outputs": [
        {
          "name": "stdout",
          "output_type": "stream",
          "text": [
            "Column: vegetarian\n",
            "['yes' 'no']\n",
            "\n",
            "\n",
            "Column: vegan\n",
            "['yes' 'no' '?']\n",
            "\n",
            "\n",
            "Column: dairy_free\n",
            "['yes' 'no' '?']\n",
            "\n",
            "\n",
            "Column: gluten_free\n",
            "['yes' 'no' 'sometimes']\n",
            "\n",
            "\n"
          ]
        }
      ],
      "source": [
        "# Make everything lowercase\n",
        "columns = small_dataset.columns\n",
        "for column in columns:\n",
        "    small_dataset[column] = small_dataset[column].str.lower()\n",
        "\n",
        "# Get the common ingredients\n",
        "print_unique_values_in_columns(columns, small_dataset)"
      ]
    },
    {
      "cell_type": "markdown",
      "metadata": {},
      "source": [
        "#### Collect the values that aren't yes or no"
      ]
    },
    {
      "cell_type": "code",
      "execution_count": 14,
      "metadata": {},
      "outputs": [
        {
          "name": "stdout",
          "output_type": "stream",
          "text": [
            "Column: vegetarian\n",
            "Empty DataFrame\n",
            "Columns: [ingredient, vegetarian, vegan, dairy_free, gluten_free]\n",
            "Index: []\n",
            "\n",
            "\n",
            "Column: vegan\n",
            "           ingredient vegetarian vegan dairy_free gluten_free\n",
            "408             chili        yes     ?        yes         yes\n",
            "428             bread        yes     ?        yes          no\n",
            "466  asian fish sauce         no     ?        yes         yes\n",
            "\n",
            "\n",
            "Column: dairy_free\n",
            "              ingredient vegetarian vegan dairy_free gluten_free\n",
            "453  semisweet chocolate        yes    no          ?         yes\n",
            "\n",
            "\n",
            "Column: gluten_free\n",
            "    ingredient vegetarian vegan dairy_free gluten_free\n",
            "347    noodles        yes   yes        yes   sometimes\n",
            "352  tortillas        yes   yes        yes   sometimes\n",
            "\n",
            "\n"
          ]
        }
      ],
      "source": [
        "# Find the rows that have values that are not \"yes\" or \"no\"\n",
        "for column in columns:\n",
        "    if column == \"ingredient\":\n",
        "        continue\n",
        "\n",
        "    print(f\"Column: {column}\")\n",
        "    print(small_dataset[~small_dataset[column].isin([\"yes\", \"no\"])])\n",
        "    print(\"\\n\")\n",
        "\n"
      ]
    },
    {
      "cell_type": "markdown",
      "metadata": {},
      "source": [
        "Fish sauce is a mistake. It is not vegan because it is made from fish. I will change it to no."
      ]
    },
    {
      "cell_type": "code",
      "execution_count": 15,
      "metadata": {},
      "outputs": [
        {
          "data": {
            "text/html": [
              "<div>\n",
              "<style scoped>\n",
              "    .dataframe tbody tr th:only-of-type {\n",
              "        vertical-align: middle;\n",
              "    }\n",
              "\n",
              "    .dataframe tbody tr th {\n",
              "        vertical-align: top;\n",
              "    }\n",
              "\n",
              "    .dataframe thead th {\n",
              "        text-align: right;\n",
              "    }\n",
              "</style>\n",
              "<table border=\"1\" class=\"dataframe\">\n",
              "  <thead>\n",
              "    <tr style=\"text-align: right;\">\n",
              "      <th></th>\n",
              "      <th>ingredient</th>\n",
              "      <th>vegetarian</th>\n",
              "      <th>vegan</th>\n",
              "      <th>dairy_free</th>\n",
              "      <th>gluten_free</th>\n",
              "    </tr>\n",
              "  </thead>\n",
              "  <tbody>\n",
              "    <tr>\n",
              "      <th>466</th>\n",
              "      <td>asian fish sauce</td>\n",
              "      <td>no</td>\n",
              "      <td>?</td>\n",
              "      <td>yes</td>\n",
              "      <td>yes</td>\n",
              "    </tr>\n",
              "  </tbody>\n",
              "</table>\n",
              "</div>"
            ],
            "text/plain": [
              "           ingredient vegetarian vegan dairy_free gluten_free\n",
              "466  asian fish sauce         no     ?        yes         yes"
            ]
          },
          "execution_count": 15,
          "metadata": {},
          "output_type": "execute_result"
        }
      ],
      "source": [
        "# Show the row of asian fish sauce\n",
        "small_dataset[small_dataset[\"ingredient\"] == \"asian fish sauce\"]"
      ]
    },
    {
      "cell_type": "code",
      "execution_count": 16,
      "metadata": {},
      "outputs": [
        {
          "data": {
            "text/html": [
              "<div>\n",
              "<style scoped>\n",
              "    .dataframe tbody tr th:only-of-type {\n",
              "        vertical-align: middle;\n",
              "    }\n",
              "\n",
              "    .dataframe tbody tr th {\n",
              "        vertical-align: top;\n",
              "    }\n",
              "\n",
              "    .dataframe thead th {\n",
              "        text-align: right;\n",
              "    }\n",
              "</style>\n",
              "<table border=\"1\" class=\"dataframe\">\n",
              "  <thead>\n",
              "    <tr style=\"text-align: right;\">\n",
              "      <th></th>\n",
              "      <th>ingredient</th>\n",
              "      <th>vegetarian</th>\n",
              "      <th>vegan</th>\n",
              "      <th>dairy_free</th>\n",
              "      <th>gluten_free</th>\n",
              "    </tr>\n",
              "  </thead>\n",
              "  <tbody>\n",
              "    <tr>\n",
              "      <th>466</th>\n",
              "      <td>asian fish sauce</td>\n",
              "      <td>no</td>\n",
              "      <td>no</td>\n",
              "      <td>yes</td>\n",
              "      <td>yes</td>\n",
              "    </tr>\n",
              "  </tbody>\n",
              "</table>\n",
              "</div>"
            ],
            "text/plain": [
              "           ingredient vegetarian vegan dairy_free gluten_free\n",
              "466  asian fish sauce         no    no        yes         yes"
            ]
          },
          "execution_count": 16,
          "metadata": {},
          "output_type": "execute_result"
        }
      ],
      "source": [
        "# Change the vegan column to \"no\" for asian fish sauce\n",
        "small_dataset.loc[small_dataset[\"ingredient\"] == \"asian fish sauce\", \"vegan\"] = \"no\"\n",
        "\n",
        "# Show the row of asian fish sauce\n",
        "small_dataset[small_dataset[\"ingredient\"] == \"asian fish sauce\"]"
      ]
    }
  ],
  "metadata": {
    "colab": {
      "provenance": []
    },
    "kernelspec": {
      "display_name": ".venv",
      "language": "python",
      "name": "python3"
    },
    "language_info": {
      "codemirror_mode": {
        "name": "ipython",
        "version": 3
      },
      "file_extension": ".py",
      "mimetype": "text/x-python",
      "name": "python",
      "nbconvert_exporter": "python",
      "pygments_lexer": "ipython3",
      "version": "3.13.1"
    }
  },
  "nbformat": 4,
  "nbformat_minor": 0
}
