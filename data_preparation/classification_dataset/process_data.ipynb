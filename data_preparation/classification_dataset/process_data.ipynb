{
  "cells": [
    {
      "cell_type": "markdown",
      "metadata": {
        "id": "83YqCTK6BLhp"
      },
      "source": [
        "# Classification Dataset\n",
        "BS\"D\n",
        "\n",
        "In this notebook, I will put together the dataset of food items labeled according to dietary restrictions. It will be used to train classifiers for each dietary restriction.\n",
        "\n",
        "The diets I will be working on are:\n",
        "- Vegetarian\n",
        "- Gluten Free\n",
        "- Dairy Free"
      ]
    },
    {
      "cell_type": "code",
      "execution_count": null,
      "metadata": {},
      "outputs": [],
      "source": [
        "import pandas as pd\n",
        "import numpy as np\n",
        "import matplotlib.pyplot as plt"
      ]
    },
    {
      "cell_type": "markdown",
      "metadata": {},
      "source": [
        "## Vegan Dataset\n",
        "This is based on the data from the following github repository:\n",
        "https://github.com/ezramuskat/Ingredient-Substitution-Capstone.git"
      ]
    },
    {
      "cell_type": "code",
      "execution_count": null,
      "metadata": {
        "id": "bevhGslgBGcM"
      },
      "outputs": [],
      "source": [
        "# Load the data from the file\n"
      ]
    }
  ],
  "metadata": {
    "colab": {
      "provenance": []
    },
    "kernelspec": {
      "display_name": "Python 3",
      "name": "python3"
    },
    "language_info": {
      "name": "python"
    }
  },
  "nbformat": 4,
  "nbformat_minor": 0
}
