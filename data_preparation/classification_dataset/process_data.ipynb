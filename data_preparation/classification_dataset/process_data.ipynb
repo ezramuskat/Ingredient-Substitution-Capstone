{
  "cells": [
    {
      "cell_type": "markdown",
      "metadata": {
        "id": "83YqCTK6BLhp"
      },
      "source": [
        "# Classification Dataset\n",
        "BS\"D\n",
        "\n",
        "In this notebook, I will put together the dataset of food items labeled according to dietary restrictions. It will be used to train classifiers for each dietary restriction.\n",
        "\n",
        "The diets I will be working on are:\n",
        "- Vegetarian\n",
        "- Gluten Free\n",
        "- Dairy Free"
      ]
    },
    {
      "cell_type": "code",
      "execution_count": 2,
      "metadata": {},
      "outputs": [],
      "source": [
        "import pandas as pd\n",
        "import numpy as np\n",
        "import matplotlib.pyplot as plt"
      ]
    },
    {
      "cell_type": "markdown",
      "metadata": {},
      "source": [
        "## Hand-Labeling Data\n",
        "The following set of ingredients will be hand-labeled according to the dietary restrictions."
      ]
    },
    {
      "cell_type": "code",
      "execution_count": 29,
      "metadata": {},
      "outputs": [],
      "source": [
        "def load_common_ingredients(file_name = \"source_data/common_ingredients.json\"):\n",
        "    # Load the data\n",
        "    data = pd.read_json(file_name)\n",
        "\n",
        "    # The data is a dataframe of dictionaries and needs to be exploded\n",
        "    data[\"ingredient\"] = data[\"data\"].apply(lambda x: x[\"index\"])\n",
        "    data[\"quantity\"] = data[\"data\"].apply(lambda x: x[\"quantity\"])\n",
        "\n",
        "    # Drop the data column\n",
        "    data = data.drop(\"data\", axis=1)\n",
        "\n",
        "    return data"
      ]
    },
    {
      "cell_type": "code",
      "execution_count": 31,
      "metadata": {},
      "outputs": [
        {
          "data": {
            "text/html": [
              "<div>\n",
              "<style scoped>\n",
              "    .dataframe tbody tr th:only-of-type {\n",
              "        vertical-align: middle;\n",
              "    }\n",
              "\n",
              "    .dataframe tbody tr th {\n",
              "        vertical-align: top;\n",
              "    }\n",
              "\n",
              "    .dataframe thead th {\n",
              "        text-align: right;\n",
              "    }\n",
              "</style>\n",
              "<table border=\"1\" class=\"dataframe\">\n",
              "  <thead>\n",
              "    <tr style=\"text-align: right;\">\n",
              "      <th></th>\n",
              "      <th>ingredient</th>\n",
              "      <th>quantity</th>\n",
              "    </tr>\n",
              "  </thead>\n",
              "  <tbody>\n",
              "    <tr>\n",
              "      <th>0</th>\n",
              "      <td>salt</td>\n",
              "      <td>18049</td>\n",
              "    </tr>\n",
              "    <tr>\n",
              "      <th>1</th>\n",
              "      <td>olive oil</td>\n",
              "      <td>7972</td>\n",
              "    </tr>\n",
              "    <tr>\n",
              "      <th>2</th>\n",
              "      <td>onions</td>\n",
              "      <td>7972</td>\n",
              "    </tr>\n",
              "    <tr>\n",
              "      <th>3</th>\n",
              "      <td>water</td>\n",
              "      <td>7457</td>\n",
              "    </tr>\n",
              "    <tr>\n",
              "      <th>4</th>\n",
              "      <td>garlic</td>\n",
              "      <td>7380</td>\n",
              "    </tr>\n",
              "    <tr>\n",
              "      <th>...</th>\n",
              "      <td>...</td>\n",
              "      <td>...</td>\n",
              "    </tr>\n",
              "    <tr>\n",
              "      <th>495</th>\n",
              "      <td>boneless chicken breast</td>\n",
              "      <td>146</td>\n",
              "    </tr>\n",
              "    <tr>\n",
              "      <th>496</th>\n",
              "      <td>crème fraîche</td>\n",
              "      <td>145</td>\n",
              "    </tr>\n",
              "    <tr>\n",
              "      <th>497</th>\n",
              "      <td>cooked white rice</td>\n",
              "      <td>145</td>\n",
              "    </tr>\n",
              "    <tr>\n",
              "      <th>498</th>\n",
              "      <td>pecans</td>\n",
              "      <td>144</td>\n",
              "    </tr>\n",
              "    <tr>\n",
              "      <th>499</th>\n",
              "      <td>peppercorns</td>\n",
              "      <td>144</td>\n",
              "    </tr>\n",
              "  </tbody>\n",
              "</table>\n",
              "<p>500 rows × 2 columns</p>\n",
              "</div>"
            ],
            "text/plain": [
              "                  ingredient  quantity\n",
              "0                       salt     18049\n",
              "1                  olive oil      7972\n",
              "2                     onions      7972\n",
              "3                      water      7457\n",
              "4                     garlic      7380\n",
              "..                       ...       ...\n",
              "495  boneless chicken breast       146\n",
              "496            crème fraîche       145\n",
              "497        cooked white rice       145\n",
              "498                   pecans       144\n",
              "499              peppercorns       144\n",
              "\n",
              "[500 rows x 2 columns]"
            ]
          },
          "execution_count": 31,
          "metadata": {},
          "output_type": "execute_result"
        }
      ],
      "source": [
        "common_ingredients = load_common_ingredients()\n",
        "\n",
        "common_ingredients"
      ]
    },
    {
      "cell_type": "code",
      "execution_count": 34,
      "metadata": {},
      "outputs": [],
      "source": [
        "# Save the data as an excel file\n",
        "with pd.ExcelWriter(\"common_ingredients.xlsx\") as writer:\n",
        "    common_ingredients.to_excel(writer, sheet_name=\"common_ingredients\", index=False)\n",
        "\n"
      ]
    }
  ],
  "metadata": {
    "colab": {
      "provenance": []
    },
    "kernelspec": {
      "display_name": ".venv",
      "language": "python",
      "name": "python3"
    },
    "language_info": {
      "codemirror_mode": {
        "name": "ipython",
        "version": 3
      },
      "file_extension": ".py",
      "mimetype": "text/x-python",
      "name": "python",
      "nbconvert_exporter": "python",
      "pygments_lexer": "ipython3",
      "version": "3.13.1"
    }
  },
  "nbformat": 4,
  "nbformat_minor": 0
}
