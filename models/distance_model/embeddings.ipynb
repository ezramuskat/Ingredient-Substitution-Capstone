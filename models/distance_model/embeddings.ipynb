{
 "cells": [
  {
   "cell_type": "markdown",
   "metadata": {},
   "source": [
    "# Ingredient Embeddings\n",
    "BS\"D\n",
    "\n",
    "In this notebook, we will create embeddings for ingredients in the dataset. We will first attempt to use the gensim library."
   ]
  },
  {
   "cell_type": "code",
   "execution_count": 1,
   "metadata": {},
   "outputs": [],
   "source": [
    "import pandas as pd\n",
    "import numpy as np\n",
    "import matplotlib.pyplot as plt\n",
    "import seaborn as sns\n",
    "\n",
    "from gensim.models import Word2Vec"
   ]
  },
  {
   "cell_type": "markdown",
   "metadata": {},
   "source": [
    "## Load Data\n",
    "We have two datasets, labeled `dataset_1.json` and `dataset_2.json`. We will initially only use `dataset_2.json` for the embeddings since it is seemingly more precise."
   ]
  },
  {
   "cell_type": "code",
   "execution_count": 39,
   "metadata": {},
   "outputs": [
    {
     "data": {
      "text/html": [
       "<div>\n",
       "<style scoped>\n",
       "    .dataframe tbody tr th:only-of-type {\n",
       "        vertical-align: middle;\n",
       "    }\n",
       "\n",
       "    .dataframe tbody tr th {\n",
       "        vertical-align: top;\n",
       "    }\n",
       "\n",
       "    .dataframe thead th {\n",
       "        text-align: right;\n",
       "    }\n",
       "</style>\n",
       "<table border=\"1\" class=\"dataframe\">\n",
       "  <thead>\n",
       "    <tr style=\"text-align: right;\">\n",
       "      <th></th>\n",
       "      <th>ingredients</th>\n",
       "    </tr>\n",
       "  </thead>\n",
       "  <tbody>\n",
       "    <tr>\n",
       "      <th>0</th>\n",
       "      <td>[romaine lettuce, black olives, grape tomatoes...</td>\n",
       "    </tr>\n",
       "    <tr>\n",
       "      <th>1</th>\n",
       "      <td>[plain flour, ground pepper, salt, tomatoes, g...</td>\n",
       "    </tr>\n",
       "    <tr>\n",
       "      <th>2</th>\n",
       "      <td>[eggs, pepper, salt, mayonaise, cooking oil, g...</td>\n",
       "    </tr>\n",
       "    <tr>\n",
       "      <th>3</th>\n",
       "      <td>[water, vegetable oil, wheat, salt]</td>\n",
       "    </tr>\n",
       "    <tr>\n",
       "      <th>4</th>\n",
       "      <td>[black pepper, shallots, cornflour, cayenne pe...</td>\n",
       "    </tr>\n",
       "    <tr>\n",
       "      <th>...</th>\n",
       "      <td>...</td>\n",
       "    </tr>\n",
       "    <tr>\n",
       "      <th>39769</th>\n",
       "      <td>[light brown sugar, granulated sugar, butter, ...</td>\n",
       "    </tr>\n",
       "    <tr>\n",
       "      <th>39770</th>\n",
       "      <td>[KRAFT Zesty Italian Dressing, purple onion, b...</td>\n",
       "    </tr>\n",
       "    <tr>\n",
       "      <th>39771</th>\n",
       "      <td>[eggs, citrus fruit, raisins, sourdough starte...</td>\n",
       "    </tr>\n",
       "    <tr>\n",
       "      <th>39772</th>\n",
       "      <td>[boneless chicken skinless thigh, minced garli...</td>\n",
       "    </tr>\n",
       "    <tr>\n",
       "      <th>39773</th>\n",
       "      <td>[green chile, jalapeno chilies, onions, ground...</td>\n",
       "    </tr>\n",
       "  </tbody>\n",
       "</table>\n",
       "<p>39774 rows × 1 columns</p>\n",
       "</div>"
      ],
      "text/plain": [
       "                                             ingredients\n",
       "0      [romaine lettuce, black olives, grape tomatoes...\n",
       "1      [plain flour, ground pepper, salt, tomatoes, g...\n",
       "2      [eggs, pepper, salt, mayonaise, cooking oil, g...\n",
       "3                    [water, vegetable oil, wheat, salt]\n",
       "4      [black pepper, shallots, cornflour, cayenne pe...\n",
       "...                                                  ...\n",
       "39769  [light brown sugar, granulated sugar, butter, ...\n",
       "39770  [KRAFT Zesty Italian Dressing, purple onion, b...\n",
       "39771  [eggs, citrus fruit, raisins, sourdough starte...\n",
       "39772  [boneless chicken skinless thigh, minced garli...\n",
       "39773  [green chile, jalapeno chilies, onions, ground...\n",
       "\n",
       "[39774 rows x 1 columns]"
      ]
     },
     "execution_count": 39,
     "metadata": {},
     "output_type": "execute_result"
    }
   ],
   "source": [
    "filepath = 'data/dataset_2.json'\n",
    "\n",
    "raw_recipes = pd.read_json(filepath, orient='table')\n",
    "\n",
    "raw_recipes"
   ]
  },
  {
   "cell_type": "markdown",
   "metadata": {},
   "source": [
    "## Prepare data\n",
    "The recipes have to be concatenated into a single string for each recipe. We will then tokenize the recipes into a list of words.\n",
    "\n",
    "However, first the ingredients that have multiple tokens have to be concatenated into a single token. For example, `green onions` should be `green_onions`."
   ]
  },
  {
   "cell_type": "code",
   "execution_count": 40,
   "metadata": {},
   "outputs": [
    {
     "data": {
      "text/html": [
       "<div>\n",
       "<style scoped>\n",
       "    .dataframe tbody tr th:only-of-type {\n",
       "        vertical-align: middle;\n",
       "    }\n",
       "\n",
       "    .dataframe tbody tr th {\n",
       "        vertical-align: top;\n",
       "    }\n",
       "\n",
       "    .dataframe thead th {\n",
       "        text-align: right;\n",
       "    }\n",
       "</style>\n",
       "<table border=\"1\" class=\"dataframe\">\n",
       "  <thead>\n",
       "    <tr style=\"text-align: right;\">\n",
       "      <th></th>\n",
       "      <th>ingredients</th>\n",
       "    </tr>\n",
       "  </thead>\n",
       "  <tbody>\n",
       "    <tr>\n",
       "      <th>0</th>\n",
       "      <td>[romaine lettuce, black olives, grape tomatoes...</td>\n",
       "    </tr>\n",
       "    <tr>\n",
       "      <th>1</th>\n",
       "      <td>[plain flour, ground pepper, salt, tomatoes, g...</td>\n",
       "    </tr>\n",
       "    <tr>\n",
       "      <th>2</th>\n",
       "      <td>[eggs, pepper, salt, mayonaise, cooking oil, g...</td>\n",
       "    </tr>\n",
       "    <tr>\n",
       "      <th>3</th>\n",
       "      <td>[water, vegetable oil, wheat, salt]</td>\n",
       "    </tr>\n",
       "    <tr>\n",
       "      <th>4</th>\n",
       "      <td>[black pepper, shallots, cornflour, cayenne pe...</td>\n",
       "    </tr>\n",
       "    <tr>\n",
       "      <th>...</th>\n",
       "      <td>...</td>\n",
       "    </tr>\n",
       "    <tr>\n",
       "      <th>39769</th>\n",
       "      <td>[light brown sugar, granulated sugar, butter, ...</td>\n",
       "    </tr>\n",
       "    <tr>\n",
       "      <th>39770</th>\n",
       "      <td>[KRAFT Zesty Italian Dressing, purple onion, b...</td>\n",
       "    </tr>\n",
       "    <tr>\n",
       "      <th>39771</th>\n",
       "      <td>[eggs, citrus fruit, raisins, sourdough starte...</td>\n",
       "    </tr>\n",
       "    <tr>\n",
       "      <th>39772</th>\n",
       "      <td>[boneless chicken skinless thigh, minced garli...</td>\n",
       "    </tr>\n",
       "    <tr>\n",
       "      <th>39773</th>\n",
       "      <td>[green chile, jalapeno chilies, onions, ground...</td>\n",
       "    </tr>\n",
       "  </tbody>\n",
       "</table>\n",
       "<p>39774 rows × 1 columns</p>\n",
       "</div>"
      ],
      "text/plain": [
       "                                             ingredients\n",
       "0      [romaine lettuce, black olives, grape tomatoes...\n",
       "1      [plain flour, ground pepper, salt, tomatoes, g...\n",
       "2      [eggs, pepper, salt, mayonaise, cooking oil, g...\n",
       "3                    [water, vegetable oil, wheat, salt]\n",
       "4      [black pepper, shallots, cornflour, cayenne pe...\n",
       "...                                                  ...\n",
       "39769  [light brown sugar, granulated sugar, butter, ...\n",
       "39770  [KRAFT Zesty Italian Dressing, purple onion, b...\n",
       "39771  [eggs, citrus fruit, raisins, sourdough starte...\n",
       "39772  [boneless chicken skinless thigh, minced garli...\n",
       "39773  [green chile, jalapeno chilies, onions, ground...\n",
       "\n",
       "[39774 rows x 1 columns]"
      ]
     },
     "execution_count": 40,
     "metadata": {},
     "output_type": "execute_result"
    }
   ],
   "source": [
    "def preprocess_text(ingredients):\n",
    "    '''\n",
    "    This function takes a list of ingredients and concatenates them into a single string.\n",
    "    However, it first prepares any ingredients that have multiple words by concatenating them with an underscore.\n",
    "\n",
    "    Parameters\n",
    "    ----------\n",
    "    ingredients : list\n",
    "        A list of ingredients.\n",
    "\n",
    "    Returns\n",
    "    -------\n",
    "    str\n",
    "        A single string of ingredients.\n",
    "    '''\n",
    "\n",
    "\n",
    "    # Prepare ingredients with multiple words\n",
    "    ingredients = [ingredient.replace(' ', '_') for ingredient in ingredients]\n",
    "\n",
    "    return ingredients\n",
    "\n",
    "recipes = raw_recipes.copy()\n",
    "# recipes['ingredients'] = recipes['ingredients'].apply(preprocess_text)\n",
    "\n",
    "recipes"
   ]
  },
  {
   "cell_type": "markdown",
   "metadata": {},
   "source": [
    "## Train Embeddings"
   ]
  },
  {
   "cell_type": "code",
   "execution_count": 44,
   "metadata": {},
   "outputs": [],
   "source": [
    "embedding_size = 100\n",
    "window_size = 10\n",
    "min_count = 1\n",
    "workers = 4\n",
    "\n",
    "model = Word2Vec(recipes['ingredients'], vector_size=embedding_size, window=window_size, min_count=min_count, workers=workers)"
   ]
  },
  {
   "cell_type": "code",
   "execution_count": 46,
   "metadata": {},
   "outputs": [
    {
     "data": {
      "text/plain": [
       "[('melted butter', 0.8506343364715576),\n",
       " ('mashed potatoes', 0.8329598903656006),\n",
       " ('cream', 0.8165110945701599),\n",
       " ('shortening', 0.8154274225234985),\n",
       " ('evaporated milk', 0.812747597694397),\n",
       " ('bread crumbs', 0.7776293754577637),\n",
       " ('self rising flour', 0.7747952938079834),\n",
       " ('seasoned flour', 0.768001914024353),\n",
       " ('biscuits', 0.7614127397537231),\n",
       " ('poultry seasoning', 0.7577057480812073)]"
      ]
     },
     "execution_count": 46,
     "metadata": {},
     "output_type": "execute_result"
    }
   ],
   "source": [
    "model.wv.most_similar('milk')"
   ]
  },
  {
   "cell_type": "markdown",
   "metadata": {},
   "source": [
    "Well, this is not working...\n",
    "\n",
    "The idea I have to improve it is to include the recipes from `dataset_1.json` as well. This will increase the number of recipes and hopefully improve the embeddings."
   ]
  },
  {
   "cell_type": "code",
   "execution_count": 49,
   "metadata": {},
   "outputs": [
    {
     "data": {
      "text/html": [
       "<div>\n",
       "<style scoped>\n",
       "    .dataframe tbody tr th:only-of-type {\n",
       "        vertical-align: middle;\n",
       "    }\n",
       "\n",
       "    .dataframe tbody tr th {\n",
       "        vertical-align: top;\n",
       "    }\n",
       "\n",
       "    .dataframe thead th {\n",
       "        text-align: right;\n",
       "    }\n",
       "</style>\n",
       "<table border=\"1\" class=\"dataframe\">\n",
       "  <thead>\n",
       "    <tr style=\"text-align: right;\">\n",
       "      <th></th>\n",
       "      <th>ingredients</th>\n",
       "    </tr>\n",
       "  </thead>\n",
       "  <tbody>\n",
       "    <tr>\n",
       "      <th>0</th>\n",
       "      <td>[whole chicken, kosher salt, acorn squash, uns...</td>\n",
       "    </tr>\n",
       "    <tr>\n",
       "      <th>1</th>\n",
       "      <td>[egg white, new potato, kosher salt, pepper]</td>\n",
       "    </tr>\n",
       "    <tr>\n",
       "      <th>2</th>\n",
       "      <td>[evaporated milk, whole milk, garlic powder, o...</td>\n",
       "    </tr>\n",
       "    <tr>\n",
       "      <th>3</th>\n",
       "      <td>[round, loaf, olive oil, sausage, unsalted but...</td>\n",
       "    </tr>\n",
       "    <tr>\n",
       "      <th>4</th>\n",
       "      <td>[dark brown sugar, hot water, fresh lemon juic...</td>\n",
       "    </tr>\n",
       "    <tr>\n",
       "      <th>...</th>\n",
       "      <td>...</td>\n",
       "    </tr>\n",
       "    <tr>\n",
       "      <th>13496</th>\n",
       "      <td>[all-purpose flour, unsweetened cocoa powder, ...</td>\n",
       "    </tr>\n",
       "    <tr>\n",
       "      <th>13497</th>\n",
       "      <td>[lemon, squash, olive oil, onion, couscous, ac...</td>\n",
       "    </tr>\n",
       "    <tr>\n",
       "      <th>13498</th>\n",
       "      <td>[katsuo bushi, dried bonito flake, dashi, sake...</td>\n",
       "    </tr>\n",
       "    <tr>\n",
       "      <th>13499</th>\n",
       "      <td>[unsalted butter, baby spinach, phyllo]</td>\n",
       "    </tr>\n",
       "    <tr>\n",
       "      <th>13500</th>\n",
       "      <td>[tomato, juice, garlic clove, sugar, salt, oli...</td>\n",
       "    </tr>\n",
       "  </tbody>\n",
       "</table>\n",
       "<p>13501 rows × 1 columns</p>\n",
       "</div>"
      ],
      "text/plain": [
       "                                             ingredients\n",
       "0      [whole chicken, kosher salt, acorn squash, uns...\n",
       "1           [egg white, new potato, kosher salt, pepper]\n",
       "2      [evaporated milk, whole milk, garlic powder, o...\n",
       "3      [round, loaf, olive oil, sausage, unsalted but...\n",
       "4      [dark brown sugar, hot water, fresh lemon juic...\n",
       "...                                                  ...\n",
       "13496  [all-purpose flour, unsweetened cocoa powder, ...\n",
       "13497  [lemon, squash, olive oil, onion, couscous, ac...\n",
       "13498  [katsuo bushi, dried bonito flake, dashi, sake...\n",
       "13499            [unsalted butter, baby spinach, phyllo]\n",
       "13500  [tomato, juice, garlic clove, sugar, salt, oli...\n",
       "\n",
       "[13501 rows x 1 columns]"
      ]
     },
     "execution_count": 49,
     "metadata": {},
     "output_type": "execute_result"
    }
   ],
   "source": [
    "filepath = 'data/dataset_1.json'\n",
    "\n",
    "additional_recipes = pd.read_json(filepath, orient='table')\n",
    "\n",
    "additional_recipes"
   ]
  },
  {
   "cell_type": "code",
   "execution_count": 48,
   "metadata": {},
   "outputs": [
    {
     "data": {
      "text/html": [
       "<div>\n",
       "<style scoped>\n",
       "    .dataframe tbody tr th:only-of-type {\n",
       "        vertical-align: middle;\n",
       "    }\n",
       "\n",
       "    .dataframe tbody tr th {\n",
       "        vertical-align: top;\n",
       "    }\n",
       "\n",
       "    .dataframe thead th {\n",
       "        text-align: right;\n",
       "    }\n",
       "</style>\n",
       "<table border=\"1\" class=\"dataframe\">\n",
       "  <thead>\n",
       "    <tr style=\"text-align: right;\">\n",
       "      <th></th>\n",
       "      <th>ingredients</th>\n",
       "    </tr>\n",
       "  </thead>\n",
       "  <tbody>\n",
       "    <tr>\n",
       "      <th>0</th>\n",
       "      <td>[romaine lettuce, black olives, grape tomatoes...</td>\n",
       "    </tr>\n",
       "    <tr>\n",
       "      <th>1</th>\n",
       "      <td>[plain flour, ground pepper, salt, tomatoes, g...</td>\n",
       "    </tr>\n",
       "    <tr>\n",
       "      <th>2</th>\n",
       "      <td>[eggs, pepper, salt, mayonaise, cooking oil, g...</td>\n",
       "    </tr>\n",
       "    <tr>\n",
       "      <th>3</th>\n",
       "      <td>[water, vegetable oil, wheat, salt]</td>\n",
       "    </tr>\n",
       "    <tr>\n",
       "      <th>4</th>\n",
       "      <td>[black pepper, shallots, cornflour, cayenne pe...</td>\n",
       "    </tr>\n",
       "    <tr>\n",
       "      <th>...</th>\n",
       "      <td>...</td>\n",
       "    </tr>\n",
       "    <tr>\n",
       "      <th>53270</th>\n",
       "      <td>[all-purpose flour, unsweetened cocoa powder, ...</td>\n",
       "    </tr>\n",
       "    <tr>\n",
       "      <th>53271</th>\n",
       "      <td>[lemon, squash, olive oil, onion, couscous, ac...</td>\n",
       "    </tr>\n",
       "    <tr>\n",
       "      <th>53272</th>\n",
       "      <td>[katsuo bushi, dried bonito flake, dashi, sake...</td>\n",
       "    </tr>\n",
       "    <tr>\n",
       "      <th>53273</th>\n",
       "      <td>[unsalted butter, baby spinach, phyllo]</td>\n",
       "    </tr>\n",
       "    <tr>\n",
       "      <th>53274</th>\n",
       "      <td>[tomato, juice, garlic clove, sugar, salt, oli...</td>\n",
       "    </tr>\n",
       "  </tbody>\n",
       "</table>\n",
       "<p>53275 rows × 1 columns</p>\n",
       "</div>"
      ],
      "text/plain": [
       "                                             ingredients\n",
       "0      [romaine lettuce, black olives, grape tomatoes...\n",
       "1      [plain flour, ground pepper, salt, tomatoes, g...\n",
       "2      [eggs, pepper, salt, mayonaise, cooking oil, g...\n",
       "3                    [water, vegetable oil, wheat, salt]\n",
       "4      [black pepper, shallots, cornflour, cayenne pe...\n",
       "...                                                  ...\n",
       "53270  [all-purpose flour, unsweetened cocoa powder, ...\n",
       "53271  [lemon, squash, olive oil, onion, couscous, ac...\n",
       "53272  [katsuo bushi, dried bonito flake, dashi, sake...\n",
       "53273            [unsalted butter, baby spinach, phyllo]\n",
       "53274  [tomato, juice, garlic clove, sugar, salt, oli...\n",
       "\n",
       "[53275 rows x 1 columns]"
      ]
     },
     "execution_count": 48,
     "metadata": {},
     "output_type": "execute_result"
    }
   ],
   "source": [
    "full_recipes = pd.concat([recipes, additional_recipes], ignore_index=True)\n",
    "\n",
    "full_recipes"
   ]
  },
  {
   "cell_type": "code",
   "execution_count": 50,
   "metadata": {},
   "outputs": [],
   "source": [
    "model_2 = Word2Vec(full_recipes['ingredients'], vector_size=embedding_size, window=window_size, min_count=min_count, workers=workers)"
   ]
  },
  {
   "cell_type": "code",
   "execution_count": 54,
   "metadata": {},
   "outputs": [
    {
     "data": {
      "text/plain": [
       "[('sausages', 0.8712576031684875),\n",
       " ('lasagne', 0.8651108741760254),\n",
       " ('dried parsley', 0.8599311113357544),\n",
       " ('Italian seasoned breadcrumbs', 0.8477048873901367),\n",
       " ('lasagna noodle', 0.8269242644309998),\n",
       " ('pork sausages', 0.823008120059967),\n",
       " ('garlic bread', 0.8159353137016296),\n",
       " ('ricotta cheese', 0.8115701079368591),\n",
       " ('dried sage', 0.8112384676933289),\n",
       " ('parmesan cheese', 0.8015791177749634)]"
      ]
     },
     "execution_count": 54,
     "metadata": {},
     "output_type": "execute_result"
    }
   ],
   "source": [
    "model_2.wv.most_similar('bread crumbs')"
   ]
  }
 ],
 "metadata": {
  "kernelspec": {
   "display_name": ".venv",
   "language": "python",
   "name": "python3"
  },
  "language_info": {
   "codemirror_mode": {
    "name": "ipython",
    "version": 3
   },
   "file_extension": ".py",
   "mimetype": "text/x-python",
   "name": "python",
   "nbconvert_exporter": "python",
   "pygments_lexer": "ipython3",
   "version": "3.12.8"
  }
 },
 "nbformat": 4,
 "nbformat_minor": 2
}
