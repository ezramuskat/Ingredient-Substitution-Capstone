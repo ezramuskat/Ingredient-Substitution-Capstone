{
 "cells": [
  {
   "cell_type": "markdown",
   "metadata": {},
   "source": [
    "# Distance Model Integration\n",
    "BS\"D\n",
    "\n",
    "In this notebook, I will explore how to integrate the filtering model and the similar ingredients model to create the distance model.\n",
    "\n",
    "The API will accept a list of ingredients (a recipe) and a set of dietary restrictions. It will return a new recipe that meets the dietary restrictions and is similar to the original recipe."
   ]
  },
  {
   "cell_type": "code",
   "execution_count": 10,
   "metadata": {},
   "outputs": [
    {
     "name": "stderr",
     "output_type": "stream",
     "text": [
      "/Users/tuvyamacklin/Documents/Repos/Ingredient-Substitution-Capstone/.venv/lib/python3.11/site-packages/tqdm/auto.py:21: TqdmWarning: IProgress not found. Please update jupyter and ipywidgets. See https://ipywidgets.readthedocs.io/en/stable/user_install.html\n",
      "  from .autonotebook import tqdm as notebook_tqdm\n"
     ]
    }
   ],
   "source": [
    "import pandas as pd\n",
    "import torch.nn as nn\n",
    "from collections import OrderedDict\n",
    "\n",
    "from filtering_model.filtering_model import FilteringModel\n",
    "from similar_ingredients.get_similar_ingredients import load_model as load_similar_ingredients_model"
   ]
  },
  {
   "cell_type": "markdown",
   "metadata": {},
   "source": [
    "## Load the Models\n",
    "### Load the Filtering Model\n",
    "This will be based on how the filtering model is loaded in the \"Data Filtering\" notebook.\n",
    "\n",
    "It seems like the following steps are needed to initialize the filtering model:\n",
    "1. Load the training data\n",
    "2. Define the column name with the ingredient names\n",
    "3. Specify the embeddings to use\n",
    "4. Build the internal model\n",
    "\n",
    "After this the model must be trained and then it can be used to filter the data."
   ]
  },
  {
   "cell_type": "code",
   "execution_count": 2,
   "metadata": {},
   "outputs": [
    {
     "data": {
      "text/html": [
       "<div>\n",
       "<style scoped>\n",
       "    .dataframe tbody tr th:only-of-type {\n",
       "        vertical-align: middle;\n",
       "    }\n",
       "\n",
       "    .dataframe tbody tr th {\n",
       "        vertical-align: top;\n",
       "    }\n",
       "\n",
       "    .dataframe thead th {\n",
       "        text-align: right;\n",
       "    }\n",
       "</style>\n",
       "<table border=\"1\" class=\"dataframe\">\n",
       "  <thead>\n",
       "    <tr style=\"text-align: right;\">\n",
       "      <th></th>\n",
       "      <th>ingredient</th>\n",
       "      <th>vegetarian</th>\n",
       "      <th>vegan</th>\n",
       "      <th>dairy_free</th>\n",
       "      <th>gluten_free</th>\n",
       "    </tr>\n",
       "  </thead>\n",
       "  <tbody>\n",
       "    <tr>\n",
       "      <th>0</th>\n",
       "      <td>salt</td>\n",
       "      <td>yes</td>\n",
       "      <td>yes</td>\n",
       "      <td>yes</td>\n",
       "      <td>yes</td>\n",
       "    </tr>\n",
       "    <tr>\n",
       "      <th>1</th>\n",
       "      <td>olive oil</td>\n",
       "      <td>yes</td>\n",
       "      <td>yes</td>\n",
       "      <td>yes</td>\n",
       "      <td>yes</td>\n",
       "    </tr>\n",
       "    <tr>\n",
       "      <th>2</th>\n",
       "      <td>onions</td>\n",
       "      <td>yes</td>\n",
       "      <td>yes</td>\n",
       "      <td>yes</td>\n",
       "      <td>yes</td>\n",
       "    </tr>\n",
       "    <tr>\n",
       "      <th>3</th>\n",
       "      <td>water</td>\n",
       "      <td>yes</td>\n",
       "      <td>yes</td>\n",
       "      <td>yes</td>\n",
       "      <td>yes</td>\n",
       "    </tr>\n",
       "    <tr>\n",
       "      <th>4</th>\n",
       "      <td>garlic</td>\n",
       "      <td>yes</td>\n",
       "      <td>yes</td>\n",
       "      <td>yes</td>\n",
       "      <td>yes</td>\n",
       "    </tr>\n",
       "    <tr>\n",
       "      <th>...</th>\n",
       "      <td>...</td>\n",
       "      <td>...</td>\n",
       "      <td>...</td>\n",
       "      <td>...</td>\n",
       "      <td>...</td>\n",
       "    </tr>\n",
       "    <tr>\n",
       "      <th>494</th>\n",
       "      <td>boneless chicken breast</td>\n",
       "      <td>no</td>\n",
       "      <td>no</td>\n",
       "      <td>yes</td>\n",
       "      <td>yes</td>\n",
       "    </tr>\n",
       "    <tr>\n",
       "      <th>495</th>\n",
       "      <td>crème fraîche</td>\n",
       "      <td>yes</td>\n",
       "      <td>no</td>\n",
       "      <td>no</td>\n",
       "      <td>yes</td>\n",
       "    </tr>\n",
       "    <tr>\n",
       "      <th>496</th>\n",
       "      <td>cooked white rice</td>\n",
       "      <td>yes</td>\n",
       "      <td>yes</td>\n",
       "      <td>yes</td>\n",
       "      <td>yes</td>\n",
       "    </tr>\n",
       "    <tr>\n",
       "      <th>497</th>\n",
       "      <td>pecans</td>\n",
       "      <td>yes</td>\n",
       "      <td>yes</td>\n",
       "      <td>yes</td>\n",
       "      <td>yes</td>\n",
       "    </tr>\n",
       "    <tr>\n",
       "      <th>498</th>\n",
       "      <td>peppercorns</td>\n",
       "      <td>yes</td>\n",
       "      <td>yes</td>\n",
       "      <td>yes</td>\n",
       "      <td>yes</td>\n",
       "    </tr>\n",
       "  </tbody>\n",
       "</table>\n",
       "<p>499 rows × 5 columns</p>\n",
       "</div>"
      ],
      "text/plain": [
       "                  ingredient vegetarian vegan dairy_free gluten_free\n",
       "0                       salt        yes   yes        yes         yes\n",
       "1                  olive oil        yes   yes        yes         yes\n",
       "2                     onions        yes   yes        yes         yes\n",
       "3                      water        yes   yes        yes         yes\n",
       "4                     garlic        yes   yes        yes         yes\n",
       "..                       ...        ...   ...        ...         ...\n",
       "494  boneless chicken breast         no    no        yes         yes\n",
       "495            crème fraîche        yes    no         no         yes\n",
       "496        cooked white rice        yes   yes        yes         yes\n",
       "497                   pecans        yes   yes        yes         yes\n",
       "498              peppercorns        yes   yes        yes         yes\n",
       "\n",
       "[499 rows x 5 columns]"
      ]
     },
     "execution_count": 2,
     "metadata": {},
     "output_type": "execute_result"
    }
   ],
   "source": [
    "# Load the training data\n",
    "file_path = \"../../data_preparation/classification_dataset/common_ingredients.csv\"\n",
    "training_data = pd.read_csv(file_path)\n",
    "\n",
    "training_data"
   ]
  },
  {
   "cell_type": "code",
   "execution_count": 4,
   "metadata": {},
   "outputs": [],
   "source": [
    "# Build the internal model\n",
    "internal_model = nn.Sequential(OrderedDict([\n",
    "    ('fc1', nn.Linear(768, 256)),\n",
    "    ('relu1', nn.LeakyReLU()),\n",
    "    ('bn1', nn.BatchNorm1d(256)),\n",
    "    ('fc2', nn.Linear(256, 64)),\n",
    "    ('dr1', nn.Dropout(0.3)),\n",
    "    ('relu2', nn.LeakyReLU()),\n",
    "    ('bn2', nn.BatchNorm1d(64)),\n",
    "    ('fc3', nn.Linear(64, 4)),\n",
    "    ('sg1', nn.Sigmoid())\n",
    "]))"
   ]
  },
  {
   "cell_type": "code",
   "execution_count": 5,
   "metadata": {},
   "outputs": [],
   "source": [
    "ingredient_column = 'ingredient'\n",
    "embedding_model = \"facebook/drama-base\"\n",
    "\n",
    "filtering_model = FilteringModel(training_data, ingredient_column, embedding_model, internal_model)"
   ]
  },
  {
   "cell_type": "code",
   "execution_count": 6,
   "metadata": {},
   "outputs": [
    {
     "name": "stderr",
     "output_type": "stream",
     "text": [
      "/Users/tuvyamacklin/Documents/Repos/Ingredient-Substitution-Capstone/.venv/lib/python3.11/site-packages/sklearn/metrics/_classification.py:1565: UndefinedMetricWarning: Precision is ill-defined and being set to 0.0 in labels with no predicted samples. Use `zero_division` parameter to control this behavior.\n",
      "  _warn_prf(average, modifier, f\"{metric.capitalize()} is\", len(result))\n",
      "/Users/tuvyamacklin/Documents/Repos/Ingredient-Substitution-Capstone/.venv/lib/python3.11/site-packages/sklearn/metrics/_classification.py:1565: UndefinedMetricWarning: Precision is ill-defined and being set to 0.0 in labels with no predicted samples. Use `zero_division` parameter to control this behavior.\n",
      "  _warn_prf(average, modifier, f\"{metric.capitalize()} is\", len(result))\n",
      "/Users/tuvyamacklin/Documents/Repos/Ingredient-Substitution-Capstone/.venv/lib/python3.11/site-packages/sklearn/metrics/_classification.py:1565: UndefinedMetricWarning: Precision is ill-defined and being set to 0.0 in labels with no predicted samples. Use `zero_division` parameter to control this behavior.\n",
      "  _warn_prf(average, modifier, f\"{metric.capitalize()} is\", len(result))\n",
      "/Users/tuvyamacklin/Documents/Repos/Ingredient-Substitution-Capstone/.venv/lib/python3.11/site-packages/sklearn/metrics/_classification.py:1565: UndefinedMetricWarning: Precision is ill-defined and being set to 0.0 in labels with no predicted samples. Use `zero_division` parameter to control this behavior.\n",
      "  _warn_prf(average, modifier, f\"{metric.capitalize()} is\", len(result))\n",
      "/Users/tuvyamacklin/Documents/Repos/Ingredient-Substitution-Capstone/.venv/lib/python3.11/site-packages/sklearn/metrics/_classification.py:1565: UndefinedMetricWarning: Precision is ill-defined and being set to 0.0 in labels with no predicted samples. Use `zero_division` parameter to control this behavior.\n",
      "  _warn_prf(average, modifier, f\"{metric.capitalize()} is\", len(result))\n",
      "/Users/tuvyamacklin/Documents/Repos/Ingredient-Substitution-Capstone/.venv/lib/python3.11/site-packages/sklearn/metrics/_classification.py:1565: UndefinedMetricWarning: Precision is ill-defined and being set to 0.0 in labels with no predicted samples. Use `zero_division` parameter to control this behavior.\n",
      "  _warn_prf(average, modifier, f\"{metric.capitalize()} is\", len(result))\n",
      "/Users/tuvyamacklin/Documents/Repos/Ingredient-Substitution-Capstone/.venv/lib/python3.11/site-packages/sklearn/metrics/_classification.py:1565: UndefinedMetricWarning: Precision is ill-defined and being set to 0.0 in labels with no predicted samples. Use `zero_division` parameter to control this behavior.\n",
      "  _warn_prf(average, modifier, f\"{metric.capitalize()} is\", len(result))\n",
      "/Users/tuvyamacklin/Documents/Repos/Ingredient-Substitution-Capstone/.venv/lib/python3.11/site-packages/sklearn/metrics/_classification.py:1565: UndefinedMetricWarning: Precision is ill-defined and being set to 0.0 in labels with no predicted samples. Use `zero_division` parameter to control this behavior.\n",
      "  _warn_prf(average, modifier, f\"{metric.capitalize()} is\", len(result))\n",
      "/Users/tuvyamacklin/Documents/Repos/Ingredient-Substitution-Capstone/.venv/lib/python3.11/site-packages/sklearn/metrics/_classification.py:1565: UndefinedMetricWarning: Precision is ill-defined and being set to 0.0 in labels with no predicted samples. Use `zero_division` parameter to control this behavior.\n",
      "  _warn_prf(average, modifier, f\"{metric.capitalize()} is\", len(result))\n",
      "/Users/tuvyamacklin/Documents/Repos/Ingredient-Substitution-Capstone/.venv/lib/python3.11/site-packages/sklearn/metrics/_classification.py:1565: UndefinedMetricWarning: Precision is ill-defined and being set to 0.0 in labels with no predicted samples. Use `zero_division` parameter to control this behavior.\n",
      "  _warn_prf(average, modifier, f\"{metric.capitalize()} is\", len(result))\n",
      "/Users/tuvyamacklin/Documents/Repos/Ingredient-Substitution-Capstone/.venv/lib/python3.11/site-packages/sklearn/metrics/_classification.py:1565: UndefinedMetricWarning: Precision is ill-defined and being set to 0.0 in labels with no predicted samples. Use `zero_division` parameter to control this behavior.\n",
      "  _warn_prf(average, modifier, f\"{metric.capitalize()} is\", len(result))\n",
      "/Users/tuvyamacklin/Documents/Repos/Ingredient-Substitution-Capstone/.venv/lib/python3.11/site-packages/sklearn/metrics/_classification.py:1565: UndefinedMetricWarning: Precision is ill-defined and being set to 0.0 in labels with no predicted samples. Use `zero_division` parameter to control this behavior.\n",
      "  _warn_prf(average, modifier, f\"{metric.capitalize()} is\", len(result))\n",
      "/Users/tuvyamacklin/Documents/Repos/Ingredient-Substitution-Capstone/.venv/lib/python3.11/site-packages/sklearn/metrics/_classification.py:1565: UndefinedMetricWarning: Precision is ill-defined and being set to 0.0 in labels with no predicted samples. Use `zero_division` parameter to control this behavior.\n",
      "  _warn_prf(average, modifier, f\"{metric.capitalize()} is\", len(result))\n",
      "/Users/tuvyamacklin/Documents/Repos/Ingredient-Substitution-Capstone/.venv/lib/python3.11/site-packages/sklearn/metrics/_classification.py:1565: UndefinedMetricWarning: Precision is ill-defined and being set to 0.0 in labels with no predicted samples. Use `zero_division` parameter to control this behavior.\n",
      "  _warn_prf(average, modifier, f\"{metric.capitalize()} is\", len(result))\n",
      "/Users/tuvyamacklin/Documents/Repos/Ingredient-Substitution-Capstone/.venv/lib/python3.11/site-packages/sklearn/metrics/_classification.py:1565: UndefinedMetricWarning: Precision is ill-defined and being set to 0.0 in labels with no predicted samples. Use `zero_division` parameter to control this behavior.\n",
      "  _warn_prf(average, modifier, f\"{metric.capitalize()} is\", len(result))\n",
      "/Users/tuvyamacklin/Documents/Repos/Ingredient-Substitution-Capstone/.venv/lib/python3.11/site-packages/sklearn/metrics/_classification.py:1565: UndefinedMetricWarning: Precision is ill-defined and being set to 0.0 in labels with no predicted samples. Use `zero_division` parameter to control this behavior.\n",
      "  _warn_prf(average, modifier, f\"{metric.capitalize()} is\", len(result))\n",
      "/Users/tuvyamacklin/Documents/Repos/Ingredient-Substitution-Capstone/.venv/lib/python3.11/site-packages/sklearn/metrics/_classification.py:1565: UndefinedMetricWarning: Precision is ill-defined and being set to 0.0 in labels with no predicted samples. Use `zero_division` parameter to control this behavior.\n",
      "  _warn_prf(average, modifier, f\"{metric.capitalize()} is\", len(result))\n",
      "/Users/tuvyamacklin/Documents/Repos/Ingredient-Substitution-Capstone/.venv/lib/python3.11/site-packages/sklearn/metrics/_classification.py:1565: UndefinedMetricWarning: Precision is ill-defined and being set to 0.0 in labels with no predicted samples. Use `zero_division` parameter to control this behavior.\n",
      "  _warn_prf(average, modifier, f\"{metric.capitalize()} is\", len(result))\n"
     ]
    },
    {
     "name": "stdout",
     "output_type": "stream",
     "text": [
      "Epoch: 1 | Train Loss: 8.351 | Val Loss: 2.812 | Train Acc: 0.163 | Val Acc: 0.03 | Train Pre: 0.992 | Val Pre: 0.7 | Train Rec: 0.992 | Val Rec: 0.7\n",
      "Epoch: 2 | Train Loss: 7.199 | Val Loss: 2.595 | Train Acc: 0.27 | Val Acc: 0.023 | Train Pre: 0.994 | Val Pre: 0.727 | Train Rec: 0.994 | Val Rec: 0.727\n",
      "Epoch: 3 | Train Loss: 6.646 | Val Loss: 2.226 | Train Acc: 0.396 | Val Acc: 0.182 | Train Pre: 0.998 | Val Pre: 0.931 | Train Rec: 0.998 | Val Rec: 0.931\n",
      "Epoch: 4 | Train Loss: 6.17 | Val Loss: 1.762 | Train Acc: 0.51 | Val Acc: 0.705 | Train Pre: 0.998 | Val Pre: 0.987 | Train Rec: 0.998 | Val Rec: 0.987\n",
      "Epoch: 5 | Train Loss: 5.956 | Val Loss: 1.794 | Train Acc: 0.585 | Val Acc: 0.652 | Train Pre: 0.998 | Val Pre: 0.99 | Train Rec: 0.998 | Val Rec: 0.99\n",
      "Epoch: 6 | Train Loss: 5.157 | Val Loss: 1.515 | Train Acc: 0.667 | Val Acc: 0.795 | Train Pre: 0.998 | Val Pre: 0.984 | Train Rec: 0.998 | Val Rec: 0.984\n",
      "Epoch: 7 | Train Loss: 4.798 | Val Loss: 1.431 | Train Acc: 0.695 | Val Acc: 0.811 | Train Pre: 1.0 | Val Pre: 0.984 | Train Rec: 1.0 | Val Rec: 0.984\n",
      "Epoch: 8 | Train Loss: 4.784 | Val Loss: 1.501 | Train Acc: 0.755 | Val Acc: 0.561 | Train Pre: 0.998 | Val Pre: 0.923 | Train Rec: 0.998 | Val Rec: 0.923\n"
     ]
    },
    {
     "name": "stderr",
     "output_type": "stream",
     "text": [
      "/Users/tuvyamacklin/Documents/Repos/Ingredient-Substitution-Capstone/.venv/lib/python3.11/site-packages/sklearn/metrics/_classification.py:1565: UndefinedMetricWarning: Precision is ill-defined and being set to 0.0 in labels with no predicted samples. Use `zero_division` parameter to control this behavior.\n",
      "  _warn_prf(average, modifier, f\"{metric.capitalize()} is\", len(result))\n",
      "/Users/tuvyamacklin/Documents/Repos/Ingredient-Substitution-Capstone/.venv/lib/python3.11/site-packages/sklearn/metrics/_classification.py:1565: UndefinedMetricWarning: Precision is ill-defined and being set to 0.0 in labels with no predicted samples. Use `zero_division` parameter to control this behavior.\n",
      "  _warn_prf(average, modifier, f\"{metric.capitalize()} is\", len(result))\n",
      "/Users/tuvyamacklin/Documents/Repos/Ingredient-Substitution-Capstone/.venv/lib/python3.11/site-packages/sklearn/metrics/_classification.py:1565: UndefinedMetricWarning: Precision is ill-defined and being set to 0.0 in labels with no predicted samples. Use `zero_division` parameter to control this behavior.\n",
      "  _warn_prf(average, modifier, f\"{metric.capitalize()} is\", len(result))\n",
      "/Users/tuvyamacklin/Documents/Repos/Ingredient-Substitution-Capstone/.venv/lib/python3.11/site-packages/sklearn/metrics/_classification.py:1565: UndefinedMetricWarning: Precision is ill-defined and being set to 0.0 in labels with no predicted samples. Use `zero_division` parameter to control this behavior.\n",
      "  _warn_prf(average, modifier, f\"{metric.capitalize()} is\", len(result))\n"
     ]
    },
    {
     "name": "stdout",
     "output_type": "stream",
     "text": [
      "Epoch: 9 | Train Loss: 4.256 | Val Loss: 1.53 | Train Acc: 0.762 | Val Acc: 0.735 | Train Pre: 0.998 | Val Pre: 0.986 | Train Rec: 0.998 | Val Rec: 0.986\n",
      "Epoch: 10 | Train Loss: 3.989 | Val Loss: 2.024 | Train Acc: 0.795 | Val Acc: 0.53 | Train Pre: 0.997 | Val Pre: 0.864 | Train Rec: 0.997 | Val Rec: 0.864\n",
      "Epoch: 11 | Train Loss: 3.648 | Val Loss: 1.769 | Train Acc: 0.802 | Val Acc: 0.614 | Train Pre: 0.99 | Val Pre: 0.802 | Train Rec: 0.99 | Val Rec: 0.802\n"
     ]
    },
    {
     "name": "stderr",
     "output_type": "stream",
     "text": [
      "/Users/tuvyamacklin/Documents/Repos/Ingredient-Substitution-Capstone/.venv/lib/python3.11/site-packages/sklearn/metrics/_classification.py:1565: UndefinedMetricWarning: Precision is ill-defined and being set to 0.0 in labels with no predicted samples. Use `zero_division` parameter to control this behavior.\n",
      "  _warn_prf(average, modifier, f\"{metric.capitalize()} is\", len(result))\n",
      "/Users/tuvyamacklin/Documents/Repos/Ingredient-Substitution-Capstone/.venv/lib/python3.11/site-packages/sklearn/metrics/_classification.py:1565: UndefinedMetricWarning: Precision is ill-defined and being set to 0.0 in labels with no predicted samples. Use `zero_division` parameter to control this behavior.\n",
      "  _warn_prf(average, modifier, f\"{metric.capitalize()} is\", len(result))\n",
      "/Users/tuvyamacklin/Documents/Repos/Ingredient-Substitution-Capstone/.venv/lib/python3.11/site-packages/sklearn/metrics/_classification.py:1565: UndefinedMetricWarning: Precision is ill-defined and being set to 0.0 in labels with no predicted samples. Use `zero_division` parameter to control this behavior.\n",
      "  _warn_prf(average, modifier, f\"{metric.capitalize()} is\", len(result))\n",
      "/Users/tuvyamacklin/Documents/Repos/Ingredient-Substitution-Capstone/.venv/lib/python3.11/site-packages/sklearn/metrics/_classification.py:1565: UndefinedMetricWarning: Precision is ill-defined and being set to 0.0 in labels with no predicted samples. Use `zero_division` parameter to control this behavior.\n",
      "  _warn_prf(average, modifier, f\"{metric.capitalize()} is\", len(result))\n"
     ]
    },
    {
     "name": "stdout",
     "output_type": "stream",
     "text": [
      "Epoch: 12 | Train Loss: 3.006 | Val Loss: 0.884 | Train Acc: 0.86 | Val Acc: 0.871 | Train Pre: 0.999 | Val Pre: 0.981 | Train Rec: 0.999 | Val Rec: 0.981\n",
      "Epoch: 13 | Train Loss: 2.906 | Val Loss: 0.838 | Train Acc: 0.844 | Val Acc: 0.871 | Train Pre: 0.995 | Val Pre: 0.918 | Train Rec: 0.995 | Val Rec: 0.918\n",
      "Epoch: 14 | Train Loss: 2.507 | Val Loss: 1.078 | Train Acc: 0.9 | Val Acc: 0.864 | Train Pre: 0.995 | Val Pre: 0.987 | Train Rec: 0.995 | Val Rec: 0.987\n",
      "Epoch: 15 | Train Loss: 2.238 | Val Loss: 1.131 | Train Acc: 0.925 | Val Acc: 0.644 | Train Pre: 0.996 | Val Pre: 0.911 | Train Rec: 0.996 | Val Rec: 0.911\n",
      "Epoch: 16 | Train Loss: 2.064 | Val Loss: 0.894 | Train Acc: 0.872 | Val Acc: 0.886 | Train Pre: 0.995 | Val Pre: 0.979 | Train Rec: 0.995 | Val Rec: 0.979\n",
      "Epoch: 17 | Train Loss: 1.684 | Val Loss: 0.595 | Train Acc: 0.942 | Val Acc: 0.886 | Train Pre: 0.998 | Val Pre: 0.972 | Train Rec: 0.998 | Val Rec: 0.972\n",
      "Epoch: 18 | Train Loss: 1.485 | Val Loss: 0.552 | Train Acc: 0.96 | Val Acc: 0.909 | Train Pre: 0.998 | Val Pre: 0.967 | Train Rec: 0.998 | Val Rec: 0.967\n",
      "Epoch: 19 | Train Loss: 1.44 | Val Loss: 0.525 | Train Acc: 0.951 | Val Acc: 0.902 | Train Pre: 0.997 | Val Pre: 0.968 | Train Rec: 0.997 | Val Rec: 0.968\n",
      "Epoch: 20 | Train Loss: 1.253 | Val Loss: 0.563 | Train Acc: 0.965 | Val Acc: 0.886 | Train Pre: 0.996 | Val Pre: 0.968 | Train Rec: 0.996 | Val Rec: 0.968\n"
     ]
    }
   ],
   "source": [
    "# Train the model\n",
    "filtering_model.train_model(epochs=20,batch_size=33,val_split=0.2)"
   ]
  },
  {
   "cell_type": "code",
   "execution_count": 8,
   "metadata": {},
   "outputs": [
    {
     "data": {
      "text/html": [
       "<div>\n",
       "<style scoped>\n",
       "    .dataframe tbody tr th:only-of-type {\n",
       "        vertical-align: middle;\n",
       "    }\n",
       "\n",
       "    .dataframe tbody tr th {\n",
       "        vertical-align: top;\n",
       "    }\n",
       "\n",
       "    .dataframe thead th {\n",
       "        text-align: right;\n",
       "    }\n",
       "</style>\n",
       "<table border=\"1\" class=\"dataframe\">\n",
       "  <thead>\n",
       "    <tr style=\"text-align: right;\">\n",
       "      <th></th>\n",
       "      <th>ingredient</th>\n",
       "      <th>vegetarian</th>\n",
       "      <th>vegan</th>\n",
       "      <th>dairy_free</th>\n",
       "      <th>gluten_free</th>\n",
       "    </tr>\n",
       "  </thead>\n",
       "  <tbody>\n",
       "    <tr>\n",
       "      <th>0</th>\n",
       "      <td>beef</td>\n",
       "      <td>no</td>\n",
       "      <td>no</td>\n",
       "      <td>yes</td>\n",
       "      <td>yes</td>\n",
       "    </tr>\n",
       "    <tr>\n",
       "      <th>1</th>\n",
       "      <td>onion</td>\n",
       "      <td>yes</td>\n",
       "      <td>yes</td>\n",
       "      <td>yes</td>\n",
       "      <td>yes</td>\n",
       "    </tr>\n",
       "    <tr>\n",
       "      <th>2</th>\n",
       "      <td>garlic</td>\n",
       "      <td>yes</td>\n",
       "      <td>yes</td>\n",
       "      <td>yes</td>\n",
       "      <td>yes</td>\n",
       "    </tr>\n",
       "    <tr>\n",
       "      <th>3</th>\n",
       "      <td>salt</td>\n",
       "      <td>yes</td>\n",
       "      <td>yes</td>\n",
       "      <td>yes</td>\n",
       "      <td>yes</td>\n",
       "    </tr>\n",
       "    <tr>\n",
       "      <th>4</th>\n",
       "      <td>pepper</td>\n",
       "      <td>yes</td>\n",
       "      <td>yes</td>\n",
       "      <td>yes</td>\n",
       "      <td>yes</td>\n",
       "    </tr>\n",
       "    <tr>\n",
       "      <th>5</th>\n",
       "      <td>cheese</td>\n",
       "      <td>yes</td>\n",
       "      <td>no</td>\n",
       "      <td>yes</td>\n",
       "      <td>yes</td>\n",
       "    </tr>\n",
       "    <tr>\n",
       "      <th>6</th>\n",
       "      <td>lettuce</td>\n",
       "      <td>yes</td>\n",
       "      <td>yes</td>\n",
       "      <td>yes</td>\n",
       "      <td>yes</td>\n",
       "    </tr>\n",
       "    <tr>\n",
       "      <th>7</th>\n",
       "      <td>tomato</td>\n",
       "      <td>yes</td>\n",
       "      <td>yes</td>\n",
       "      <td>yes</td>\n",
       "      <td>yes</td>\n",
       "    </tr>\n",
       "    <tr>\n",
       "      <th>8</th>\n",
       "      <td>bun</td>\n",
       "      <td>yes</td>\n",
       "      <td>yes</td>\n",
       "      <td>yes</td>\n",
       "      <td>yes</td>\n",
       "    </tr>\n",
       "  </tbody>\n",
       "</table>\n",
       "</div>"
      ],
      "text/plain": [
       "  ingredient vegetarian vegan dairy_free gluten_free\n",
       "0       beef         no    no        yes         yes\n",
       "1      onion        yes   yes        yes         yes\n",
       "2     garlic        yes   yes        yes         yes\n",
       "3       salt        yes   yes        yes         yes\n",
       "4     pepper        yes   yes        yes         yes\n",
       "5     cheese        yes    no        yes         yes\n",
       "6    lettuce        yes   yes        yes         yes\n",
       "7     tomato        yes   yes        yes         yes\n",
       "8        bun        yes   yes        yes         yes"
      ]
     },
     "execution_count": 8,
     "metadata": {},
     "output_type": "execute_result"
    }
   ],
   "source": [
    "# Try it out on a hamburger recipe\n",
    "recipe = [\"beef\", \"onion\", \"garlic\", \"salt\", \"pepper\", \"cheese\", \"lettuce\", \"tomato\", \"bun\"]\n",
    "\n",
    "filtering_model.filter(recipe, threshold=0.5)"
   ]
  },
  {
   "cell_type": "markdown",
   "metadata": {},
   "source": [
    "#### Loading the Filtering Model V2.0"
   ]
  },
  {
   "cell_type": "code",
   "execution_count": 11,
   "metadata": {},
   "outputs": [],
   "source": [
    "filtering_model_2 = FilteringModel(training_data)"
   ]
  },
  {
   "cell_type": "code",
   "execution_count": 12,
   "metadata": {},
   "outputs": [
    {
     "ename": "ValueError",
     "evalue": "Expected more than 1 value per channel when training, got input size torch.Size([1, 256])",
     "output_type": "error",
     "traceback": [
      "\u001b[31m---------------------------------------------------------------------------\u001b[39m",
      "\u001b[31mValueError\u001b[39m                                Traceback (most recent call last)",
      "\u001b[36mCell\u001b[39m\u001b[36m \u001b[39m\u001b[32mIn[12]\u001b[39m\u001b[32m, line 1\u001b[39m\n\u001b[32m----> \u001b[39m\u001b[32m1\u001b[39m \u001b[43mfiltering_model_2\u001b[49m\u001b[43m.\u001b[49m\u001b[43mtrain_model\u001b[49m\u001b[43m(\u001b[49m\u001b[43m)\u001b[49m\n",
      "\u001b[36mFile \u001b[39m\u001b[32m~/Documents/Repos/Ingredient-Substitution-Capstone/models/distance_model/filtering_model/filtering_model.py:218\u001b[39m, in \u001b[36mFilteringModel.train_model\u001b[39m\u001b[34m(self, epochs, loss_class, optimizer_class, val_split, batch_size, lr, verbose, metric_rounding)\u001b[39m\n\u001b[32m    216\u001b[39m \u001b[38;5;66;03m#Train the model\u001b[39;00m\n\u001b[32m    217\u001b[39m \u001b[38;5;28;01mfor\u001b[39;00m epoch \u001b[38;5;129;01min\u001b[39;00m \u001b[38;5;28mrange\u001b[39m(epochs):\n\u001b[32m--> \u001b[39m\u001b[32m218\u001b[39m   \u001b[38;5;28;43mself\u001b[39;49m\u001b[43m.\u001b[49m\u001b[43m__do_training_iteration\u001b[49m\u001b[43m(\u001b[49m\u001b[43mepoch\u001b[49m\u001b[43m,\u001b[49m\u001b[38;5;28;43mself\u001b[39;49m\u001b[43m.\u001b[49m\u001b[43mmodel\u001b[49m\u001b[43m,\u001b[49m\u001b[43mtrain_loader\u001b[49m\u001b[43m,\u001b[49m\u001b[43mval_loader\u001b[49m\u001b[43m,\u001b[49m\n\u001b[32m    219\u001b[39m \u001b[43m  \u001b[49m\u001b[43mdevice\u001b[49m\u001b[43m,\u001b[49m\u001b[43mloss_fn\u001b[49m\u001b[43m,\u001b[49m\u001b[43moptimizer\u001b[49m\u001b[43m,\u001b[49m\n\u001b[32m    220\u001b[39m \u001b[43m  \u001b[49m\u001b[43mverbose\u001b[49m\u001b[43m=\u001b[49m\u001b[43mverbose\u001b[49m\u001b[43m,\u001b[49m\u001b[43minclude_val\u001b[49m\u001b[43m=\u001b[49m\u001b[43m(\u001b[49m\u001b[43mval_split\u001b[49m\u001b[43m \u001b[49m\u001b[43m!=\u001b[49m\u001b[43m \u001b[49m\u001b[32;43m0\u001b[39;49m\u001b[43m)\u001b[49m\u001b[43m,\u001b[49m\u001b[43mmetric_rounding\u001b[49m\u001b[43m=\u001b[49m\u001b[43mmetric_rounding\u001b[49m\u001b[43m)\u001b[49m\n",
      "\u001b[36mFile \u001b[39m\u001b[32m~/Documents/Repos/Ingredient-Substitution-Capstone/models/distance_model/filtering_model/filtering_model.py:121\u001b[39m, in \u001b[36mFilteringModel.__do_training_iteration\u001b[39m\u001b[34m(self, epoch, model, train_loader, val_loader, device, loss_fn, optimizer, verbose, include_val, metric_rounding)\u001b[39m\n\u001b[32m    118\u001b[39m \u001b[38;5;28;01mfor\u001b[39;00m batch_X, batch_y \u001b[38;5;129;01min\u001b[39;00m train_loader:\n\u001b[32m    119\u001b[39m   batch_X, batch_y = batch_X.to(device), batch_y.to(device)\n\u001b[32m--> \u001b[39m\u001b[32m121\u001b[39m   outputs = \u001b[43mmodel\u001b[49m\u001b[43m(\u001b[49m\u001b[43mbatch_X\u001b[49m\u001b[43m)\u001b[49m  \n\u001b[32m    122\u001b[39m   loss = loss_fn(outputs, batch_y) \n\u001b[32m    124\u001b[39m   loss.backward()\n",
      "\u001b[36mFile \u001b[39m\u001b[32m~/Documents/Repos/Ingredient-Substitution-Capstone/.venv/lib/python3.11/site-packages/torch/nn/modules/module.py:1739\u001b[39m, in \u001b[36mModule._wrapped_call_impl\u001b[39m\u001b[34m(self, *args, **kwargs)\u001b[39m\n\u001b[32m   1737\u001b[39m     \u001b[38;5;28;01mreturn\u001b[39;00m \u001b[38;5;28mself\u001b[39m._compiled_call_impl(*args, **kwargs)  \u001b[38;5;66;03m# type: ignore[misc]\u001b[39;00m\n\u001b[32m   1738\u001b[39m \u001b[38;5;28;01melse\u001b[39;00m:\n\u001b[32m-> \u001b[39m\u001b[32m1739\u001b[39m     \u001b[38;5;28;01mreturn\u001b[39;00m \u001b[38;5;28;43mself\u001b[39;49m\u001b[43m.\u001b[49m\u001b[43m_call_impl\u001b[49m\u001b[43m(\u001b[49m\u001b[43m*\u001b[49m\u001b[43margs\u001b[49m\u001b[43m,\u001b[49m\u001b[43m \u001b[49m\u001b[43m*\u001b[49m\u001b[43m*\u001b[49m\u001b[43mkwargs\u001b[49m\u001b[43m)\u001b[49m\n",
      "\u001b[36mFile \u001b[39m\u001b[32m~/Documents/Repos/Ingredient-Substitution-Capstone/.venv/lib/python3.11/site-packages/torch/nn/modules/module.py:1750\u001b[39m, in \u001b[36mModule._call_impl\u001b[39m\u001b[34m(self, *args, **kwargs)\u001b[39m\n\u001b[32m   1745\u001b[39m \u001b[38;5;66;03m# If we don't have any hooks, we want to skip the rest of the logic in\u001b[39;00m\n\u001b[32m   1746\u001b[39m \u001b[38;5;66;03m# this function, and just call forward.\u001b[39;00m\n\u001b[32m   1747\u001b[39m \u001b[38;5;28;01mif\u001b[39;00m \u001b[38;5;129;01mnot\u001b[39;00m (\u001b[38;5;28mself\u001b[39m._backward_hooks \u001b[38;5;129;01mor\u001b[39;00m \u001b[38;5;28mself\u001b[39m._backward_pre_hooks \u001b[38;5;129;01mor\u001b[39;00m \u001b[38;5;28mself\u001b[39m._forward_hooks \u001b[38;5;129;01mor\u001b[39;00m \u001b[38;5;28mself\u001b[39m._forward_pre_hooks\n\u001b[32m   1748\u001b[39m         \u001b[38;5;129;01mor\u001b[39;00m _global_backward_pre_hooks \u001b[38;5;129;01mor\u001b[39;00m _global_backward_hooks\n\u001b[32m   1749\u001b[39m         \u001b[38;5;129;01mor\u001b[39;00m _global_forward_hooks \u001b[38;5;129;01mor\u001b[39;00m _global_forward_pre_hooks):\n\u001b[32m-> \u001b[39m\u001b[32m1750\u001b[39m     \u001b[38;5;28;01mreturn\u001b[39;00m \u001b[43mforward_call\u001b[49m\u001b[43m(\u001b[49m\u001b[43m*\u001b[49m\u001b[43margs\u001b[49m\u001b[43m,\u001b[49m\u001b[43m \u001b[49m\u001b[43m*\u001b[49m\u001b[43m*\u001b[49m\u001b[43mkwargs\u001b[49m\u001b[43m)\u001b[49m\n\u001b[32m   1752\u001b[39m result = \u001b[38;5;28;01mNone\u001b[39;00m\n\u001b[32m   1753\u001b[39m called_always_called_hooks = \u001b[38;5;28mset\u001b[39m()\n",
      "\u001b[36mFile \u001b[39m\u001b[32m~/Documents/Repos/Ingredient-Substitution-Capstone/.venv/lib/python3.11/site-packages/torch/nn/modules/container.py:250\u001b[39m, in \u001b[36mSequential.forward\u001b[39m\u001b[34m(self, input)\u001b[39m\n\u001b[32m    248\u001b[39m \u001b[38;5;28;01mdef\u001b[39;00m\u001b[38;5;250m \u001b[39m\u001b[34mforward\u001b[39m(\u001b[38;5;28mself\u001b[39m, \u001b[38;5;28minput\u001b[39m):\n\u001b[32m    249\u001b[39m     \u001b[38;5;28;01mfor\u001b[39;00m module \u001b[38;5;129;01min\u001b[39;00m \u001b[38;5;28mself\u001b[39m:\n\u001b[32m--> \u001b[39m\u001b[32m250\u001b[39m         \u001b[38;5;28minput\u001b[39m = \u001b[43mmodule\u001b[49m\u001b[43m(\u001b[49m\u001b[38;5;28;43minput\u001b[39;49m\u001b[43m)\u001b[49m\n\u001b[32m    251\u001b[39m     \u001b[38;5;28;01mreturn\u001b[39;00m \u001b[38;5;28minput\u001b[39m\n",
      "\u001b[36mFile \u001b[39m\u001b[32m~/Documents/Repos/Ingredient-Substitution-Capstone/.venv/lib/python3.11/site-packages/torch/nn/modules/module.py:1739\u001b[39m, in \u001b[36mModule._wrapped_call_impl\u001b[39m\u001b[34m(self, *args, **kwargs)\u001b[39m\n\u001b[32m   1737\u001b[39m     \u001b[38;5;28;01mreturn\u001b[39;00m \u001b[38;5;28mself\u001b[39m._compiled_call_impl(*args, **kwargs)  \u001b[38;5;66;03m# type: ignore[misc]\u001b[39;00m\n\u001b[32m   1738\u001b[39m \u001b[38;5;28;01melse\u001b[39;00m:\n\u001b[32m-> \u001b[39m\u001b[32m1739\u001b[39m     \u001b[38;5;28;01mreturn\u001b[39;00m \u001b[38;5;28;43mself\u001b[39;49m\u001b[43m.\u001b[49m\u001b[43m_call_impl\u001b[49m\u001b[43m(\u001b[49m\u001b[43m*\u001b[49m\u001b[43margs\u001b[49m\u001b[43m,\u001b[49m\u001b[43m \u001b[49m\u001b[43m*\u001b[49m\u001b[43m*\u001b[49m\u001b[43mkwargs\u001b[49m\u001b[43m)\u001b[49m\n",
      "\u001b[36mFile \u001b[39m\u001b[32m~/Documents/Repos/Ingredient-Substitution-Capstone/.venv/lib/python3.11/site-packages/torch/nn/modules/module.py:1750\u001b[39m, in \u001b[36mModule._call_impl\u001b[39m\u001b[34m(self, *args, **kwargs)\u001b[39m\n\u001b[32m   1745\u001b[39m \u001b[38;5;66;03m# If we don't have any hooks, we want to skip the rest of the logic in\u001b[39;00m\n\u001b[32m   1746\u001b[39m \u001b[38;5;66;03m# this function, and just call forward.\u001b[39;00m\n\u001b[32m   1747\u001b[39m \u001b[38;5;28;01mif\u001b[39;00m \u001b[38;5;129;01mnot\u001b[39;00m (\u001b[38;5;28mself\u001b[39m._backward_hooks \u001b[38;5;129;01mor\u001b[39;00m \u001b[38;5;28mself\u001b[39m._backward_pre_hooks \u001b[38;5;129;01mor\u001b[39;00m \u001b[38;5;28mself\u001b[39m._forward_hooks \u001b[38;5;129;01mor\u001b[39;00m \u001b[38;5;28mself\u001b[39m._forward_pre_hooks\n\u001b[32m   1748\u001b[39m         \u001b[38;5;129;01mor\u001b[39;00m _global_backward_pre_hooks \u001b[38;5;129;01mor\u001b[39;00m _global_backward_hooks\n\u001b[32m   1749\u001b[39m         \u001b[38;5;129;01mor\u001b[39;00m _global_forward_hooks \u001b[38;5;129;01mor\u001b[39;00m _global_forward_pre_hooks):\n\u001b[32m-> \u001b[39m\u001b[32m1750\u001b[39m     \u001b[38;5;28;01mreturn\u001b[39;00m \u001b[43mforward_call\u001b[49m\u001b[43m(\u001b[49m\u001b[43m*\u001b[49m\u001b[43margs\u001b[49m\u001b[43m,\u001b[49m\u001b[43m \u001b[49m\u001b[43m*\u001b[49m\u001b[43m*\u001b[49m\u001b[43mkwargs\u001b[49m\u001b[43m)\u001b[49m\n\u001b[32m   1752\u001b[39m result = \u001b[38;5;28;01mNone\u001b[39;00m\n\u001b[32m   1753\u001b[39m called_always_called_hooks = \u001b[38;5;28mset\u001b[39m()\n",
      "\u001b[36mFile \u001b[39m\u001b[32m~/Documents/Repos/Ingredient-Substitution-Capstone/.venv/lib/python3.11/site-packages/torch/nn/modules/batchnorm.py:193\u001b[39m, in \u001b[36m_BatchNorm.forward\u001b[39m\u001b[34m(self, input)\u001b[39m\n\u001b[32m    186\u001b[39m     bn_training = (\u001b[38;5;28mself\u001b[39m.running_mean \u001b[38;5;129;01mis\u001b[39;00m \u001b[38;5;28;01mNone\u001b[39;00m) \u001b[38;5;129;01mand\u001b[39;00m (\u001b[38;5;28mself\u001b[39m.running_var \u001b[38;5;129;01mis\u001b[39;00m \u001b[38;5;28;01mNone\u001b[39;00m)\n\u001b[32m    188\u001b[39m \u001b[38;5;250m\u001b[39m\u001b[33mr\u001b[39m\u001b[33;03m\"\"\"\u001b[39;00m\n\u001b[32m    189\u001b[39m \u001b[33;03mBuffers are only updated if they are to be tracked and we are in training mode. Thus they only need to be\u001b[39;00m\n\u001b[32m    190\u001b[39m \u001b[33;03mpassed when the update should occur (i.e. in training mode when they are tracked), or when buffer stats are\u001b[39;00m\n\u001b[32m    191\u001b[39m \u001b[33;03mused for normalization (i.e. in eval mode when buffers are not None).\u001b[39;00m\n\u001b[32m    192\u001b[39m \u001b[33;03m\"\"\"\u001b[39;00m\n\u001b[32m--> \u001b[39m\u001b[32m193\u001b[39m \u001b[38;5;28;01mreturn\u001b[39;00m \u001b[43mF\u001b[49m\u001b[43m.\u001b[49m\u001b[43mbatch_norm\u001b[49m\u001b[43m(\u001b[49m\n\u001b[32m    194\u001b[39m \u001b[43m    \u001b[49m\u001b[38;5;28;43minput\u001b[39;49m\u001b[43m,\u001b[49m\n\u001b[32m    195\u001b[39m \u001b[43m    \u001b[49m\u001b[38;5;66;43;03m# If buffers are not to be tracked, ensure that they won't be updated\u001b[39;49;00m\n\u001b[32m    196\u001b[39m \u001b[43m    \u001b[49m\u001b[38;5;28;43mself\u001b[39;49m\u001b[43m.\u001b[49m\u001b[43mrunning_mean\u001b[49m\n\u001b[32m    197\u001b[39m \u001b[43m    \u001b[49m\u001b[38;5;28;43;01mif\u001b[39;49;00m\u001b[43m \u001b[49m\u001b[38;5;129;43;01mnot\u001b[39;49;00m\u001b[43m \u001b[49m\u001b[38;5;28;43mself\u001b[39;49m\u001b[43m.\u001b[49m\u001b[43mtraining\u001b[49m\u001b[43m \u001b[49m\u001b[38;5;129;43;01mor\u001b[39;49;00m\u001b[43m \u001b[49m\u001b[38;5;28;43mself\u001b[39;49m\u001b[43m.\u001b[49m\u001b[43mtrack_running_stats\u001b[49m\n\u001b[32m    198\u001b[39m \u001b[43m    \u001b[49m\u001b[38;5;28;43;01melse\u001b[39;49;00m\u001b[43m \u001b[49m\u001b[38;5;28;43;01mNone\u001b[39;49;00m\u001b[43m,\u001b[49m\n\u001b[32m    199\u001b[39m \u001b[43m    \u001b[49m\u001b[38;5;28;43mself\u001b[39;49m\u001b[43m.\u001b[49m\u001b[43mrunning_var\u001b[49m\u001b[43m \u001b[49m\u001b[38;5;28;43;01mif\u001b[39;49;00m\u001b[43m \u001b[49m\u001b[38;5;129;43;01mnot\u001b[39;49;00m\u001b[43m \u001b[49m\u001b[38;5;28;43mself\u001b[39;49m\u001b[43m.\u001b[49m\u001b[43mtraining\u001b[49m\u001b[43m \u001b[49m\u001b[38;5;129;43;01mor\u001b[39;49;00m\u001b[43m \u001b[49m\u001b[38;5;28;43mself\u001b[39;49m\u001b[43m.\u001b[49m\u001b[43mtrack_running_stats\u001b[49m\u001b[43m \u001b[49m\u001b[38;5;28;43;01melse\u001b[39;49;00m\u001b[43m \u001b[49m\u001b[38;5;28;43;01mNone\u001b[39;49;00m\u001b[43m,\u001b[49m\n\u001b[32m    200\u001b[39m \u001b[43m    \u001b[49m\u001b[38;5;28;43mself\u001b[39;49m\u001b[43m.\u001b[49m\u001b[43mweight\u001b[49m\u001b[43m,\u001b[49m\n\u001b[32m    201\u001b[39m \u001b[43m    \u001b[49m\u001b[38;5;28;43mself\u001b[39;49m\u001b[43m.\u001b[49m\u001b[43mbias\u001b[49m\u001b[43m,\u001b[49m\n\u001b[32m    202\u001b[39m \u001b[43m    \u001b[49m\u001b[43mbn_training\u001b[49m\u001b[43m,\u001b[49m\n\u001b[32m    203\u001b[39m \u001b[43m    \u001b[49m\u001b[43mexponential_average_factor\u001b[49m\u001b[43m,\u001b[49m\n\u001b[32m    204\u001b[39m \u001b[43m    \u001b[49m\u001b[38;5;28;43mself\u001b[39;49m\u001b[43m.\u001b[49m\u001b[43meps\u001b[49m\u001b[43m,\u001b[49m\n\u001b[32m    205\u001b[39m \u001b[43m\u001b[49m\u001b[43m)\u001b[49m\n",
      "\u001b[36mFile \u001b[39m\u001b[32m~/Documents/Repos/Ingredient-Substitution-Capstone/.venv/lib/python3.11/site-packages/torch/nn/functional.py:2820\u001b[39m, in \u001b[36mbatch_norm\u001b[39m\u001b[34m(input, running_mean, running_var, weight, bias, training, momentum, eps)\u001b[39m\n\u001b[32m   2807\u001b[39m     \u001b[38;5;28;01mreturn\u001b[39;00m handle_torch_function(\n\u001b[32m   2808\u001b[39m         batch_norm,\n\u001b[32m   2809\u001b[39m         (\u001b[38;5;28minput\u001b[39m, running_mean, running_var, weight, bias),\n\u001b[32m   (...)\u001b[39m\u001b[32m   2817\u001b[39m         eps=eps,\n\u001b[32m   2818\u001b[39m     )\n\u001b[32m   2819\u001b[39m \u001b[38;5;28;01mif\u001b[39;00m training:\n\u001b[32m-> \u001b[39m\u001b[32m2820\u001b[39m     \u001b[43m_verify_batch_size\u001b[49m\u001b[43m(\u001b[49m\u001b[38;5;28;43minput\u001b[39;49m\u001b[43m.\u001b[49m\u001b[43msize\u001b[49m\u001b[43m(\u001b[49m\u001b[43m)\u001b[49m\u001b[43m)\u001b[49m\n\u001b[32m   2822\u001b[39m \u001b[38;5;28;01mreturn\u001b[39;00m torch.batch_norm(\n\u001b[32m   2823\u001b[39m     \u001b[38;5;28minput\u001b[39m,\n\u001b[32m   2824\u001b[39m     weight,\n\u001b[32m   (...)\u001b[39m\u001b[32m   2831\u001b[39m     torch.backends.cudnn.enabled,\n\u001b[32m   2832\u001b[39m )\n",
      "\u001b[36mFile \u001b[39m\u001b[32m~/Documents/Repos/Ingredient-Substitution-Capstone/.venv/lib/python3.11/site-packages/torch/nn/functional.py:2786\u001b[39m, in \u001b[36m_verify_batch_size\u001b[39m\u001b[34m(size)\u001b[39m\n\u001b[32m   2784\u001b[39m     size_prods *= size[i + \u001b[32m2\u001b[39m]\n\u001b[32m   2785\u001b[39m \u001b[38;5;28;01mif\u001b[39;00m size_prods == \u001b[32m1\u001b[39m:\n\u001b[32m-> \u001b[39m\u001b[32m2786\u001b[39m     \u001b[38;5;28;01mraise\u001b[39;00m \u001b[38;5;167;01mValueError\u001b[39;00m(\n\u001b[32m   2787\u001b[39m         \u001b[33mf\u001b[39m\u001b[33m\"\u001b[39m\u001b[33mExpected more than 1 value per channel when training, got input size \u001b[39m\u001b[38;5;132;01m{\u001b[39;00msize\u001b[38;5;132;01m}\u001b[39;00m\u001b[33m\"\u001b[39m\n\u001b[32m   2788\u001b[39m     )\n",
      "\u001b[31mValueError\u001b[39m: Expected more than 1 value per channel when training, got input size torch.Size([1, 256])"
     ]
    }
   ],
   "source": [
    "filtering_model_2.train_model()"
   ]
  },
  {
   "cell_type": "markdown",
   "metadata": {},
   "source": [
    "### Load the Similar Ingredients Model"
   ]
  },
  {
   "cell_type": "code",
   "execution_count": 3,
   "metadata": {},
   "outputs": [],
   "source": [
    "file_path = \"similar_ingredients/all_ingredients.json\"\n",
    "\n",
    "similar_ingredients_model = load_similar_ingredients_model(file_path)"
   ]
  },
  {
   "cell_type": "code",
   "execution_count": 15,
   "metadata": {},
   "outputs": [
    {
     "data": {
      "text/html": [
       "<div>\n",
       "<style scoped>\n",
       "    .dataframe tbody tr th:only-of-type {\n",
       "        vertical-align: middle;\n",
       "    }\n",
       "\n",
       "    .dataframe tbody tr th {\n",
       "        vertical-align: top;\n",
       "    }\n",
       "\n",
       "    .dataframe thead th {\n",
       "        text-align: right;\n",
       "    }\n",
       "</style>\n",
       "<table border=\"1\" class=\"dataframe\">\n",
       "  <thead>\n",
       "    <tr style=\"text-align: right;\">\n",
       "      <th></th>\n",
       "      <th>index</th>\n",
       "      <th>0</th>\n",
       "      <th>1</th>\n",
       "      <th>2</th>\n",
       "      <th>3</th>\n",
       "      <th>4</th>\n",
       "      <th>5</th>\n",
       "      <th>6</th>\n",
       "      <th>7</th>\n",
       "      <th>8</th>\n",
       "      <th>9</th>\n",
       "    </tr>\n",
       "  </thead>\n",
       "  <tbody>\n",
       "    <tr>\n",
       "      <th>0</th>\n",
       "      <td>beef</td>\n",
       "      <td>(meat, 0.7286377549171448)</td>\n",
       "      <td>(Beef, 0.7230441570281982)</td>\n",
       "      <td>(pork, 0.6601365208625793)</td>\n",
       "      <td>(veal, 0.6273409724235535)</td>\n",
       "      <td>(lamb, 0.5826153755187988)</td>\n",
       "      <td>(chicken, 0.577904999256134)</td>\n",
       "      <td>(Meat, 0.5627167820930481)</td>\n",
       "      <td>(chuck roast, 0.5397898554801941)</td>\n",
       "      <td>(Pork, 0.5307552814483643)</td>\n",
       "      <td>(grassfed beef, 0.5286645293235779)</td>\n",
       "    </tr>\n",
       "    <tr>\n",
       "      <th>1</th>\n",
       "      <td>onion</td>\n",
       "      <td>(onions, 0.8558207750320435)</td>\n",
       "      <td>(cauliflower, 0.702358603477478)</td>\n",
       "      <td>(bell pepper, 0.6711967587471008)</td>\n",
       "      <td>(potatoes, 0.6605713963508606)</td>\n",
       "      <td>(garlic, 0.6516684293746948)</td>\n",
       "      <td>(asparagus, 0.6511366963386536)</td>\n",
       "      <td>(shallots, 0.6489439606666565)</td>\n",
       "      <td>(tomatoes, 0.6406427621841431)</td>\n",
       "      <td>(eggplant, 0.6400142908096313)</td>\n",
       "      <td>(cabbage, 0.6383322477340698)</td>\n",
       "    </tr>\n",
       "    <tr>\n",
       "      <th>2</th>\n",
       "      <td>garlic</td>\n",
       "      <td>(fennel, 0.7304399609565735)</td>\n",
       "      <td>(oregano, 0.7030937075614929)</td>\n",
       "      <td>(parsley, 0.7022287249565125)</td>\n",
       "      <td>(basil, 0.6971802711486816)</td>\n",
       "      <td>(cilantro, 0.6914703249931335)</td>\n",
       "      <td>(onions, 0.6913739442825317)</td>\n",
       "      <td>(shallots, 0.6845468878746033)</td>\n",
       "      <td>(cabbage, 0.6810933947563171)</td>\n",
       "      <td>(rosemary, 0.680901288986206)</td>\n",
       "      <td>(roasted garlic, 0.6715270280838013)</td>\n",
       "    </tr>\n",
       "    <tr>\n",
       "      <th>3</th>\n",
       "      <td>salt</td>\n",
       "      <td>(Salt, 0.589695155620575)</td>\n",
       "      <td>(brine, 0.5670109391212463)</td>\n",
       "      <td>(garlic salt, 0.5598366856575012)</td>\n",
       "      <td>(kosher salt, 0.5527639985084534)</td>\n",
       "      <td>(Kosher salt, 0.5492516756057739)</td>\n",
       "      <td>(coarse kosher salt, 0.544251561164856)</td>\n",
       "      <td>(coarse salt, 0.5065730810165405)</td>\n",
       "      <td>(beet juice, 0.4978453814983368)</td>\n",
       "      <td>(wasabi powder, 0.48599207401275635)</td>\n",
       "      <td>(unsalted butter, 0.4835364818572998)</td>\n",
       "    </tr>\n",
       "    <tr>\n",
       "      <th>4</th>\n",
       "      <td>pepper</td>\n",
       "      <td>(cumin, 0.6287866830825806)</td>\n",
       "      <td>(capsicum, 0.6136705875396729)</td>\n",
       "      <td>(garlic, 0.607893705368042)</td>\n",
       "      <td>(peppercorns, 0.604446291923523)</td>\n",
       "      <td>(coriander, 0.6012625694274902)</td>\n",
       "      <td>(sesame seeds, 0.5909296870231628)</td>\n",
       "      <td>(paprika, 0.5800351500511169)</td>\n",
       "      <td>(mustard seeds, 0.5795686841011047)</td>\n",
       "      <td>(cinnamon, 0.576282262802124)</td>\n",
       "      <td>(pepper flakes, 0.575015127658844)</td>\n",
       "    </tr>\n",
       "    <tr>\n",
       "      <th>5</th>\n",
       "      <td>cheese</td>\n",
       "      <td>(goat cheese, 0.7297402620315552)</td>\n",
       "      <td>(Cheese, 0.7286962270736694)</td>\n",
       "      <td>(cheddar cheese, 0.725513756275177)</td>\n",
       "      <td>(Cheddar cheese, 0.6943709254264832)</td>\n",
       "      <td>(Camembert, 0.6623162627220154)</td>\n",
       "      <td>(mozzarella cheese, 0.6550924777984619)</td>\n",
       "      <td>(havarti, 0.6534529328346252)</td>\n",
       "      <td>(camembert, 0.6466249227523804)</td>\n",
       "      <td>(Mozzarella cheese, 0.6437987685203552)</td>\n",
       "      <td>(ricotta, 0.6399509310722351)</td>\n",
       "    </tr>\n",
       "    <tr>\n",
       "      <th>6</th>\n",
       "      <td>lettuce</td>\n",
       "      <td>(spinach, 0.7631042003631592)</td>\n",
       "      <td>(tomatoes, 0.7614434957504272)</td>\n",
       "      <td>(iceberg lettuce, 0.7238020896911621)</td>\n",
       "      <td>(broccoli, 0.715250551700592)</td>\n",
       "      <td>(leaf lettuce, 0.7119097709655762)</td>\n",
       "      <td>(romaine lettuce, 0.7091070413589478)</td>\n",
       "      <td>(cantaloupe, 0.688593864440918)</td>\n",
       "      <td>(asparagus, 0.6758716106414795)</td>\n",
       "      <td>(celery, 0.6734380722045898)</td>\n",
       "      <td>(cauliflower, 0.6686928272247314)</td>\n",
       "    </tr>\n",
       "    <tr>\n",
       "      <th>7</th>\n",
       "      <td>tomato</td>\n",
       "      <td>(tomatoes, 0.8442263007164001)</td>\n",
       "      <td>(lettuce, 0.7069937586784363)</td>\n",
       "      <td>(asparagus, 0.7050933837890625)</td>\n",
       "      <td>(peaches, 0.6938520073890686)</td>\n",
       "      <td>(cherry tomatoes, 0.6897530555725098)</td>\n",
       "      <td>(strawberries, 0.6832595467567444)</td>\n",
       "      <td>(cantaloupe, 0.6780219078063965)</td>\n",
       "      <td>(celery, 0.675195574760437)</td>\n",
       "      <td>(spinach, 0.6682621240615845)</td>\n",
       "      <td>(cauliflower, 0.668158769607544)</td>\n",
       "    </tr>\n",
       "    <tr>\n",
       "      <th>8</th>\n",
       "      <td>bun</td>\n",
       "      <td>(buns, 0.7008675932884216)</td>\n",
       "      <td>(ciabatta roll, 0.5964027643203735)</td>\n",
       "      <td>(toasted buns, 0.5916598439216614)</td>\n",
       "      <td>(ciabatta, 0.5904300808906555)</td>\n",
       "      <td>(shredded cheddar cheese, 0.5894902944564819)</td>\n",
       "      <td>(mashed potatoes, 0.5863385200500488)</td>\n",
       "      <td>(french bread, 0.585828423500061)</td>\n",
       "      <td>(breadstick, 0.5819747447967529)</td>\n",
       "      <td>(cutlet, 0.5814052224159241)</td>\n",
       "      <td>(baguette, 0.5781702995300293)</td>\n",
       "    </tr>\n",
       "  </tbody>\n",
       "</table>\n",
       "</div>"
      ],
      "text/plain": [
       "     index                                  0  \\\n",
       "0     beef         (meat, 0.7286377549171448)   \n",
       "1    onion       (onions, 0.8558207750320435)   \n",
       "2   garlic       (fennel, 0.7304399609565735)   \n",
       "3     salt          (Salt, 0.589695155620575)   \n",
       "4   pepper        (cumin, 0.6287866830825806)   \n",
       "5   cheese  (goat cheese, 0.7297402620315552)   \n",
       "6  lettuce      (spinach, 0.7631042003631592)   \n",
       "7   tomato     (tomatoes, 0.8442263007164001)   \n",
       "8      bun         (buns, 0.7008675932884216)   \n",
       "\n",
       "                                     1                                      2  \\\n",
       "0           (Beef, 0.7230441570281982)             (pork, 0.6601365208625793)   \n",
       "1     (cauliflower, 0.702358603477478)      (bell pepper, 0.6711967587471008)   \n",
       "2        (oregano, 0.7030937075614929)          (parsley, 0.7022287249565125)   \n",
       "3          (brine, 0.5670109391212463)      (garlic salt, 0.5598366856575012)   \n",
       "4       (capsicum, 0.6136705875396729)            (garlic, 0.607893705368042)   \n",
       "5         (Cheese, 0.7286962270736694)    (cheddar cheese, 0.725513756275177)   \n",
       "6       (tomatoes, 0.7614434957504272)  (iceberg lettuce, 0.7238020896911621)   \n",
       "7        (lettuce, 0.7069937586784363)        (asparagus, 0.7050933837890625)   \n",
       "8  (ciabatta roll, 0.5964027643203735)     (toasted buns, 0.5916598439216614)   \n",
       "\n",
       "                                      3  \\\n",
       "0            (veal, 0.6273409724235535)   \n",
       "1        (potatoes, 0.6605713963508606)   \n",
       "2           (basil, 0.6971802711486816)   \n",
       "3     (kosher salt, 0.5527639985084534)   \n",
       "4      (peppercorns, 0.604446291923523)   \n",
       "5  (Cheddar cheese, 0.6943709254264832)   \n",
       "6         (broccoli, 0.715250551700592)   \n",
       "7         (peaches, 0.6938520073890686)   \n",
       "8        (ciabatta, 0.5904300808906555)   \n",
       "\n",
       "                                               4  \\\n",
       "0                     (lamb, 0.5826153755187988)   \n",
       "1                   (garlic, 0.6516684293746948)   \n",
       "2                 (cilantro, 0.6914703249931335)   \n",
       "3              (Kosher salt, 0.5492516756057739)   \n",
       "4                (coriander, 0.6012625694274902)   \n",
       "5                (Camembert, 0.6623162627220154)   \n",
       "6             (leaf lettuce, 0.7119097709655762)   \n",
       "7          (cherry tomatoes, 0.6897530555725098)   \n",
       "8  (shredded cheddar cheese, 0.5894902944564819)   \n",
       "\n",
       "                                         5                                  6  \\\n",
       "0             (chicken, 0.577904999256134)         (Meat, 0.5627167820930481)   \n",
       "1          (asparagus, 0.6511366963386536)     (shallots, 0.6489439606666565)   \n",
       "2             (onions, 0.6913739442825317)     (shallots, 0.6845468878746033)   \n",
       "3  (coarse kosher salt, 0.544251561164856)  (coarse salt, 0.5065730810165405)   \n",
       "4       (sesame seeds, 0.5909296870231628)      (paprika, 0.5800351500511169)   \n",
       "5  (mozzarella cheese, 0.6550924777984619)      (havarti, 0.6534529328346252)   \n",
       "6    (romaine lettuce, 0.7091070413589478)    (cantaloupe, 0.688593864440918)   \n",
       "7       (strawberries, 0.6832595467567444)   (cantaloupe, 0.6780219078063965)   \n",
       "8    (mashed potatoes, 0.5863385200500488)  (french bread, 0.585828423500061)   \n",
       "\n",
       "                                     7  \\\n",
       "0    (chuck roast, 0.5397898554801941)   \n",
       "1       (tomatoes, 0.6406427621841431)   \n",
       "2        (cabbage, 0.6810933947563171)   \n",
       "3     (beet juice, 0.4978453814983368)   \n",
       "4  (mustard seeds, 0.5795686841011047)   \n",
       "5      (camembert, 0.6466249227523804)   \n",
       "6      (asparagus, 0.6758716106414795)   \n",
       "7          (celery, 0.675195574760437)   \n",
       "8     (breadstick, 0.5819747447967529)   \n",
       "\n",
       "                                         8  \\\n",
       "0               (Pork, 0.5307552814483643)   \n",
       "1           (eggplant, 0.6400142908096313)   \n",
       "2            (rosemary, 0.680901288986206)   \n",
       "3     (wasabi powder, 0.48599207401275635)   \n",
       "4            (cinnamon, 0.576282262802124)   \n",
       "5  (Mozzarella cheese, 0.6437987685203552)   \n",
       "6             (celery, 0.6734380722045898)   \n",
       "7            (spinach, 0.6682621240615845)   \n",
       "8             (cutlet, 0.5814052224159241)   \n",
       "\n",
       "                                       9  \n",
       "0    (grassfed beef, 0.5286645293235779)  \n",
       "1          (cabbage, 0.6383322477340698)  \n",
       "2   (roasted garlic, 0.6715270280838013)  \n",
       "3  (unsalted butter, 0.4835364818572998)  \n",
       "4     (pepper flakes, 0.575015127658844)  \n",
       "5          (ricotta, 0.6399509310722351)  \n",
       "6      (cauliflower, 0.6686928272247314)  \n",
       "7       (cauliflower, 0.668158769607544)  \n",
       "8         (baguette, 0.5781702995300293)  "
      ]
     },
     "execution_count": 15,
     "metadata": {},
     "output_type": "execute_result"
    }
   ],
   "source": [
    "# Get similar ingredients for each ingredient in the recipe\n",
    "similar_ingredients = {}\n",
    "\n",
    "for ingredient in recipe:\n",
    "    # Get similar ingredients\n",
    "    similar = similar_ingredients_model(ingredient)\n",
    "    \n",
    "    # Store the similar ingredients in the dictionary\n",
    "    similar_ingredients[ingredient] = similar\n",
    "\n",
    "# Add the results to a dataframe\n",
    "similar_ingredients_df = pd.DataFrame.from_dict(similar_ingredients, orient='index').reset_index()\n",
    "\n",
    "similar_ingredients_df"
   ]
  },
  {
   "cell_type": "code",
   "execution_count": 10,
   "metadata": {},
   "outputs": [
    {
     "name": "stdout",
     "output_type": "stream",
     "text": [
      "Time taken to find similar ingredients: 0.12674307823181152 seconds\n"
     ]
    },
    {
     "data": {
      "text/plain": [
       "[('meat', 0.7286377549171448)]"
      ]
     },
     "execution_count": 10,
     "metadata": {},
     "output_type": "execute_result"
    }
   ],
   "source": [
    "similar_ingredients_model(\"beef\", top_n=1)"
   ]
  },
  {
   "cell_type": "markdown",
   "metadata": {},
   "source": [
    "## Integrate the Models\n",
    "The final model will have three steps:\n",
    "1. Flag the ingredients that violate the dietary restrictions (using the filtering model)\n",
    "2. Find similar ingredients for the flagged ingredients (using the similar ingredients model)\n",
    "3. Pick a new ingredient from the similar ingredients list that is not flagged (using the filtering model)\n",
    "\n",
    "I'd like to define a few hyperparameters for the model that control the threshold for the filtering model for step 1 and step 3, and the number of similar ingredients to return for step 2."
   ]
  },
  {
   "cell_type": "code",
   "execution_count": 66,
   "metadata": {},
   "outputs": [],
   "source": [
    "threshold_1 = 0.5\n",
    "threshold_2 = 0.5\n",
    "num_similar_ingredients = 20"
   ]
  },
  {
   "cell_type": "code",
   "execution_count": 71,
   "metadata": {},
   "outputs": [],
   "source": [
    "# Step 1: Flag the ingredients that violate the dietary restrictions\n",
    "def flag_violations(recipe, dietary_restrictions, threshold=0.5):\n",
    "    '''\n",
    "    Flag ingredients in the recipe that violate dietary restrictions.\n",
    "\n",
    "    Parameters\n",
    "    -----------\n",
    "    recipe : list\n",
    "        List of ingredients in the recipe.\n",
    "\n",
    "    dietary_restrictions : list\n",
    "        List of dietary restrictions to check against. (Can be \"vegan\", \"vegetarian\", \"gluten_free\", or \"dairy_free\")\n",
    "\n",
    "    Returns\n",
    "    --------\n",
    "    non_violations : list\n",
    "        List of ingredients that do not violate the dietary restrictions.\n",
    "\n",
    "    violations : list\n",
    "        List of ingredients that violate the dietary restrictions.\n",
    "    '''\n",
    "\n",
    "    # First run the recipe through the filtering model\n",
    "    filtered_recipe = filtering_model.filter(recipe, threshold=threshold)\n",
    "\n",
    "    # Then convert it to a dictionary of dictionaries\n",
    "    recipe_dict = filtered_recipe.to_dict(orient='records')\n",
    "\n",
    "    # Split the recipe into non-violations and violations\n",
    "    non_violations = []\n",
    "    violations = []\n",
    "\n",
    "    for ingredient in recipe_dict:\n",
    "        violation = False\n",
    "\n",
    "        for restriction in dietary_restrictions:\n",
    "            if ingredient[restriction] == \"no\":\n",
    "                violation = True\n",
    "                break\n",
    "\n",
    "        if violation:\n",
    "            violations.append(ingredient['ingredient'])\n",
    "        else:\n",
    "            non_violations.append(ingredient['ingredient'])\n",
    "    return non_violations, violations"
   ]
  },
  {
   "cell_type": "code",
   "execution_count": 72,
   "metadata": {},
   "outputs": [
    {
     "name": "stdout",
     "output_type": "stream",
     "text": [
      "Non-violations: onion, garlic, salt, pepper, lettuce, tomato\n",
      "Violations: beef, cheese, bun\n"
     ]
    }
   ],
   "source": [
    "restrictions = [\"vegan\", \"gluten_free\"]\n",
    "\n",
    "non_violations, violations = flag_violations(recipe, restrictions, threshold=threshold_1)\n",
    "\n",
    "print(\"Non-violations:\", \", \".join(non_violations))\n",
    "print(\"Violations:\", \", \".join(violations))"
   ]
  },
  {
   "cell_type": "code",
   "execution_count": 73,
   "metadata": {},
   "outputs": [],
   "source": [
    "# Step 2: Get similar ingredients for the violations\n",
    "def get_similar_ingredients(violations, top_n = num_similar_ingredients):\n",
    "    '''\n",
    "    Get similar ingredients for the violations.\n",
    "\n",
    "    Parameters\n",
    "    -----------\n",
    "    violations : list\n",
    "        List of ingredients that violate the dietary restrictions.\n",
    "\n",
    "    top_n : int\n",
    "        Number of similar ingredients to return.\n",
    "\n",
    "    Returns\n",
    "    --------\n",
    "    similar_ingredients : dict\n",
    "        Dictionary of ingredients and their similar ingredients.\n",
    "    '''\n",
    "\n",
    "    # Get similar ingredients for each violation\n",
    "    similar_ingredients = {}\n",
    "\n",
    "    for ingredient in violations:\n",
    "        # Get similar ingredients\n",
    "        similar = similar_ingredients_model(ingredient, top_n=top_n)\n",
    "    \n",
    "        # Store the similar ingredients in the dictionary\n",
    "        similar_ingredients[ingredient] = similar\n",
    "\n",
    "    return similar_ingredients"
   ]
  },
  {
   "cell_type": "code",
   "execution_count": 74,
   "metadata": {},
   "outputs": [
    {
     "data": {
      "text/plain": [
       "{'beef': [('meat', 0.7286377549171448),\n",
       "  ('Beef', 0.7230441570281982),\n",
       "  ('pork', 0.6601365208625793),\n",
       "  ('veal', 0.6273409724235535),\n",
       "  ('lamb', 0.5826153755187988),\n",
       "  ('chicken', 0.577904999256134),\n",
       "  ('Meat', 0.5627167820930481),\n",
       "  ('chuck roast', 0.5397898554801941),\n",
       "  ('Pork', 0.5307552814483643),\n",
       "  ('grassfed beef', 0.5286645293235779),\n",
       "  ('pork sausages', 0.5261837840080261),\n",
       "  ('venison', 0.5257208347320557),\n",
       "  ('sirloin', 0.5230457186698914),\n",
       "  ('spinach', 0.5227606296539307),\n",
       "  ('beef sirloin', 0.5160597562789917),\n",
       "  ('poultry', 0.5132147073745728),\n",
       "  ('steak', 0.5128119587898254),\n",
       "  ('hamburger', 0.5067266225814819),\n",
       "  ('cheese', 0.5016943216323853),\n",
       "  ('cheddar cheese', 0.5011695027351379)],\n",
       " 'cheese': [('goat cheese', 0.7297402620315552),\n",
       "  ('Cheese', 0.7286962270736694),\n",
       "  ('cheddar cheese', 0.725513756275177),\n",
       "  ('Cheddar cheese', 0.6943709254264832),\n",
       "  ('Camembert', 0.6623162627220154),\n",
       "  ('mozzarella cheese', 0.6550924777984619),\n",
       "  ('havarti', 0.6534529328346252),\n",
       "  ('camembert', 0.6466249227523804),\n",
       "  ('Mozzarella cheese', 0.6437987685203552),\n",
       "  ('ricotta', 0.6399509310722351),\n",
       "  ('gouda', 0.6391187310218811),\n",
       "  ('chèvre', 0.6323004364967346),\n",
       "  ('gruyere cheese', 0.6306830644607544),\n",
       "  ('Emmenthal', 0.6300336122512817),\n",
       "  ('Reblochon', 0.6223781108856201),\n",
       "  ('fontina', 0.6207226514816284),\n",
       "  ('Gruyere cheese', 0.6180292367935181),\n",
       "  ('brie cheese', 0.6176565885543823),\n",
       "  ('aged Gouda', 0.6131274700164795),\n",
       "  ('Fontina', 0.6087735295295715)],\n",
       " 'bun': [('buns', 0.7008675932884216),\n",
       "  ('ciabatta roll', 0.5964027643203735),\n",
       "  ('toasted buns', 0.5916598439216614),\n",
       "  ('ciabatta', 0.5904300808906555),\n",
       "  ('shredded cheddar cheese', 0.5894902944564819),\n",
       "  ('mashed potatoes', 0.5863385200500488),\n",
       "  ('french bread', 0.585828423500061),\n",
       "  ('breadstick', 0.5819747447967529),\n",
       "  ('cutlet', 0.5814052224159241),\n",
       "  ('baguette', 0.5781702995300293),\n",
       "  ('hash brown', 0.5755077004432678),\n",
       "  ('brioche buns', 0.5742958784103394),\n",
       "  ('toasted baguette', 0.5703595876693726),\n",
       "  ('shortcrust pastry', 0.5675767064094543),\n",
       "  ('muffin', 0.5664204359054565),\n",
       "  ('puff pastry', 0.5636641383171082),\n",
       "  ('ladyfingers', 0.5625364780426025),\n",
       "  ('coleslaw', 0.5617745518684387),\n",
       "  ('honey mustard dressing', 0.5615352392196655),\n",
       "  ('burger buns', 0.5600311160087585)]}"
      ]
     },
     "execution_count": 74,
     "metadata": {},
     "output_type": "execute_result"
    }
   ],
   "source": [
    "similar_ingredients = get_similar_ingredients(violations)\n",
    "\n",
    "similar_ingredients"
   ]
  },
  {
   "cell_type": "code",
   "execution_count": 76,
   "metadata": {},
   "outputs": [],
   "source": [
    "# Step 3: Pick ingredients from the similar ingredients list that do not violate the dietary restrictions\n",
    "def pick_substitutes(similar_ingredients, dietary_restrictions, num_suggestions = 3):\n",
    "    '''\n",
    "    Pick ingredients from the similar ingredients list that do not violate the dietary restrictions.\n",
    "\n",
    "    Parameters\n",
    "    -----------\n",
    "    similar_ingredients : dict\n",
    "        Dictionary of ingredients and their similar ingredients.\n",
    "\n",
    "    dietary_restrictions : list\n",
    "        List of dietary restrictions to check against. (Can be \"vegan\", \"vegetarian\", \"gluten_free\", or \"dairy_free\")\n",
    "\n",
    "    num_suggestions : int\n",
    "        Number of suggestions to return for each violation.\n",
    "\n",
    "    Returns\n",
    "    --------\n",
    "    substitutes : dict\n",
    "        Dictionary of violations and their substitutes.\n",
    "    '''\n",
    "\n",
    "    # Get substitutes for each violation\n",
    "    substitutes = {}\n",
    "    \n",
    "    for ingredient, similar in similar_ingredients.items():\n",
    "        # Convert the similar ingredients to a dictionary from the ingredient to the similarity score\n",
    "        similar_dict = {i[0]: i[1] for i in similar}\n",
    "\n",
    "        # Get a list of the similar ingredients\n",
    "        similar_list = list(similar_dict.keys())\n",
    "\n",
    "        # Check which of them violate the dietary restrictions\n",
    "        non_violations, _ = flag_violations(similar_list, dietary_restrictions, threshold=threshold_2)\n",
    "\n",
    "        # Sort the non-violations by their similarity score\n",
    "        non_violations = sorted(non_violations, key=lambda x: similar_dict[x], reverse=True)\n",
    "\n",
    "        # Pick the top n suggestions\n",
    "        substitutes[ingredient] = non_violations[:num_suggestions]\n",
    "    return substitutes"
   ]
  },
  {
   "cell_type": "code",
   "execution_count": 77,
   "metadata": {},
   "outputs": [
    {
     "data": {
      "text/plain": [
       "{'beef': ['veal', 'spinach'],\n",
       " 'cheese': ['havarti', 'Reblochon', 'fontina', 'Fontina'],\n",
       " 'bun': ['ciabatta roll',\n",
       "  'toasted buns',\n",
       "  'ciabatta',\n",
       "  'mashed potatoes',\n",
       "  'cutlet']}"
      ]
     },
     "execution_count": 77,
     "metadata": {},
     "output_type": "execute_result"
    }
   ],
   "source": [
    "picked_substitutes = pick_substitutes(similar_ingredients, restrictions, num_suggestions=5)\n",
    "picked_substitutes"
   ]
  },
  {
   "cell_type": "markdown",
   "metadata": {},
   "source": [
    "### Combine the Steps"
   ]
  },
  {
   "cell_type": "code",
   "execution_count": 93,
   "metadata": {},
   "outputs": [],
   "source": [
    "def generate_substitutes(recipe, dietary_restrictions, num_suggestions=3):\n",
    "    '''\n",
    "    Generate substitutes for the recipe based on the dietary restrictions.\n",
    "\n",
    "    Parameters\n",
    "    -----------\n",
    "    recipe : list\n",
    "        List of ingredients in the recipe.\n",
    "\n",
    "    dietary_restrictions : list\n",
    "        List of dietary restrictions to check against. (Can be \"vegan\", \"vegetarian\", \"gluten_free\", or \"dairy_free\")\n",
    "\n",
    "    num_suggestions : int\n",
    "        Number of suggestions to return for each violation.\n",
    "\n",
    "    Returns\n",
    "    --------\n",
    "    substitutes : dict\n",
    "        Dictionary of violations and their substitutes.\n",
    "    '''\n",
    "\n",
    "    # Flag the violations\n",
    "    non_violations, violations = flag_violations(recipe, dietary_restrictions, threshold=threshold_1)\n",
    "\n",
    "    # Get similar ingredients for the violations\n",
    "    similar_ingredients = get_similar_ingredients(violations, top_n=num_similar_ingredients)\n",
    "\n",
    "    # Pick substitutes from the similar ingredients list that do not violate the dietary restrictions\n",
    "    substitutes = pick_substitutes(similar_ingredients, dietary_restrictions, num_suggestions=num_suggestions)\n",
    "\n",
    "    return non_violations, substitutes"
   ]
  },
  {
   "cell_type": "code",
   "execution_count": 100,
   "metadata": {},
   "outputs": [
    {
     "data": {
      "text/plain": [
       "(['onion', 'garlic', 'salt', 'pepper', 'lettuce', 'tomato'],\n",
       " {'beef': ['spinach',\n",
       "   'potatoes',\n",
       "   'fresh spinach',\n",
       "   'Russet potatoes',\n",
       "   'asparagus'],\n",
       "  'cheese': ['Taleggio',\n",
       "   'grana padano',\n",
       "   'spicy salami',\n",
       "   'robiola',\n",
       "   'pepperoni slices'],\n",
       "  'bun': ['mashed potatoes',\n",
       "   'vermicelli noodles',\n",
       "   'Mashed potatoes',\n",
       "   'lavash',\n",
       "   'corn muffin']})"
      ]
     },
     "execution_count": 100,
     "metadata": {},
     "output_type": "execute_result"
    }
   ],
   "source": [
    "threshold_1 = 0.5\n",
    "threshold_2 = 0.9\n",
    "num_similar_ingredients = 100\n",
    "\n",
    "generate_substitutes(recipe, restrictions, num_suggestions=5)"
   ]
  },
  {
   "cell_type": "markdown",
   "metadata": {},
   "source": [
    "## Encapsulate the Model\n",
    "The final model will be encapsulated in a class that has the following methods:\n",
    "1. `__init__`: Initialize the model, and get it ready for use\n",
    "2. generate_substitutes: This will take a list of ingredients and dietary restrictions, and return a new recipe that meets the dietary restrictions and is similar to the original recipe.\n",
    "3. set_hyperparameters: This will set the hyperparameters for the model.\n",
    "4. get_hyperparameters: This will return the hyperparameters for the model.\n",
    "\n",
    "### Demonstration\n",
    "First, the models package must be added to the python path."
   ]
  },
  {
   "cell_type": "code",
   "execution_count": 11,
   "metadata": {},
   "outputs": [],
   "source": [
    "# Add the root of the project to the path\n",
    "# This file is integration_exploration.ipynb\n",
    "import os\n",
    "import sys\n",
    "from pathlib import Path\n",
    "\n",
    "# Get the root directory of the project\n",
    "root_dir = Path(os.getcwd()).resolve().parent.parent\n",
    "# Add the root of the project to the path\n",
    "sys.path.append(str(root_dir))"
   ]
  },
  {
   "cell_type": "code",
   "execution_count": 12,
   "metadata": {},
   "outputs": [],
   "source": [
    "# Import the integrated model\n",
    "from models.distance_model.integrated_model import DistanceModel"
   ]
  },
  {
   "cell_type": "code",
   "execution_count": 15,
   "metadata": {},
   "outputs": [
    {
     "name": "stderr",
     "output_type": "stream",
     "text": [
      "/Users/tuvyamacklin/Documents/Repos/Ingredient-Substitution-Capstone/.venv/lib/python3.11/site-packages/sklearn/metrics/_classification.py:1565: UndefinedMetricWarning: Precision is ill-defined and being set to 0.0 in labels with no predicted samples. Use `zero_division` parameter to control this behavior.\n",
      "  _warn_prf(average, modifier, f\"{metric.capitalize()} is\", len(result))\n",
      "/Users/tuvyamacklin/Documents/Repos/Ingredient-Substitution-Capstone/.venv/lib/python3.11/site-packages/sklearn/metrics/_classification.py:1565: UndefinedMetricWarning: Precision is ill-defined and being set to 0.0 in labels with no predicted samples. Use `zero_division` parameter to control this behavior.\n",
      "  _warn_prf(average, modifier, f\"{metric.capitalize()} is\", len(result))\n",
      "/Users/tuvyamacklin/Documents/Repos/Ingredient-Substitution-Capstone/.venv/lib/python3.11/site-packages/sklearn/metrics/_classification.py:1565: UndefinedMetricWarning: Precision is ill-defined and being set to 0.0 in labels with no predicted samples. Use `zero_division` parameter to control this behavior.\n",
      "  _warn_prf(average, modifier, f\"{metric.capitalize()} is\", len(result))\n",
      "/Users/tuvyamacklin/Documents/Repos/Ingredient-Substitution-Capstone/.venv/lib/python3.11/site-packages/sklearn/metrics/_classification.py:1565: UndefinedMetricWarning: Precision is ill-defined and being set to 0.0 in labels with no predicted samples. Use `zero_division` parameter to control this behavior.\n",
      "  _warn_prf(average, modifier, f\"{metric.capitalize()} is\", len(result))\n",
      "/Users/tuvyamacklin/Documents/Repos/Ingredient-Substitution-Capstone/.venv/lib/python3.11/site-packages/sklearn/metrics/_classification.py:1565: UndefinedMetricWarning: Precision is ill-defined and being set to 0.0 in labels with no predicted samples. Use `zero_division` parameter to control this behavior.\n",
      "  _warn_prf(average, modifier, f\"{metric.capitalize()} is\", len(result))\n",
      "/Users/tuvyamacklin/Documents/Repos/Ingredient-Substitution-Capstone/.venv/lib/python3.11/site-packages/sklearn/metrics/_classification.py:1565: UndefinedMetricWarning: Precision is ill-defined and being set to 0.0 in labels with no predicted samples. Use `zero_division` parameter to control this behavior.\n",
      "  _warn_prf(average, modifier, f\"{metric.capitalize()} is\", len(result))\n",
      "/Users/tuvyamacklin/Documents/Repos/Ingredient-Substitution-Capstone/.venv/lib/python3.11/site-packages/sklearn/metrics/_classification.py:1565: UndefinedMetricWarning: Precision is ill-defined and being set to 0.0 in labels with no predicted samples. Use `zero_division` parameter to control this behavior.\n",
      "  _warn_prf(average, modifier, f\"{metric.capitalize()} is\", len(result))\n",
      "/Users/tuvyamacklin/Documents/Repos/Ingredient-Substitution-Capstone/.venv/lib/python3.11/site-packages/sklearn/metrics/_classification.py:1565: UndefinedMetricWarning: Precision is ill-defined and being set to 0.0 in labels with no predicted samples. Use `zero_division` parameter to control this behavior.\n",
      "  _warn_prf(average, modifier, f\"{metric.capitalize()} is\", len(result))\n",
      "/Users/tuvyamacklin/Documents/Repos/Ingredient-Substitution-Capstone/.venv/lib/python3.11/site-packages/sklearn/metrics/_classification.py:1565: UndefinedMetricWarning: Precision is ill-defined and being set to 0.0 in labels with no predicted samples. Use `zero_division` parameter to control this behavior.\n",
      "  _warn_prf(average, modifier, f\"{metric.capitalize()} is\", len(result))\n",
      "/Users/tuvyamacklin/Documents/Repos/Ingredient-Substitution-Capstone/.venv/lib/python3.11/site-packages/sklearn/metrics/_classification.py:1565: UndefinedMetricWarning: Precision is ill-defined and being set to 0.0 in labels with no predicted samples. Use `zero_division` parameter to control this behavior.\n",
      "  _warn_prf(average, modifier, f\"{metric.capitalize()} is\", len(result))\n",
      "/Users/tuvyamacklin/Documents/Repos/Ingredient-Substitution-Capstone/.venv/lib/python3.11/site-packages/sklearn/metrics/_classification.py:1565: UndefinedMetricWarning: Precision is ill-defined and being set to 0.0 in labels with no predicted samples. Use `zero_division` parameter to control this behavior.\n",
      "  _warn_prf(average, modifier, f\"{metric.capitalize()} is\", len(result))\n",
      "/Users/tuvyamacklin/Documents/Repos/Ingredient-Substitution-Capstone/.venv/lib/python3.11/site-packages/sklearn/metrics/_classification.py:1565: UndefinedMetricWarning: Precision is ill-defined and being set to 0.0 in labels with no predicted samples. Use `zero_division` parameter to control this behavior.\n",
      "  _warn_prf(average, modifier, f\"{metric.capitalize()} is\", len(result))\n",
      "/Users/tuvyamacklin/Documents/Repos/Ingredient-Substitution-Capstone/.venv/lib/python3.11/site-packages/sklearn/metrics/_classification.py:1565: UndefinedMetricWarning: Precision is ill-defined and being set to 0.0 in labels with no predicted samples. Use `zero_division` parameter to control this behavior.\n",
      "  _warn_prf(average, modifier, f\"{metric.capitalize()} is\", len(result))\n",
      "/Users/tuvyamacklin/Documents/Repos/Ingredient-Substitution-Capstone/.venv/lib/python3.11/site-packages/sklearn/metrics/_classification.py:1565: UndefinedMetricWarning: Precision is ill-defined and being set to 0.0 in labels with no predicted samples. Use `zero_division` parameter to control this behavior.\n",
      "  _warn_prf(average, modifier, f\"{metric.capitalize()} is\", len(result))\n",
      "/Users/tuvyamacklin/Documents/Repos/Ingredient-Substitution-Capstone/.venv/lib/python3.11/site-packages/sklearn/metrics/_classification.py:1565: UndefinedMetricWarning: Precision is ill-defined and being set to 0.0 in labels with no predicted samples. Use `zero_division` parameter to control this behavior.\n",
      "  _warn_prf(average, modifier, f\"{metric.capitalize()} is\", len(result))\n",
      "/Users/tuvyamacklin/Documents/Repos/Ingredient-Substitution-Capstone/.venv/lib/python3.11/site-packages/sklearn/metrics/_classification.py:1565: UndefinedMetricWarning: Precision is ill-defined and being set to 0.0 in labels with no predicted samples. Use `zero_division` parameter to control this behavior.\n",
      "  _warn_prf(average, modifier, f\"{metric.capitalize()} is\", len(result))\n"
     ]
    },
    {
     "name": "stdout",
     "output_type": "stream",
     "text": [
      "Epoch: 1 | Train Loss: 8.579 | Val Loss: 2.968 | Train Acc: 0.152 | Val Acc: 0.0 | Train Pre: 0.955 | Val Pre: 0.43 | Train Rec: 0.955 | Val Rec: 0.43\n",
      "Epoch: 2 | Train Loss: 7.518 | Val Loss: 2.754 | Train Acc: 0.284 | Val Acc: 0.053 | Train Pre: 0.996 | Val Pre: 0.742 | Train Rec: 0.996 | Val Rec: 0.742\n",
      "Epoch: 3 | Train Loss: 7.091 | Val Loss: 2.216 | Train Acc: 0.401 | Val Acc: 0.576 | Train Pre: 0.999 | Val Pre: 0.992 | Train Rec: 0.999 | Val Rec: 0.992\n",
      "Epoch: 4 | Train Loss: 6.69 | Val Loss: 1.901 | Train Acc: 0.469 | Val Acc: 0.667 | Train Pre: 0.998 | Val Pre: 0.994 | Train Rec: 0.998 | Val Rec: 0.994\n",
      "Epoch: 5 | Train Loss: 5.969 | Val Loss: 1.725 | Train Acc: 0.545 | Val Acc: 0.818 | Train Pre: 0.999 | Val Pre: 0.993 | Train Rec: 0.999 | Val Rec: 0.993\n"
     ]
    },
    {
     "name": "stderr",
     "output_type": "stream",
     "text": [
      "/Users/tuvyamacklin/Documents/Repos/Ingredient-Substitution-Capstone/.venv/lib/python3.11/site-packages/sklearn/metrics/_classification.py:1565: UndefinedMetricWarning: Precision is ill-defined and being set to 0.0 in labels with no predicted samples. Use `zero_division` parameter to control this behavior.\n",
      "  _warn_prf(average, modifier, f\"{metric.capitalize()} is\", len(result))\n",
      "/Users/tuvyamacklin/Documents/Repos/Ingredient-Substitution-Capstone/.venv/lib/python3.11/site-packages/sklearn/metrics/_classification.py:1565: UndefinedMetricWarning: Precision is ill-defined and being set to 0.0 in labels with no predicted samples. Use `zero_division` parameter to control this behavior.\n",
      "  _warn_prf(average, modifier, f\"{metric.capitalize()} is\", len(result))\n",
      "/Users/tuvyamacklin/Documents/Repos/Ingredient-Substitution-Capstone/.venv/lib/python3.11/site-packages/sklearn/metrics/_classification.py:1565: UndefinedMetricWarning: Precision is ill-defined and being set to 0.0 in labels with no predicted samples. Use `zero_division` parameter to control this behavior.\n",
      "  _warn_prf(average, modifier, f\"{metric.capitalize()} is\", len(result))\n",
      "/Users/tuvyamacklin/Documents/Repos/Ingredient-Substitution-Capstone/.venv/lib/python3.11/site-packages/sklearn/metrics/_classification.py:1565: UndefinedMetricWarning: Precision is ill-defined and being set to 0.0 in labels with no predicted samples. Use `zero_division` parameter to control this behavior.\n",
      "  _warn_prf(average, modifier, f\"{metric.capitalize()} is\", len(result))\n",
      "/Users/tuvyamacklin/Documents/Repos/Ingredient-Substitution-Capstone/.venv/lib/python3.11/site-packages/sklearn/metrics/_classification.py:1565: UndefinedMetricWarning: Precision is ill-defined and being set to 0.0 in labels with no predicted samples. Use `zero_division` parameter to control this behavior.\n",
      "  _warn_prf(average, modifier, f\"{metric.capitalize()} is\", len(result))\n",
      "/Users/tuvyamacklin/Documents/Repos/Ingredient-Substitution-Capstone/.venv/lib/python3.11/site-packages/sklearn/metrics/_classification.py:1565: UndefinedMetricWarning: Precision is ill-defined and being set to 0.0 in labels with no predicted samples. Use `zero_division` parameter to control this behavior.\n",
      "  _warn_prf(average, modifier, f\"{metric.capitalize()} is\", len(result))\n"
     ]
    },
    {
     "name": "stdout",
     "output_type": "stream",
     "text": [
      "Epoch: 6 | Train Loss: 5.723 | Val Loss: 1.627 | Train Acc: 0.625 | Val Acc: 0.508 | Train Pre: 0.998 | Val Pre: 0.804 | Train Rec: 0.998 | Val Rec: 0.804\n",
      "Epoch: 7 | Train Loss: 5.17 | Val Loss: 1.725 | Train Acc: 0.683 | Val Acc: 0.75 | Train Pre: 0.99 | Val Pre: 0.928 | Train Rec: 0.99 | Val Rec: 0.928\n",
      "Epoch: 8 | Train Loss: 4.944 | Val Loss: 1.452 | Train Acc: 0.727 | Val Acc: 0.856 | Train Pre: 0.999 | Val Pre: 0.99 | Train Rec: 0.999 | Val Rec: 0.99\n",
      "Epoch: 9 | Train Loss: 4.484 | Val Loss: 1.284 | Train Acc: 0.776 | Val Acc: 0.864 | Train Pre: 0.999 | Val Pre: 0.995 | Train Rec: 0.999 | Val Rec: 0.995\n",
      "Epoch: 10 | Train Loss: 4.297 | Val Loss: 3.311 | Train Acc: 0.772 | Val Acc: 0.591 | Train Pre: 0.999 | Val Pre: 0.863 | Train Rec: 0.999 | Val Rec: 0.863\n"
     ]
    },
    {
     "name": "stderr",
     "output_type": "stream",
     "text": [
      "/Users/tuvyamacklin/Documents/Repos/Ingredient-Substitution-Capstone/.venv/lib/python3.11/site-packages/sklearn/metrics/_classification.py:1565: UndefinedMetricWarning: Precision is ill-defined and being set to 0.0 in labels with no predicted samples. Use `zero_division` parameter to control this behavior.\n",
      "  _warn_prf(average, modifier, f\"{metric.capitalize()} is\", len(result))\n",
      "/Users/tuvyamacklin/Documents/Repos/Ingredient-Substitution-Capstone/.venv/lib/python3.11/site-packages/sklearn/metrics/_classification.py:1565: UndefinedMetricWarning: Precision is ill-defined and being set to 0.0 in labels with no predicted samples. Use `zero_division` parameter to control this behavior.\n",
      "  _warn_prf(average, modifier, f\"{metric.capitalize()} is\", len(result))\n",
      "/Users/tuvyamacklin/Documents/Repos/Ingredient-Substitution-Capstone/.venv/lib/python3.11/site-packages/sklearn/metrics/_classification.py:1565: UndefinedMetricWarning: Precision is ill-defined and being set to 0.0 in labels with no predicted samples. Use `zero_division` parameter to control this behavior.\n",
      "  _warn_prf(average, modifier, f\"{metric.capitalize()} is\", len(result))\n",
      "/Users/tuvyamacklin/Documents/Repos/Ingredient-Substitution-Capstone/.venv/lib/python3.11/site-packages/sklearn/metrics/_classification.py:1565: UndefinedMetricWarning: Precision is ill-defined and being set to 0.0 in labels with no predicted samples. Use `zero_division` parameter to control this behavior.\n",
      "  _warn_prf(average, modifier, f\"{metric.capitalize()} is\", len(result))\n"
     ]
    },
    {
     "name": "stdout",
     "output_type": "stream",
     "text": [
      "Epoch: 11 | Train Loss: 3.859 | Val Loss: 1.323 | Train Acc: 0.818 | Val Acc: 0.591 | Train Pre: 0.998 | Val Pre: 0.799 | Train Rec: 0.998 | Val Rec: 0.799\n",
      "Epoch: 12 | Train Loss: 3.296 | Val Loss: 1.656 | Train Acc: 0.846 | Val Acc: 0.644 | Train Pre: 0.999 | Val Pre: 0.863 | Train Rec: 0.999 | Val Rec: 0.863\n",
      "Epoch: 13 | Train Loss: 2.976 | Val Loss: 0.938 | Train Acc: 0.893 | Val Acc: 0.879 | Train Pre: 0.999 | Val Pre: 0.984 | Train Rec: 0.999 | Val Rec: 0.984\n",
      "Epoch: 14 | Train Loss: 2.687 | Val Loss: 1.664 | Train Acc: 0.916 | Val Acc: 0.652 | Train Pre: 0.999 | Val Pre: 0.914 | Train Rec: 0.999 | Val Rec: 0.914\n"
     ]
    },
    {
     "name": "stderr",
     "output_type": "stream",
     "text": [
      "/Users/tuvyamacklin/Documents/Repos/Ingredient-Substitution-Capstone/.venv/lib/python3.11/site-packages/sklearn/metrics/_classification.py:1565: UndefinedMetricWarning: Precision is ill-defined and being set to 0.0 in labels with no predicted samples. Use `zero_division` parameter to control this behavior.\n",
      "  _warn_prf(average, modifier, f\"{metric.capitalize()} is\", len(result))\n",
      "/Users/tuvyamacklin/Documents/Repos/Ingredient-Substitution-Capstone/.venv/lib/python3.11/site-packages/sklearn/metrics/_classification.py:1565: UndefinedMetricWarning: Precision is ill-defined and being set to 0.0 in labels with no predicted samples. Use `zero_division` parameter to control this behavior.\n",
      "  _warn_prf(average, modifier, f\"{metric.capitalize()} is\", len(result))\n",
      "/Users/tuvyamacklin/Documents/Repos/Ingredient-Substitution-Capstone/.venv/lib/python3.11/site-packages/sklearn/metrics/_classification.py:1565: UndefinedMetricWarning: Precision is ill-defined and being set to 0.0 in labels with no predicted samples. Use `zero_division` parameter to control this behavior.\n",
      "  _warn_prf(average, modifier, f\"{metric.capitalize()} is\", len(result))\n",
      "/Users/tuvyamacklin/Documents/Repos/Ingredient-Substitution-Capstone/.venv/lib/python3.11/site-packages/sklearn/metrics/_classification.py:1565: UndefinedMetricWarning: Precision is ill-defined and being set to 0.0 in labels with no predicted samples. Use `zero_division` parameter to control this behavior.\n",
      "  _warn_prf(average, modifier, f\"{metric.capitalize()} is\", len(result))\n"
     ]
    },
    {
     "name": "stdout",
     "output_type": "stream",
     "text": [
      "Epoch: 15 | Train Loss: 2.564 | Val Loss: 0.749 | Train Acc: 0.9 | Val Acc: 0.917 | Train Pre: 0.998 | Val Pre: 0.922 | Train Rec: 0.998 | Val Rec: 0.922\n",
      "Epoch: 16 | Train Loss: 2.061 | Val Loss: 2.139 | Train Acc: 0.925 | Val Acc: 0.674 | Train Pre: 0.996 | Val Pre: 0.86 | Train Rec: 0.996 | Val Rec: 0.86\n",
      "Epoch: 17 | Train Loss: 1.989 | Val Loss: 0.666 | Train Acc: 0.937 | Val Acc: 0.917 | Train Pre: 0.997 | Val Pre: 0.98 | Train Rec: 0.997 | Val Rec: 0.98\n"
     ]
    },
    {
     "name": "stderr",
     "output_type": "stream",
     "text": [
      "/Users/tuvyamacklin/Documents/Repos/Ingredient-Substitution-Capstone/.venv/lib/python3.11/site-packages/sklearn/metrics/_classification.py:1565: UndefinedMetricWarning: Precision is ill-defined and being set to 0.0 in labels with no predicted samples. Use `zero_division` parameter to control this behavior.\n",
      "  _warn_prf(average, modifier, f\"{metric.capitalize()} is\", len(result))\n",
      "/Users/tuvyamacklin/Documents/Repos/Ingredient-Substitution-Capstone/.venv/lib/python3.11/site-packages/sklearn/metrics/_classification.py:1565: UndefinedMetricWarning: Precision is ill-defined and being set to 0.0 in labels with no predicted samples. Use `zero_division` parameter to control this behavior.\n",
      "  _warn_prf(average, modifier, f\"{metric.capitalize()} is\", len(result))\n"
     ]
    },
    {
     "name": "stdout",
     "output_type": "stream",
     "text": [
      "Epoch: 18 | Train Loss: 1.779 | Val Loss: 1.717 | Train Acc: 0.93 | Val Acc: 0.659 | Train Pre: 0.996 | Val Pre: 0.862 | Train Rec: 0.996 | Val Rec: 0.862\n",
      "Epoch: 19 | Train Loss: 1.513 | Val Loss: 0.583 | Train Acc: 0.953 | Val Acc: 0.894 | Train Pre: 0.997 | Val Pre: 0.974 | Train Rec: 0.997 | Val Rec: 0.974\n",
      "Epoch: 20 | Train Loss: 1.392 | Val Loss: 0.537 | Train Acc: 0.974 | Val Acc: 0.894 | Train Pre: 1.0 | Val Pre: 0.968 | Train Rec: 1.0 | Val Rec: 0.968\n"
     ]
    }
   ],
   "source": [
    "model = DistanceModel(\n",
    "    filtering_model_training_data_path='../../data_preparation/classification_dataset/common_ingredients.csv',\n",
    "    similar_ingredients_all_ingredients_path='similar_ingredients/all_ingredients.json'\n",
    ")"
   ]
  },
  {
   "cell_type": "code",
   "execution_count": 16,
   "metadata": {},
   "outputs": [],
   "source": [
    "recipe = [\"beef\", \"onion\", \"garlic\", \"salt\", \"pepper\", \"cheese\", \"lettuce\", \"tomato\", \"hamburger bun\"]\n",
    "restrictions = [\"vegan\"]"
   ]
  },
  {
   "cell_type": "code",
   "execution_count": 17,
   "metadata": {},
   "outputs": [
    {
     "data": {
      "text/plain": [
       "['veal',\n",
       " 'onion',\n",
       " 'garlic',\n",
       " 'salt',\n",
       " 'pepper',\n",
       " 'havarti',\n",
       " 'lettuce',\n",
       " 'tomato',\n",
       " 'honey mustard dressing']"
      ]
     },
     "execution_count": 17,
     "metadata": {},
     "output_type": "execute_result"
    }
   ],
   "source": [
    "model.generate_substitutes(recipe, restrictions)"
   ]
  },
  {
   "cell_type": "markdown",
   "metadata": {},
   "source": [
    "## Handling Missing Words\n",
    "_4/6/2025_\n",
    "\n",
    "One of the main errors that we are encountering when using the full model is that the similar ingredients model does not have embeddings for many ingredients. This mainly occurs when the ingredient is a multi-word ingredient. Here I will explore a solution to this problem.\n",
    "\n",
    "My idea is to create an embedding which is the average of the embeddings of the individual words. Then search for that vector in the model.\n",
    "\n",
    "I will also make the model more robust by handling the case where the model can't find an embedding for the input at all.\n",
    "\n",
    "**Update**: Actually it looks like the feature to concatenate multi-word ingredients was never implemented. I will implement it now."
   ]
  },
  {
   "cell_type": "code",
   "execution_count": 1,
   "metadata": {},
   "outputs": [],
   "source": [
    "# Load the get_similar_ingredients model\n",
    "\n",
    "from similar_ingredients.get_similar_ingredients import load_model as load_similar_ingredients_model\n",
    "\n",
    "file_path = \"similar_ingredients/all_ingredients.json\"\n",
    "similar_ingredients_model = load_similar_ingredients_model(file_path)"
   ]
  },
  {
   "cell_type": "code",
   "execution_count": 2,
   "metadata": {},
   "outputs": [
    {
     "data": {
      "text/plain": [
       "[('buns', 0.7008675932884216),\n",
       " ('ciabatta roll', 0.5964027643203735),\n",
       " ('toasted buns', 0.5916598439216614),\n",
       " ('ciabatta', 0.5904300808906555),\n",
       " ('shredded cheddar cheese', 0.5894902944564819),\n",
       " ('mashed potatoes', 0.5863385200500488),\n",
       " ('french bread', 0.585828423500061),\n",
       " ('breadstick', 0.5819747447967529),\n",
       " ('cutlet', 0.5814052224159241),\n",
       " ('baguette', 0.5781702995300293)]"
      ]
     },
     "execution_count": 2,
     "metadata": {},
     "output_type": "execute_result"
    }
   ],
   "source": [
    "similar_ingredients_model(\"bun\")"
   ]
  },
  {
   "cell_type": "code",
   "execution_count": 3,
   "metadata": {},
   "outputs": [
    {
     "data": {
      "text/plain": [
       "[('honey mustard dressing', 0.6502435207366943),\n",
       " ('french bread', 0.645281195640564),\n",
       " ('nacho chips', 0.6402700543403625),\n",
       " ('toasted baguette', 0.631892204284668),\n",
       " ('muffin', 0.6315452456474304),\n",
       " ('shredded cheddar cheese', 0.6302399039268494),\n",
       " ('alfredo sauce', 0.6273813247680664),\n",
       " ('elbow macaroni', 0.6258562803268433),\n",
       " ('sliced cucumber', 0.623972475528717),\n",
       " ('wonton skins', 0.6229598522186279)]"
      ]
     },
     "execution_count": 3,
     "metadata": {},
     "output_type": "execute_result"
    }
   ],
   "source": [
    "similar_ingredients_model(\"hamburger bun\")"
   ]
  },
  {
   "cell_type": "code",
   "execution_count": 16,
   "metadata": {},
   "outputs": [],
   "source": [
    "# Here is the model as it was before\n",
    "import json\n",
    "from gensim import downloader\n",
    "all_ingredients = []\n",
    "with open(file_path, \"r\") as f:\n",
    "    all_ingredients = json.load(f)\n",
    "\n",
    "embedding_model = downloader.load(\"word2vec-google-news-300\")\n",
    "\n",
    "\n",
    "def model(ingredient, top_n = 10):\n",
    "    '''\n",
    "    This function takes in an ingredient and returns a list of similar ingredients.\n",
    "\n",
    "    Parameters\n",
    "    ----------\n",
    "    ingredient : str\n",
    "        The ingredient for which similar ingredients are to be found.\n",
    "\n",
    "    top_n : int\n",
    "        The number of similar ingredients to return. The default value is 10.\n",
    "\n",
    "    Returns\n",
    "    -------\n",
    "    list\n",
    "        A list of similar ingredients.\n",
    "    '''\n",
    "\n",
    "    # Increase the top_n to compensate for the filtering\n",
    "    top_n = top_n * 10\n",
    "\n",
    "    # If the ingredient is a multi-word ingredient, replace spaces with underscores\n",
    "    if ' ' in ingredient:\n",
    "        ingredient = ingredient.replace(' ', '_')\n",
    "\n",
    "    suggestions = embedding_model.most_similar(ingredient, topn=top_n)\n",
    "\n",
    "    filtered_suggestions = []\n",
    "\n",
    "    for suggestion, score in suggestions:\n",
    "        if suggestion.lower().replace(' ', '_') in all_ingredients:\n",
    "            filtered_suggestions.append((suggestion, score))\n",
    "\n",
    "    # Remove the underscores from the suggestions\n",
    "    filtered_suggestions = [(suggestion.replace('_', ' '), score) for suggestion, score in filtered_suggestions]\n",
    "\n",
    "    # Return the top_n suggestions\n",
    "    top_n = top_n // 10\n",
    "    return filtered_suggestions[:top_n]"
   ]
  },
  {
   "cell_type": "code",
   "execution_count": 18,
   "metadata": {},
   "outputs": [
    {
     "ename": "KeyError",
     "evalue": "\"Key 'hamburger bun' not present in vocabulary\"",
     "output_type": "error",
     "traceback": [
      "\u001b[31m---------------------------------------------------------------------------\u001b[39m",
      "\u001b[31mKeyError\u001b[39m                                  Traceback (most recent call last)",
      "\u001b[36mCell\u001b[39m\u001b[36m \u001b[39m\u001b[32mIn[18]\u001b[39m\u001b[32m, line 1\u001b[39m\n\u001b[32m----> \u001b[39m\u001b[32m1\u001b[39m \u001b[43membedding_model\u001b[49m\u001b[43m.\u001b[49m\u001b[43mmost_similar\u001b[49m\u001b[43m(\u001b[49m\u001b[33;43m\"\u001b[39;49m\u001b[33;43mhamburger bun\u001b[39;49m\u001b[33;43m\"\u001b[39;49m\u001b[43m)\u001b[49m\n",
      "\u001b[36mFile \u001b[39m\u001b[32m~/Documents/Repos/Ingredient-Substitution-Capstone/.venv/lib/python3.11/site-packages/gensim/models/keyedvectors.py:841\u001b[39m, in \u001b[36mKeyedVectors.most_similar\u001b[39m\u001b[34m(self, positive, negative, topn, clip_start, clip_end, restrict_vocab, indexer)\u001b[39m\n\u001b[32m    838\u001b[39m         weight[idx] = item[\u001b[32m1\u001b[39m]\n\u001b[32m    840\u001b[39m \u001b[38;5;66;03m# compute the weighted average of all keys\u001b[39;00m\n\u001b[32m--> \u001b[39m\u001b[32m841\u001b[39m mean = \u001b[38;5;28;43mself\u001b[39;49m\u001b[43m.\u001b[49m\u001b[43mget_mean_vector\u001b[49m\u001b[43m(\u001b[49m\u001b[43mkeys\u001b[49m\u001b[43m,\u001b[49m\u001b[43m \u001b[49m\u001b[43mweight\u001b[49m\u001b[43m,\u001b[49m\u001b[43m \u001b[49m\u001b[43mpre_normalize\u001b[49m\u001b[43m=\u001b[49m\u001b[38;5;28;43;01mTrue\u001b[39;49;00m\u001b[43m,\u001b[49m\u001b[43m \u001b[49m\u001b[43mpost_normalize\u001b[49m\u001b[43m=\u001b[49m\u001b[38;5;28;43;01mTrue\u001b[39;49;00m\u001b[43m,\u001b[49m\u001b[43m \u001b[49m\u001b[43mignore_missing\u001b[49m\u001b[43m=\u001b[49m\u001b[38;5;28;43;01mFalse\u001b[39;49;00m\u001b[43m)\u001b[49m\n\u001b[32m    842\u001b[39m all_keys = [\n\u001b[32m    843\u001b[39m     \u001b[38;5;28mself\u001b[39m.get_index(key) \u001b[38;5;28;01mfor\u001b[39;00m key \u001b[38;5;129;01min\u001b[39;00m keys \u001b[38;5;28;01mif\u001b[39;00m \u001b[38;5;28misinstance\u001b[39m(key, _KEY_TYPES) \u001b[38;5;129;01mand\u001b[39;00m \u001b[38;5;28mself\u001b[39m.has_index_for(key)\n\u001b[32m    844\u001b[39m ]\n\u001b[32m    846\u001b[39m \u001b[38;5;28;01mif\u001b[39;00m indexer \u001b[38;5;129;01mis\u001b[39;00m \u001b[38;5;129;01mnot\u001b[39;00m \u001b[38;5;28;01mNone\u001b[39;00m \u001b[38;5;129;01mand\u001b[39;00m \u001b[38;5;28misinstance\u001b[39m(topn, \u001b[38;5;28mint\u001b[39m):\n",
      "\u001b[36mFile \u001b[39m\u001b[32m~/Documents/Repos/Ingredient-Substitution-Capstone/.venv/lib/python3.11/site-packages/gensim/models/keyedvectors.py:518\u001b[39m, in \u001b[36mKeyedVectors.get_mean_vector\u001b[39m\u001b[34m(self, keys, weights, pre_normalize, post_normalize, ignore_missing)\u001b[39m\n\u001b[32m    516\u001b[39m         total_weight += \u001b[38;5;28mabs\u001b[39m(weights[idx])\n\u001b[32m    517\u001b[39m     \u001b[38;5;28;01melif\u001b[39;00m \u001b[38;5;129;01mnot\u001b[39;00m ignore_missing:\n\u001b[32m--> \u001b[39m\u001b[32m518\u001b[39m         \u001b[38;5;28;01mraise\u001b[39;00m \u001b[38;5;167;01mKeyError\u001b[39;00m(\u001b[33mf\u001b[39m\u001b[33m\"\u001b[39m\u001b[33mKey \u001b[39m\u001b[33m'\u001b[39m\u001b[38;5;132;01m{\u001b[39;00mkey\u001b[38;5;132;01m}\u001b[39;00m\u001b[33m'\u001b[39m\u001b[33m not present in vocabulary\u001b[39m\u001b[33m\"\u001b[39m)\n\u001b[32m    520\u001b[39m \u001b[38;5;28;01mif\u001b[39;00m total_weight > \u001b[32m0\u001b[39m:\n\u001b[32m    521\u001b[39m     mean = mean / total_weight\n",
      "\u001b[31mKeyError\u001b[39m: \"Key 'hamburger bun' not present in vocabulary\""
     ]
    }
   ],
   "source": [
    "embedding_model.most_similar(\"hamburger bun\")"
   ]
  },
  {
   "cell_type": "code",
   "execution_count": 19,
   "metadata": {},
   "outputs": [
    {
     "data": {
      "text/plain": [
       "[('hamburger_patty', 0.6944166421890259),\n",
       " ('honey_mustard_dressing', 0.6502435207366943),\n",
       " ('bleu_cheese_dressing', 0.6498620510101318),\n",
       " ('crouton', 0.6495686173439026),\n",
       " ('breaded_fried', 0.6475617289543152),\n",
       " ('pita_pocket', 0.6464435458183289),\n",
       " ('french_bread', 0.645281195640564),\n",
       " ('tortilla_shell', 0.6448255181312561),\n",
       " ('hoagie_roll', 0.6435864567756653),\n",
       " ('pastry_crust', 0.6433483958244324)]"
      ]
     },
     "execution_count": 19,
     "metadata": {},
     "output_type": "execute_result"
    }
   ],
   "source": [
    "embedding_model.most_similar(\"hamburger_bun\")"
   ]
  },
  {
   "cell_type": "code",
   "execution_count": 20,
   "metadata": {},
   "outputs": [
    {
     "data": {
      "text/plain": [
       "[('honey mustard dressing', 0.6502435207366943),\n",
       " ('french bread', 0.645281195640564),\n",
       " ('nacho chips', 0.6402700543403625),\n",
       " ('toasted baguette', 0.631892204284668),\n",
       " ('muffin', 0.6315452456474304),\n",
       " ('shredded cheddar cheese', 0.6302399039268494),\n",
       " ('alfredo sauce', 0.6273813247680664),\n",
       " ('elbow macaroni', 0.6258562803268433),\n",
       " ('sliced cucumber', 0.623972475528717),\n",
       " ('wonton skins', 0.6229598522186279)]"
      ]
     },
     "execution_count": 20,
     "metadata": {},
     "output_type": "execute_result"
    }
   ],
   "source": [
    "model(\"hamburger bun\")"
   ]
  },
  {
   "cell_type": "markdown",
   "metadata": {},
   "source": [
    "## Loading the updated Filtering Model (5/8)"
   ]
  },
  {
   "cell_type": "code",
   "execution_count": 11,
   "metadata": {},
   "outputs": [],
   "source": [
    "# Load the common_ingredients dataset\n",
    "path = \"../../data_preparation/classification_dataset/common_ingredients_1000.csv\"\n",
    "\n",
    "common_ingredients = pd.read_csv(path)"
   ]
  },
  {
   "cell_type": "code",
   "execution_count": 12,
   "metadata": {},
   "outputs": [],
   "source": [
    "filtering_model_v2 = FilteringModel(common_ingredients)"
   ]
  },
  {
   "cell_type": "code",
   "execution_count": 13,
   "metadata": {},
   "outputs": [],
   "source": [
    "filtering_model_v2.train_model(verbose=False)"
   ]
  },
  {
   "cell_type": "code",
   "execution_count": 14,
   "metadata": {},
   "outputs": [
    {
     "data": {
      "text/html": [
       "<div>\n",
       "<style scoped>\n",
       "    .dataframe tbody tr th:only-of-type {\n",
       "        vertical-align: middle;\n",
       "    }\n",
       "\n",
       "    .dataframe tbody tr th {\n",
       "        vertical-align: top;\n",
       "    }\n",
       "\n",
       "    .dataframe thead th {\n",
       "        text-align: right;\n",
       "    }\n",
       "</style>\n",
       "<table border=\"1\" class=\"dataframe\">\n",
       "  <thead>\n",
       "    <tr style=\"text-align: right;\">\n",
       "      <th></th>\n",
       "      <th>ingredient</th>\n",
       "      <th>vegetarian</th>\n",
       "      <th>vegan</th>\n",
       "      <th>dairy_free</th>\n",
       "      <th>gluten_free</th>\n",
       "    </tr>\n",
       "  </thead>\n",
       "  <tbody>\n",
       "    <tr>\n",
       "      <th>0</th>\n",
       "      <td>beef</td>\n",
       "      <td>no</td>\n",
       "      <td>no</td>\n",
       "      <td>yes</td>\n",
       "      <td>yes</td>\n",
       "    </tr>\n",
       "    <tr>\n",
       "      <th>1</th>\n",
       "      <td>onion</td>\n",
       "      <td>yes</td>\n",
       "      <td>yes</td>\n",
       "      <td>yes</td>\n",
       "      <td>yes</td>\n",
       "    </tr>\n",
       "    <tr>\n",
       "      <th>2</th>\n",
       "      <td>garlic</td>\n",
       "      <td>yes</td>\n",
       "      <td>yes</td>\n",
       "      <td>yes</td>\n",
       "      <td>yes</td>\n",
       "    </tr>\n",
       "    <tr>\n",
       "      <th>3</th>\n",
       "      <td>salt</td>\n",
       "      <td>yes</td>\n",
       "      <td>yes</td>\n",
       "      <td>yes</td>\n",
       "      <td>yes</td>\n",
       "    </tr>\n",
       "    <tr>\n",
       "      <th>4</th>\n",
       "      <td>pepper</td>\n",
       "      <td>yes</td>\n",
       "      <td>yes</td>\n",
       "      <td>yes</td>\n",
       "      <td>yes</td>\n",
       "    </tr>\n",
       "    <tr>\n",
       "      <th>5</th>\n",
       "      <td>cheese</td>\n",
       "      <td>yes</td>\n",
       "      <td>no</td>\n",
       "      <td>no</td>\n",
       "      <td>yes</td>\n",
       "    </tr>\n",
       "    <tr>\n",
       "      <th>6</th>\n",
       "      <td>lettuce</td>\n",
       "      <td>yes</td>\n",
       "      <td>yes</td>\n",
       "      <td>yes</td>\n",
       "      <td>yes</td>\n",
       "    </tr>\n",
       "    <tr>\n",
       "      <th>7</th>\n",
       "      <td>tomato</td>\n",
       "      <td>yes</td>\n",
       "      <td>yes</td>\n",
       "      <td>yes</td>\n",
       "      <td>yes</td>\n",
       "    </tr>\n",
       "    <tr>\n",
       "      <th>8</th>\n",
       "      <td>hamburger bun</td>\n",
       "      <td>yes</td>\n",
       "      <td>yes</td>\n",
       "      <td>yes</td>\n",
       "      <td>no</td>\n",
       "    </tr>\n",
       "  </tbody>\n",
       "</table>\n",
       "</div>"
      ],
      "text/plain": [
       "      ingredient vegetarian vegan dairy_free gluten_free\n",
       "0           beef         no    no        yes         yes\n",
       "1          onion        yes   yes        yes         yes\n",
       "2         garlic        yes   yes        yes         yes\n",
       "3           salt        yes   yes        yes         yes\n",
       "4         pepper        yes   yes        yes         yes\n",
       "5         cheese        yes    no         no         yes\n",
       "6        lettuce        yes   yes        yes         yes\n",
       "7         tomato        yes   yes        yes         yes\n",
       "8  hamburger bun        yes   yes        yes          no"
      ]
     },
     "execution_count": 14,
     "metadata": {},
     "output_type": "execute_result"
    }
   ],
   "source": [
    "recipe = [\"beef\", \"onion\", \"garlic\", \"salt\", \"pepper\", \"cheese\", \"lettuce\", \"tomato\", \"hamburger bun\"]\n",
    "\n",
    "filtering_model_v2.filter(recipe)"
   ]
  },
  {
   "cell_type": "markdown",
   "metadata": {},
   "source": [
    "Okay, I updated it in the integrated distance model so now I will see if I can load and use that distance model."
   ]
  },
  {
   "cell_type": "code",
   "execution_count": 1,
   "metadata": {},
   "outputs": [],
   "source": [
    "import sys\n",
    "import os\n",
    "from pathlib import Path\n",
    "\n",
    "# Get the root directory of the project\n",
    "root_dir = Path(os.getcwd()).resolve().parent.parent\n",
    "# Add the root of the project to the path\n",
    "sys.path.append(str(root_dir))"
   ]
  },
  {
   "cell_type": "code",
   "execution_count": 2,
   "metadata": {},
   "outputs": [
    {
     "name": "stderr",
     "output_type": "stream",
     "text": [
      "/Users/tuvyamacklin/Documents/Repos/Ingredient-Substitution-Capstone/.venv/lib/python3.11/site-packages/tqdm/auto.py:21: TqdmWarning: IProgress not found. Please update jupyter and ipywidgets. See https://ipywidgets.readthedocs.io/en/stable/user_install.html\n",
      "  from .autonotebook import tqdm as notebook_tqdm\n"
     ]
    }
   ],
   "source": [
    "from models.distance_model.integrated_model import DistanceModel"
   ]
  },
  {
   "cell_type": "code",
   "execution_count": 3,
   "metadata": {},
   "outputs": [],
   "source": [
    "common_ingredients_path = \"../../data_preparation/classification_dataset/common_ingredients_1000.csv\"\n",
    "all_ingredients_path = \"similar_ingredients/all_ingredients.json\"\n",
    "distance_model_v2 = DistanceModel(filtering_model_training_data_path=common_ingredients_path,\n",
    "                                  similar_ingredients_all_ingredients_path=all_ingredients_path)"
   ]
  },
  {
   "cell_type": "code",
   "execution_count": 7,
   "metadata": {},
   "outputs": [
    {
     "data": {
      "text/plain": [
       "['veal',\n",
       " 'onion',\n",
       " 'garlic',\n",
       " 'salt',\n",
       " 'pepper',\n",
       " 'havarti',\n",
       " 'lettuce',\n",
       " 'tomato',\n",
       " 'hamburger bun']"
      ]
     },
     "execution_count": 7,
     "metadata": {},
     "output_type": "execute_result"
    }
   ],
   "source": [
    "recipe = [\"beef\", \"onion\", \"garlic\", \"salt\", \"pepper\", \"cheese\", \"lettuce\", \"tomato\", \"hamburger bun\"]\n",
    "restrictions = [\"vegan\"]\n",
    "\n",
    "distance_model_v2.generate_substitutes(recipe, restrictions)"
   ]
  },
  {
   "cell_type": "markdown",
   "metadata": {},
   "source": [
    "Well it doesn't run into any errors which is good! It still doesn't seem to be performing too well though."
   ]
  }
 ],
 "metadata": {
  "kernelspec": {
   "display_name": ".venv",
   "language": "python",
   "name": "python3"
  },
  "language_info": {
   "codemirror_mode": {
    "name": "ipython",
    "version": 3
   },
   "file_extension": ".py",
   "mimetype": "text/x-python",
   "name": "python",
   "nbconvert_exporter": "python",
   "pygments_lexer": "ipython3",
   "version": "3.11.10"
  }
 },
 "nbformat": 4,
 "nbformat_minor": 2
}
