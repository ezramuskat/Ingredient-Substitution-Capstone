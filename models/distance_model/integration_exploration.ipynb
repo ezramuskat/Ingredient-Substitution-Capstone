{
 "cells": [
  {
   "cell_type": "markdown",
   "metadata": {},
   "source": [
    "# Distance Model Integration\n",
    "BS\"D\n",
    "\n",
    "In this notebook, I will explore how to integrate the filtering model and the similar ingredients model to create the distance model.\n",
    "\n",
    "The API will accept a list of ingredients (a recipe) and a set of dietary restrictions. It will return a new recipe that meets the dietary restrictions and is similar to the original recipe."
   ]
  },
  {
   "cell_type": "code",
   "execution_count": null,
   "metadata": {
    "vscode": {
     "languageId": "plaintext"
    }
   },
   "outputs": [],
   "source": []
  }
 ],
 "metadata": {
  "language_info": {
   "name": "python"
  }
 },
 "nbformat": 4,
 "nbformat_minor": 2
}
