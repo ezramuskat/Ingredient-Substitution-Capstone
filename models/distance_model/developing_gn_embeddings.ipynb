{
 "cells": [
  {
   "cell_type": "markdown",
   "metadata": {},
   "source": [
    "# Google News Embeddings for Ingredient Suggestions\n",
    "BS\"D\n",
    "\n",
    "In this notebook I will get the Google News Embeddings ready to use for ingredient suggestions. I will use the gensim library to load the embeddings and then I will use the embeddings to suggest ingredients for a given ingredient.\n",
    "\n",
    "The following things need to be done to get the embeddings ready for use:\n",
    "1. Filter out non-food items"
   ]
  },
  {
   "cell_type": "code",
   "execution_count": 1,
   "metadata": {},
   "outputs": [],
   "source": [
    "import pandas as pd\n",
    "import numpy as np\n",
    "import matplotlib.pyplot as plt\n",
    "import seaborn as sns\n",
    "\n",
    "from gensim.models import Word2Vec\n",
    "\n",
    "from tqdm import tqdm"
   ]
  }
 ],
 "metadata": {
  "kernelspec": {
   "display_name": ".venv",
   "language": "python",
   "name": "python3"
  },
  "language_info": {
   "codemirror_mode": {
    "name": "ipython",
    "version": 3
   },
   "file_extension": ".py",
   "mimetype": "text/x-python",
   "name": "python",
   "nbconvert_exporter": "python",
   "pygments_lexer": "ipython3",
   "version": "3.12.8"
  }
 },
 "nbformat": 4,
 "nbformat_minor": 2
}
