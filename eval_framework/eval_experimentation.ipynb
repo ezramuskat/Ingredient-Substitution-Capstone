{
 "cells": [
  {
   "cell_type": "code",
   "execution_count": 4,
   "metadata": {},
   "outputs": [],
   "source": [
    "import pandas as pd\n",
    "import numpy as np"
   ]
  },
  {
   "cell_type": "markdown",
   "metadata": {},
   "source": [
    "Testing out applying the heuristic framework on a single element here"
   ]
  },
  {
   "cell_type": "code",
   "execution_count": 5,
   "metadata": {},
   "outputs": [],
   "source": [
    "import heuristic_model as hm\n",
    "heuristic_model = hm.load_model(\"heuristics.json\")"
   ]
  },
  {
   "cell_type": "code",
   "execution_count": 8,
   "metadata": {},
   "outputs": [],
   "source": [
    "recipes = pd.read_parquet('../data_sources/recipepairs/recipes.parquet') \n",
    "pairs = pd.read_parquet('../data_sources/recipepairs/pairs.parquet') \n",
    "pairs_subset = pairs[pairs['name_iou'] > 0.7]"
   ]
  },
  {
   "cell_type": "code",
   "execution_count": 13,
   "metadata": {},
   "outputs": [],
   "source": [
    "def get_recipe_by_id(id):\n",
    "\treturn recipes.loc[recipes['id'] == id]['ingredients'].explode().tolist()"
   ]
  },
  {
   "cell_type": "markdown",
   "metadata": {},
   "source": [
    "Look at one hand-picked example"
   ]
  },
  {
   "cell_type": "code",
   "execution_count": 16,
   "metadata": {},
   "outputs": [
    {
     "name": "stdout",
     "output_type": "stream",
     "text": [
      "['bean', 'carrot', 'vegan cheese', 'chicken', 'chicken broth', 'coriander', 'corn', 'garlic', 'onion', 'rotel', 'seasoning', 'coconut cream', 'starch', 'tortilla', 'water']\n",
      "['chicken', 'chili powder', 'chipotle chile', 'coriander', 'corn kernel', 'garlic', 'lime juice', 'lime wedge', 'low sodium chicken broth', 'onion', 'salt', 'tomato', 'tortilla', 'vegetable oil']\n"
     ]
    }
   ],
   "source": [
    "generated = heuristic_model(get_recipe_by_id(pairs_subset.iloc[552].base), 'dairy-free')\n",
    "actual = get_recipe_by_id(pairs_subset.iloc[552].target)\n",
    "print(generated)\n",
    "print(actual)"
   ]
  },
  {
   "cell_type": "markdown",
   "metadata": {},
   "source": [
    "We're going to have a number of scenarios like this, where the alternate is significantly different. How do we want to handle metrics in this case? Maybe flatten the pairs subsets so all the alternates are in one thing? We'll need to check if that meaninigfully changes any metrics"
   ]
  },
  {
   "cell_type": "markdown",
   "metadata": {},
   "source": [
    "Next, lets take a look at simple accuracy, where accuracy is defined as \"does the heuristic model produce exactly the target recipe in the dataset?\""
   ]
  },
  {
   "cell_type": "code",
   "execution_count": 32,
   "metadata": {},
   "outputs": [],
   "source": [
    "def is_heuristic_correct(row):\n",
    "\tgenerated = heuristic_model(get_recipe_by_id(row['base']), 'vegan')\n",
    "\tactual = get_recipe_by_id(row['target'])\n",
    "\treturn 1 if set(generated) == set(actual) else 0\n",
    "\n",
    "def is_heuristic_correct_vegetarian(row):\n",
    "\tgenerated = heuristic_model(get_recipe_by_id(row['base']), 'vegetarian')\n",
    "\tactual = get_recipe_by_id(row['target'])\n",
    "\treturn 1 if set(generated) == set(actual) else 0\n",
    "\n",
    "def is_heuristic_correct_df(row):\n",
    "\tgenerated = heuristic_model(get_recipe_by_id(row['base']), 'dairy-free')\n",
    "\tactual = get_recipe_by_id(row['target'])\n",
    "\treturn 1 if set(generated) == set(actual) else 0"
   ]
  },
  {
   "cell_type": "code",
   "execution_count": 33,
   "metadata": {},
   "outputs": [
    {
     "data": {
      "text/plain": [
       "np.float64(0.0001630639720345288)"
      ]
     },
     "execution_count": 33,
     "metadata": {},
     "output_type": "execute_result"
    }
   ],
   "source": [
    "pairs_vegan = pairs_subset[pairs_subset['categories'].apply(lambda x: 'vegan' in x)]\n",
    "pairs_vegan.apply(is_heuristic_correct, axis=1).mean()"
   ]
  },
  {
   "cell_type": "code",
   "execution_count": 34,
   "metadata": {},
   "outputs": [
    {
     "data": {
      "text/plain": [
       "np.float64(7.711467723651843e-06)"
      ]
     },
     "execution_count": 34,
     "metadata": {},
     "output_type": "execute_result"
    }
   ],
   "source": [
    "pairs_vegetarian = pairs_subset[pairs_subset['categories'].apply(lambda x: 'vegetarian' in x)]\n",
    "pairs_vegetarian.apply(is_heuristic_correct_vegetarian, axis=1).mean()"
   ]
  },
  {
   "cell_type": "code",
   "execution_count": 35,
   "metadata": {},
   "outputs": [
    {
     "data": {
      "text/plain": [
       "np.float64(7.87983624949813e-05)"
      ]
     },
     "execution_count": 35,
     "metadata": {},
     "output_type": "execute_result"
    }
   ],
   "source": [
    "pairs_df = pairs_subset[pairs_subset['categories'].apply(lambda x: 'dairy_free' in x)]\n",
    "pairs_df.apply(is_heuristic_correct_df, axis=1).mean()"
   ]
  },
  {
   "cell_type": "markdown",
   "metadata": {},
   "source": [
    "These are ridiculously low numbers. Let's see what happens if we compress the datasets so that we have base-all target mappings"
   ]
  },
  {
   "cell_type": "code",
   "execution_count": 28,
   "metadata": {},
   "outputs": [],
   "source": [
    "def is_heuristic_correct_compressed_vegan(row):\n",
    "\tgenerated = heuristic_model(get_recipe_by_id(row['base']), 'vegan')\n",
    "\tfor target in row['target']:\n",
    "\t\tif set(generated) == set(get_recipe_by_id(target)):\n",
    "\t\t\treturn 1\n",
    "\treturn 0\n",
    "\n",
    "def is_heuristic_correct_compressed_vegetarian(row):\n",
    "\tgenerated = heuristic_model(get_recipe_by_id(row['base']), 'vegetarian')\n",
    "\tfor target in row['target']:\n",
    "\t\tif set(generated) == set(get_recipe_by_id(target)):\n",
    "\t\t\treturn 1\n",
    "\treturn 0\n",
    "\n",
    "def is_heuristic_correct_compressed_df(row):\n",
    "\tgenerated = heuristic_model(get_recipe_by_id(row['base']), 'dairy-free')\n",
    "\tfor target in row['target']:\n",
    "\t\tif set(generated) == set(get_recipe_by_id(target)):\n",
    "\t\t\treturn 1\n",
    "\treturn 0"
   ]
  },
  {
   "cell_type": "code",
   "execution_count": 29,
   "metadata": {},
   "outputs": [
    {
     "data": {
      "text/plain": [
       "np.float64(0.00046063238245648666)"
      ]
     },
     "execution_count": 29,
     "metadata": {},
     "output_type": "execute_result"
    }
   ],
   "source": [
    "pairs_vegan_compressed = pairs_vegan.groupby('base', as_index=False).agg({'target': list})\n",
    "pairs_vegan_compressed.apply(is_heuristic_correct_compressed_vegan, axis=1).mean()"
   ]
  },
  {
   "cell_type": "code",
   "execution_count": 30,
   "metadata": {},
   "outputs": [
    {
     "data": {
      "text/plain": [
       "np.float64(5.076657528683115e-05)"
      ]
     },
     "execution_count": 30,
     "metadata": {},
     "output_type": "execute_result"
    }
   ],
   "source": [
    "pairs_vegetarian_compressed = pairs_vegetarian.groupby('base', as_index=False).agg({'target': list})\n",
    "pairs_vegetarian_compressed.apply(is_heuristic_correct_compressed_vegetarian, axis=1).mean()"
   ]
  },
  {
   "cell_type": "code",
   "execution_count": 31,
   "metadata": {},
   "outputs": [
    {
     "data": {
      "text/plain": [
       "np.float64(0.00036966165086544316)"
      ]
     },
     "execution_count": 31,
     "metadata": {},
     "output_type": "execute_result"
    }
   ],
   "source": [
    "pairs_df_compressed = pairs_df.groupby('base', as_index=False).agg({'target': list})\n",
    "pairs_df_compressed.apply(is_heuristic_correct_compressed_df, axis=1).mean()"
   ]
  },
  {
   "cell_type": "markdown",
   "metadata": {},
   "source": [
    "This does help somewhat, but the numbers are still tiny. Let's try out the method mentioned in the RecipePairs paper; namely, treating this as a multi-label binary classification problem. We'll look at accuracy (or more specifically IoU since defining true negative here is a pain), precision, recall, and F-score"
   ]
  },
  {
   "cell_type": "code",
   "execution_count": 39,
   "metadata": {},
   "outputs": [],
   "source": [
    "def is_heuristic_correct_compressed_mlbc_base(row, restriction):\n",
    "\tgenerated = set(heuristic_model(get_recipe_by_id(row['base']), restriction))\n",
    "\ttp_check = len(generated)\n",
    "\tresults = (0,0,0) # tp, fp, fn\n",
    "\tfor target in row['target']:\n",
    "\t\ttarget_set = set(get_recipe_by_id(target))\n",
    "\t\ttp = len(generated & target_set)\n",
    "\t\tfp = len(generated - target_set)\n",
    "\t\tfn = len(target_set - generated)\n",
    "\t\tsym_diff = fp + fn\n",
    "\t\tif tp == tp_check == len(target_set): # if we have a perfect match; we check lengths since that's faster than equality\n",
    "\t\t\treturn tp, fp, fn\n",
    "\t\telif tp > results[0] or (tp == results[0] and sym_diff < results[1] + results[2]):\n",
    "\t\t\tresults = (tp, fp, fn)\n",
    "\n",
    "\treturn results\n",
    "\n",
    "def is_heuristic_correct_compressed_mlbc_vegan(row):\n",
    "\treturn is_heuristic_correct_compressed_mlbc_base(row, 'vegan')\n",
    "def is_heuristic_correct_compressed_mlbc_vegetarian(row):\n",
    "\treturn is_heuristic_correct_compressed_mlbc_base(row, 'vegetarian')\n",
    "def is_heuristic_correct_compressed_mlbc_df(row):\n",
    "\treturn is_heuristic_correct_compressed_mlbc_base(row, 'dairy-free')\n",
    "\n",
    "def get_eval_metrics(processed_df):\n",
    "\ttp = processed_df['TP'].sum()\n",
    "\tfp = processed_df['FP'].sum()\n",
    "\tfn = processed_df['FN'].sum()\n",
    "\n",
    "\tiou = tp / (tp + fp + fn)\n",
    "\tprint(\"IoU: \", iou)\n",
    "\tprecision = tp / (tp + fp)\n",
    "\tprint(\"Precision: \", precision)\n",
    "\trecall = tp / (tp + fn)\n",
    "\tprint(\"Recall: \", recall)\n",
    "\tf1 = (2 * tp) / ((2 * tp) + fp + fn)\n",
    "\tprint(\"F-1: \", f1)\n"
   ]
  },
  {
   "cell_type": "code",
   "execution_count": 40,
   "metadata": {},
   "outputs": [
    {
     "name": "stdout",
     "output_type": "stream",
     "text": [
      "IoU:  0.27257748656033776\n",
      "Precision:  0.40832239753410443\n",
      "Recall:  0.45052424225842974\n",
      "F-1:  0.42838646674017494\n"
     ]
    }
   ],
   "source": [
    "pairs_vegan_compressed = pairs_vegan.groupby('base', as_index=False).agg({'target': list})\n",
    "pairs_vegan_compressed[['TP', 'FP', 'FN']] = pairs_vegan_compressed.apply(lambda row: pd.Series(is_heuristic_correct_compressed_mlbc_vegan(row)), axis=1)\n",
    "get_eval_metrics(pairs_vegan_compressed)"
   ]
  },
  {
   "cell_type": "code",
   "execution_count": 42,
   "metadata": {},
   "outputs": [
    {
     "name": "stdout",
     "output_type": "stream",
     "text": [
      "IoU:  0.2848157131785171\n",
      "Precision:  0.43045862007255925\n",
      "Recall:  0.45705122299507117\n",
      "F-1:  0.4433565222733912\n"
     ]
    }
   ],
   "source": [
    "pairs_vegetarian_compressed = pairs_vegetarian.groupby('base', as_index=False).agg({'target': list})\n",
    "pairs_vegetarian_compressed[['TP', 'FP', 'FN']] = pairs_vegetarian_compressed.apply(lambda row: pd.Series(is_heuristic_correct_compressed_mlbc_vegetarian(row)), axis=1)\n",
    "get_eval_metrics(pairs_vegetarian_compressed)"
   ]
  },
  {
   "cell_type": "code",
   "execution_count": 43,
   "metadata": {},
   "outputs": [
    {
     "name": "stdout",
     "output_type": "stream",
     "text": [
      "IoU:  0.30149885639203855\n",
      "Precision:  0.44556235571633024\n",
      "Recall:  0.48253060843016915\n",
      "F-1:  0.4633102133148872\n"
     ]
    }
   ],
   "source": [
    "pairs_df_compressed = pairs_df.groupby('base', as_index=False).agg({'target': list})\n",
    "pairs_df_compressed[['TP', 'FP', 'FN']] = pairs_df_compressed.apply(lambda row: pd.Series(is_heuristic_correct_compressed_mlbc_df(row)), axis=1)\n",
    "get_eval_metrics(pairs_df_compressed)"
   ]
  }
 ],
 "metadata": {
  "kernelspec": {
   "display_name": "eval_venv",
   "language": "python",
   "name": "python3"
  },
  "language_info": {
   "codemirror_mode": {
    "name": "ipython",
    "version": 3
   },
   "file_extension": ".py",
   "mimetype": "text/x-python",
   "name": "python",
   "nbconvert_exporter": "python",
   "pygments_lexer": "ipython3",
   "version": "3.13.1"
  }
 },
 "nbformat": 4,
 "nbformat_minor": 2
}
