{
 "cells": [
  {
   "cell_type": "code",
   "execution_count": 4,
   "metadata": {},
   "outputs": [],
   "source": [
    "import pandas as pd\n",
    "import numpy as np"
   ]
  },
  {
   "cell_type": "markdown",
   "metadata": {},
   "source": [
    "Testing out applying the heuristic framework on a single element here"
   ]
  },
  {
   "cell_type": "code",
   "execution_count": 5,
   "metadata": {},
   "outputs": [],
   "source": [
    "import heuristic_model as hm\n",
    "heuristic_model = hm.load_model(\"heuristics.json\")"
   ]
  },
  {
   "cell_type": "code",
   "execution_count": 8,
   "metadata": {},
   "outputs": [],
   "source": [
    "recipes = pd.read_parquet('../data_sources/recipepairs/recipes.parquet') \n",
    "pairs = pd.read_parquet('../data_sources/recipepairs/pairs.parquet') \n",
    "pairs_subset = pairs[pairs['name_iou'] > 0.7]"
   ]
  },
  {
   "cell_type": "code",
   "execution_count": 13,
   "metadata": {},
   "outputs": [],
   "source": [
    "def get_recipe_by_id(id):\n",
    "\treturn recipes.loc[recipes['id'] == id]['ingredients'].explode().tolist()"
   ]
  },
  {
   "cell_type": "markdown",
   "metadata": {},
   "source": [
    "Look at one hand-picked example"
   ]
  },
  {
   "cell_type": "code",
   "execution_count": 16,
   "metadata": {},
   "outputs": [
    {
     "name": "stdout",
     "output_type": "stream",
     "text": [
      "['bean', 'carrot', 'vegan cheese', 'chicken', 'chicken broth', 'coriander', 'corn', 'garlic', 'onion', 'rotel', 'seasoning', 'coconut cream', 'starch', 'tortilla', 'water']\n",
      "['chicken', 'chili powder', 'chipotle chile', 'coriander', 'corn kernel', 'garlic', 'lime juice', 'lime wedge', 'low sodium chicken broth', 'onion', 'salt', 'tomato', 'tortilla', 'vegetable oil']\n"
     ]
    }
   ],
   "source": [
    "generated = heuristic_model(get_recipe_by_id(pairs_subset.iloc[552].base), 'dairy-free')\n",
    "actual = get_recipe_by_id(pairs_subset.iloc[552].target)\n",
    "print(generated)\n",
    "print(actual)"
   ]
  },
  {
   "cell_type": "markdown",
   "metadata": {},
   "source": [
    "We're going to have a number of scenarios like this, where the alternate is significantly different. How do we want to handle metrics in this case? Maybe flatten the pairs subsets so all the alternates are in one thing? We'll need to check if that meaninigfully changes any metrics"
   ]
  },
  {
   "cell_type": "markdown",
   "metadata": {},
   "source": [
    "Next, lets take a look at simple accuracy, where accuracy is defined as \"does the heuristic model produce exactly the target recipe in the dataset?\""
   ]
  },
  {
   "cell_type": "code",
   "execution_count": 18,
   "metadata": {},
   "outputs": [],
   "source": [
    "def is_heuristic_correct(row):\n",
    "\tgenerated = heuristic_model(get_recipe_by_id(row['base']), 'vegan')\n",
    "\tactual = get_recipe_by_id(row['target'])\n",
    "\treturn 1 if set(generated) == set(actual) else 0"
   ]
  },
  {
   "cell_type": "code",
   "execution_count": 19,
   "metadata": {},
   "outputs": [
    {
     "data": {
      "text/plain": [
       "np.float64(0.0001630639720345288)"
      ]
     },
     "execution_count": 19,
     "metadata": {},
     "output_type": "execute_result"
    }
   ],
   "source": [
    "pairs_vegan = pairs_subset[pairs_subset['categories'].apply(lambda x: 'vegan' in x)]\n",
    "pairs_vegan.apply(is_heuristic_correct, axis=1).mean()"
   ]
  },
  {
   "cell_type": "code",
   "execution_count": 20,
   "metadata": {},
   "outputs": [
    {
     "data": {
      "text/plain": [
       "np.float64(7.711467723651843e-06)"
      ]
     },
     "execution_count": 20,
     "metadata": {},
     "output_type": "execute_result"
    }
   ],
   "source": [
    "pairs_vegetarian = pairs_subset[pairs_subset['categories'].apply(lambda x: 'vegetarian' in x)]\n",
    "pairs_vegetarian.apply(is_heuristic_correct, axis=1).mean()"
   ]
  },
  {
   "cell_type": "code",
   "execution_count": 21,
   "metadata": {},
   "outputs": [
    {
     "data": {
      "text/plain": [
       "np.float64(5.6284544639272354e-05)"
      ]
     },
     "execution_count": 21,
     "metadata": {},
     "output_type": "execute_result"
    }
   ],
   "source": [
    "pairs_df = pairs_subset[pairs_subset['categories'].apply(lambda x: 'dairy_free' in x)]\n",
    "pairs_df.apply(is_heuristic_correct, axis=1).mean()"
   ]
  },
  {
   "cell_type": "markdown",
   "metadata": {},
   "source": [
    "These are ridiculously low numbers. Let's see what happens if we compress the datasets so that we have base-all target mappings"
   ]
  },
  {
   "cell_type": "code",
   "execution_count": 22,
   "metadata": {},
   "outputs": [],
   "source": [
    "def is_heuristic_correct_compressed(row):\n",
    "\tgenerated = heuristic_model(get_recipe_by_id(row['base']), 'vegan')\n",
    "\tfor target in row['target']:\n",
    "\t\tif set(generated) == set(get_recipe_by_id(target)):\n",
    "\t\t\treturn 1\n",
    "\treturn 0"
   ]
  },
  {
   "cell_type": "code",
   "execution_count": 23,
   "metadata": {},
   "outputs": [
    {
     "data": {
      "text/plain": [
       "np.float64(0.00046063238245648666)"
      ]
     },
     "execution_count": 23,
     "metadata": {},
     "output_type": "execute_result"
    }
   ],
   "source": [
    "pairs_vegan_compressed = pairs_vegan.groupby('base', as_index=False).agg({'target': list})\n",
    "pairs_vegan_compressed.apply(is_heuristic_correct_compressed, axis=1).mean()"
   ]
  },
  {
   "cell_type": "code",
   "execution_count": 24,
   "metadata": {},
   "outputs": [
    {
     "data": {
      "text/plain": [
       "np.float64(5.076657528683115e-05)"
      ]
     },
     "execution_count": 24,
     "metadata": {},
     "output_type": "execute_result"
    }
   ],
   "source": [
    "pairs_vegetarian_compressed = pairs_vegetarian.groupby('base', as_index=False).agg({'target': list})\n",
    "pairs_vegetarian_compressed.apply(is_heuristic_correct_compressed, axis=1).mean()"
   ]
  },
  {
   "cell_type": "code",
   "execution_count": 25,
   "metadata": {},
   "outputs": [
    {
     "data": {
      "text/plain": [
       "np.float64(0.0002826824388971036)"
      ]
     },
     "execution_count": 25,
     "metadata": {},
     "output_type": "execute_result"
    }
   ],
   "source": [
    "pairs_df_compressed = pairs_df.groupby('base', as_index=False).agg({'target': list})\n",
    "pairs_df_compressed.apply(is_heuristic_correct_compressed, axis=1).mean()"
   ]
  },
  {
   "cell_type": "markdown",
   "metadata": {},
   "source": [
    "This does help somewhat, but the numbers are still tiny. Let's try out scoring methods with more of a gradient"
   ]
  }
 ],
 "metadata": {
  "kernelspec": {
   "display_name": "eval_venv",
   "language": "python",
   "name": "python3"
  },
  "language_info": {
   "codemirror_mode": {
    "name": "ipython",
    "version": 3
   },
   "file_extension": ".py",
   "mimetype": "text/x-python",
   "name": "python",
   "nbconvert_exporter": "python",
   "pygments_lexer": "ipython3",
   "version": "3.13.1"
  }
 },
 "nbformat": 4,
 "nbformat_minor": 2
}
