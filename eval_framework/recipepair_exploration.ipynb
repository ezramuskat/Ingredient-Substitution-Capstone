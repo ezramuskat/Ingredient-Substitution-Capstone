{
 "cells": [
  {
   "cell_type": "code",
   "execution_count": 1,
   "metadata": {},
   "outputs": [],
   "source": [
    "import pandas as pd\n",
    "import numpy as np"
   ]
  },
  {
   "cell_type": "code",
   "execution_count": 5,
   "metadata": {},
   "outputs": [],
   "source": [
    "recipes = pd.read_parquet('../data_sources/recipepairs/recipes.parquet') \n",
    "pairs = pd.read_parquet('../data_sources/recipepairs/pairs.parquet') "
   ]
  },
  {
   "cell_type": "code",
   "execution_count": 6,
   "metadata": {},
   "outputs": [
    {
     "data": {
      "application/vnd.microsoft.datawrangler.viewer.v0+json": {
       "columns": [
        {
         "name": "index",
         "rawType": "int64",
         "type": "integer"
        },
        {
         "name": "id",
         "rawType": "int64",
         "type": "integer"
        },
        {
         "name": "name",
         "rawType": "object",
         "type": "string"
        },
        {
         "name": "steps",
         "rawType": "object",
         "type": "string"
        },
        {
         "name": "ingredients",
         "rawType": "object",
         "type": "unknown"
        },
        {
         "name": "categories",
         "rawType": "object",
         "type": "unknown"
        },
        {
         "name": "name_tokens",
         "rawType": "object",
         "type": "unknown"
        }
       ],
       "conversionMethod": "pd.DataFrame",
       "ref": "04957f1f-730d-48ce-a07d-6751a0e3db8b",
       "rows": [
        [
         "0",
         "96313",
         "grilled garlic cheese grits",
         "i a sauce pan, bring water to a boil; slowly add grits and salt, stirring constantly; reduce heat:simmer, uncovered, for 40-45 minutes or untill thickened, stirrin occasionally. add cheese and garlic; stir until cheese is melted, spray 9-inch baking dish with nonstick cooking spray; cover and refrigerate for 2 to 2 1/2 hours or until frim. before starting the grill, coat the grill rack with nonstick cooking spray; cut the grits into 3-inch squares; brush both sides with olive oil. grill, covered, over medium heat for 4 to 6 minutes on each side or until lightly browned.",
         "['cheddar' 'garlic' 'grit' 'olive oil' 'salt' 'water']",
         "['low_calorie' 'low_sugar' 'gluten_free' 'low_carb' 'vegetarian']",
         "['grill' 'garlic' 'cheese' 'grit']"
        ],
        [
         "1",
         "232037",
         "simple shrimp and andouille jambalaya",
         "in a food processor, pulse the onion, red pepper and garlic until chopped very fine, ten to twelve 1-second pulses, scraping down the sides of the bowl as necessary; set aside. season the shrimp with salt and hot pepper sauce to taste. heat the oil in a large dutch oven over medium high heat until shimmering. add the shrimp in a single layer and cook, without stirring, for 30 seconds. using tongs, flip the shrimp and cook for another 30 seconds. transfer the shrimp to a medium bowl and set aside. add the sausage to the pan and cook, stirring occasionally, until lightly browned, about 3 minutes. using a slotted spoon, transfer the sausage to a second bowl. scrape the veggies from the food processor into the empty pot and cook, stirring frequently, until softened, about 3 minutes. stir in the rice and continue to stir until the grains are coated with the fat, about 1 minute. add the bay leaves, tomatoes, clam juice, and 1 cup water and bring to a boil. stir in the sausage, cover, and reduce the heat to low. cook until the rice is tender, 17 to 20 minutes. off the heat, stir in the shrimp and parsley with a fork (do not mush the rice), cover the pot, and allow to sit for 2 minutes or until the shrimp is heated through. discard the bay leaves and adjust the seasoning with salt and hot pepper sauce to taste. serve immediately.",
         "['bay leafe' 'garlic' 'hot sauce' 'mollusc' 'onion' 'parsley' 'pepper'\n 'rice' 'salt' 'sausage' 'shrimp' 'tomato' 'vegetable oil']",
         "['dairy_free' 'gluten_free']",
         "['simple' 'shrimp' 'and' 'andouille' 'jambalaya']"
        ],
        [
         "2",
         "232047",
         "beef stew with dried cherries",
         "preheat oven to 350°f. cut beef into 1 inch cubes. combine flour, salt, allspice, cinnamon and pepper in a plastic bag. add beef cubes to bag and shake, coating pieces evenly. spray a heavy nonstick skillet with nonstick vegetable spray and heat over medium high heat. add 1/3 of the beef cubes and cook until browned on all sides, stirring frequently (about 5 minutes). don't crowd the skillet. transfer meat to a heavy dutch oven. repeat with remaining meat in two more batches, ending with all of the browned meat in the dutch oven. reduce heat to medium. add oil to skillet. add onions and cherries. cook over medium heat until onions are soft and light brown, about 10 minutes (you are basically making caramelized onions). stir frequently, scraping up all the browned bits from the meat and incorporating into the onions. mix in the sugar, vinegar and water. increase heat to medium high and cook until onions brown, stirring frequently, about 5 minutes. add onion mixture to the beef in the dutch oven. mix in wine, stock and mushrooms. cover and bake until the beef is tender, about 2 hours. uncover stew during last 30 minutes of baking if the liquid is still too thin. add a small amount of beef stock or red wine is it is too dry. serve with rice or noodles to sop up the great sauce. can be made ahead and reheated before serving.",
         "['allspice' 'beef stew meat' 'beef stock' 'cherry' 'cinnamon' 'dry wine'\n 'flour' 'mushroom' 'onion' 'pepper' 'salt' 'sugar' 'vegetable oil'\n 'water']",
         "['dairy_free' 'gluten_free']",
         "['beef' 'stew']"
        ],
        [
         "3",
         "232050",
         "hot sweet almond brittle",
         "preheat oven to 375°f place almonds in single layer in a 15 x 10 jelly roll pan. bake 6-9 minutes, or until golden brown. (watch carefully after 5 minutes, the nuts go from golden to scorched in no time). remove from oven and place nuts on a plate to cool. set aside. while the almonds cool, mix the salt, cumin coriander, cayenne and 1 t. sugar in a small bowl. in a heavy 3 quart saucepan, heat vinegar and 2 cups sugar to boiling over medium heat. continue to cook over medium heat until the mixture is a light to medium amber color, stirring occasionally. this will probably take between 10 and 15 minutes, depending on your stove and how heavy the pan is. while the sugar is cooking, spray the jelly roll pan with nonstick cooking spray. place the jelly roll pan on a trivet or cooling rack. keep the cooking spray out and have two forks ready for spreading the hot candy in the pan. when the sugar mixture is the right color, remove from heat. stir spice mixture into sugar. add the almonds and stir to coat evenly. work fast- this sets up quickly. immediately pour the mixture onto the prepared pan. spray the forks with cooking spray and use them to spread the almond mixture into roughly a single layer in the pan. cool brittle completely on jelly roll pan on a wire rack. with hands, break brittle into small pieces. store in tightly covered jar or tin for up to two weeks.",
         "['almond' 'coriander' 'cumin' 'pepper' 'salt' 'sugar' 'vinegar']",
         "['vegetarian' 'dairy_free' 'gluten_free' 'vegan']",
         "['hot' 'sweet' 'almond' 'brittle']"
        ],
        [
         "4",
         "232076",
         "retro chicken and chips casserole",
         "in large bowl, combine chicken, green onion, bell pepper, and parsley. in small bowl, whisk together mayonnaise, sour cream, lemon juice, dijon mustard, salt, and pepper. stir mayonnaise mixture into chicken mixture; mix well. pour into an 11x7 dish. top with cheese and potato chips. bake 15 minutes, until bubbly.",
         "['cheddar' 'chicken' 'dijon mustard' 'lemon juice' 'mayonnaise' 'onion'\n 'parsley' 'pepper' 'potato chip' 'salt' 'sour cream']",
         "['gluten_free']",
         "['retro' 'chicken' 'and' 'chip' 'casserole']"
        ]
       ],
       "shape": {
        "columns": 6,
        "rows": 5
       }
      },
      "text/html": [
       "<div>\n",
       "<style scoped>\n",
       "    .dataframe tbody tr th:only-of-type {\n",
       "        vertical-align: middle;\n",
       "    }\n",
       "\n",
       "    .dataframe tbody tr th {\n",
       "        vertical-align: top;\n",
       "    }\n",
       "\n",
       "    .dataframe thead th {\n",
       "        text-align: right;\n",
       "    }\n",
       "</style>\n",
       "<table border=\"1\" class=\"dataframe\">\n",
       "  <thead>\n",
       "    <tr style=\"text-align: right;\">\n",
       "      <th></th>\n",
       "      <th>id</th>\n",
       "      <th>name</th>\n",
       "      <th>steps</th>\n",
       "      <th>ingredients</th>\n",
       "      <th>categories</th>\n",
       "      <th>name_tokens</th>\n",
       "    </tr>\n",
       "  </thead>\n",
       "  <tbody>\n",
       "    <tr>\n",
       "      <th>0</th>\n",
       "      <td>96313</td>\n",
       "      <td>grilled garlic cheese grits</td>\n",
       "      <td>i a sauce pan, bring water to a boil; slowly a...</td>\n",
       "      <td>[cheddar, garlic, grit, olive oil, salt, water]</td>\n",
       "      <td>[low_calorie, low_sugar, gluten_free, low_carb...</td>\n",
       "      <td>[grill, garlic, cheese, grit]</td>\n",
       "    </tr>\n",
       "    <tr>\n",
       "      <th>1</th>\n",
       "      <td>232037</td>\n",
       "      <td>simple shrimp and andouille jambalaya</td>\n",
       "      <td>in a food processor, pulse the onion, red pepp...</td>\n",
       "      <td>[bay leafe, garlic, hot sauce, mollusc, onion,...</td>\n",
       "      <td>[dairy_free, gluten_free]</td>\n",
       "      <td>[simple, shrimp, and, andouille, jambalaya]</td>\n",
       "    </tr>\n",
       "    <tr>\n",
       "      <th>2</th>\n",
       "      <td>232047</td>\n",
       "      <td>beef stew with dried cherries</td>\n",
       "      <td>preheat oven to 350°f. cut beef into 1 inch cu...</td>\n",
       "      <td>[allspice, beef stew meat, beef stock, cherry,...</td>\n",
       "      <td>[dairy_free, gluten_free]</td>\n",
       "      <td>[beef, stew]</td>\n",
       "    </tr>\n",
       "    <tr>\n",
       "      <th>3</th>\n",
       "      <td>232050</td>\n",
       "      <td>hot sweet almond brittle</td>\n",
       "      <td>preheat oven to 375°f place almonds in single ...</td>\n",
       "      <td>[almond, coriander, cumin, pepper, salt, sugar...</td>\n",
       "      <td>[vegetarian, dairy_free, gluten_free, vegan]</td>\n",
       "      <td>[hot, sweet, almond, brittle]</td>\n",
       "    </tr>\n",
       "    <tr>\n",
       "      <th>4</th>\n",
       "      <td>232076</td>\n",
       "      <td>retro chicken and chips casserole</td>\n",
       "      <td>in large bowl, combine chicken, green onion, b...</td>\n",
       "      <td>[cheddar, chicken, dijon mustard, lemon juice,...</td>\n",
       "      <td>[gluten_free]</td>\n",
       "      <td>[retro, chicken, and, chip, casserole]</td>\n",
       "    </tr>\n",
       "  </tbody>\n",
       "</table>\n",
       "</div>"
      ],
      "text/plain": [
       "       id                                   name  \\\n",
       "0   96313            grilled garlic cheese grits   \n",
       "1  232037  simple shrimp and andouille jambalaya   \n",
       "2  232047          beef stew with dried cherries   \n",
       "3  232050               hot sweet almond brittle   \n",
       "4  232076      retro chicken and chips casserole   \n",
       "\n",
       "                                               steps  \\\n",
       "0  i a sauce pan, bring water to a boil; slowly a...   \n",
       "1  in a food processor, pulse the onion, red pepp...   \n",
       "2  preheat oven to 350°f. cut beef into 1 inch cu...   \n",
       "3  preheat oven to 375°f place almonds in single ...   \n",
       "4  in large bowl, combine chicken, green onion, b...   \n",
       "\n",
       "                                         ingredients  \\\n",
       "0    [cheddar, garlic, grit, olive oil, salt, water]   \n",
       "1  [bay leafe, garlic, hot sauce, mollusc, onion,...   \n",
       "2  [allspice, beef stew meat, beef stock, cherry,...   \n",
       "3  [almond, coriander, cumin, pepper, salt, sugar...   \n",
       "4  [cheddar, chicken, dijon mustard, lemon juice,...   \n",
       "\n",
       "                                          categories  \\\n",
       "0  [low_calorie, low_sugar, gluten_free, low_carb...   \n",
       "1                          [dairy_free, gluten_free]   \n",
       "2                          [dairy_free, gluten_free]   \n",
       "3       [vegetarian, dairy_free, gluten_free, vegan]   \n",
       "4                                      [gluten_free]   \n",
       "\n",
       "                                   name_tokens  \n",
       "0                [grill, garlic, cheese, grit]  \n",
       "1  [simple, shrimp, and, andouille, jambalaya]  \n",
       "2                                 [beef, stew]  \n",
       "3                [hot, sweet, almond, brittle]  \n",
       "4       [retro, chicken, and, chip, casserole]  "
      ]
     },
     "execution_count": 6,
     "metadata": {},
     "output_type": "execute_result"
    }
   ],
   "source": [
    "recipes.head()"
   ]
  },
  {
   "cell_type": "code",
   "execution_count": 8,
   "metadata": {},
   "outputs": [
    {
     "data": {
      "text/plain": [
       "(459052, 6)"
      ]
     },
     "execution_count": 8,
     "metadata": {},
     "output_type": "execute_result"
    }
   ],
   "source": [
    "recipes.shape"
   ]
  },
  {
   "cell_type": "code",
   "execution_count": 9,
   "metadata": {},
   "outputs": [
    {
     "data": {
      "text/plain": [
       "Index(['id', 'name', 'steps', 'ingredients', 'categories', 'name_tokens'], dtype='object')"
      ]
     },
     "execution_count": 9,
     "metadata": {},
     "output_type": "execute_result"
    }
   ],
   "source": [
    "recipes.columns"
   ]
  },
  {
   "cell_type": "code",
   "execution_count": 13,
   "metadata": {},
   "outputs": [
    {
     "data": {
      "text/plain": [
       "id             0\n",
       "name           0\n",
       "steps          0\n",
       "ingredients    0\n",
       "categories     0\n",
       "name_tokens    0\n",
       "dtype: int64"
      ]
     },
     "execution_count": 13,
     "metadata": {},
     "output_type": "execute_result"
    }
   ],
   "source": [
    "recipes.isna().sum()"
   ]
  },
  {
   "cell_type": "code",
   "execution_count": null,
   "metadata": {},
   "outputs": [
    {
     "data": {
      "text/plain": [
       "array(['dairy_free', 'gluten_free', 'low_calorie', 'low_carb', 'low_fat',\n",
       "       'low_sodium', 'low_sugar', 'vegan', 'vegetarian'], dtype=object)"
      ]
     },
     "execution_count": 18,
     "metadata": {},
     "output_type": "execute_result"
    }
   ],
   "source": [
    "# unique categories\n",
    "np.unique(np.concatenate(recipes['categories']))"
   ]
  },
  {
   "cell_type": "code",
   "execution_count": 7,
   "metadata": {},
   "outputs": [
    {
     "data": {
      "application/vnd.microsoft.datawrangler.viewer.v0+json": {
       "columns": [
        {
         "name": "index",
         "rawType": "int64",
         "type": "integer"
        },
        {
         "name": "base",
         "rawType": "int64",
         "type": "integer"
        },
        {
         "name": "target",
         "rawType": "int64",
         "type": "integer"
        },
        {
         "name": "name_overlap",
         "rawType": "object",
         "type": "string"
        },
        {
         "name": "name_iou",
         "rawType": "float64",
         "type": "float"
        },
        {
         "name": "categories",
         "rawType": "object",
         "type": "string"
        }
       ],
       "conversionMethod": "pd.DataFrame",
       "ref": "095ced01-170c-46b1-8405-0efd2340775d",
       "rows": [
        [
         "0",
         "96313",
         "86230",
         "grilled garlic ch",
         "0.5312",
         "['dairy_free']"
        ],
        [
         "1",
         "86230",
         "96313",
         "grilled garlic ch",
         "0.5312",
         "['low_calorie', 'low_sugar', 'vegetarian']"
        ],
        [
         "2",
         "107592",
         "96313",
         "garlic cheese grits",
         "0.7037",
         "['low_calorie', 'low_sugar']"
        ],
        [
         "3",
         "442284",
         "96313",
         "garlic cheese grits",
         "0.5135",
         "['low_calorie', 'low_carb', 'low_sugar', 'vegetarian']"
        ],
        [
         "4",
         "96313",
         "379443",
         "grilled garlic ch",
         "0.5312",
         "['dairy_free']"
        ]
       ],
       "shape": {
        "columns": 5,
        "rows": 5
       }
      },
      "text/html": [
       "<div>\n",
       "<style scoped>\n",
       "    .dataframe tbody tr th:only-of-type {\n",
       "        vertical-align: middle;\n",
       "    }\n",
       "\n",
       "    .dataframe tbody tr th {\n",
       "        vertical-align: top;\n",
       "    }\n",
       "\n",
       "    .dataframe thead th {\n",
       "        text-align: right;\n",
       "    }\n",
       "</style>\n",
       "<table border=\"1\" class=\"dataframe\">\n",
       "  <thead>\n",
       "    <tr style=\"text-align: right;\">\n",
       "      <th></th>\n",
       "      <th>base</th>\n",
       "      <th>target</th>\n",
       "      <th>name_overlap</th>\n",
       "      <th>name_iou</th>\n",
       "      <th>categories</th>\n",
       "    </tr>\n",
       "  </thead>\n",
       "  <tbody>\n",
       "    <tr>\n",
       "      <th>0</th>\n",
       "      <td>96313</td>\n",
       "      <td>86230</td>\n",
       "      <td>grilled garlic ch</td>\n",
       "      <td>0.5312</td>\n",
       "      <td>['dairy_free']</td>\n",
       "    </tr>\n",
       "    <tr>\n",
       "      <th>1</th>\n",
       "      <td>86230</td>\n",
       "      <td>96313</td>\n",
       "      <td>grilled garlic ch</td>\n",
       "      <td>0.5312</td>\n",
       "      <td>['low_calorie', 'low_sugar', 'vegetarian']</td>\n",
       "    </tr>\n",
       "    <tr>\n",
       "      <th>2</th>\n",
       "      <td>107592</td>\n",
       "      <td>96313</td>\n",
       "      <td>garlic cheese grits</td>\n",
       "      <td>0.7037</td>\n",
       "      <td>['low_calorie', 'low_sugar']</td>\n",
       "    </tr>\n",
       "    <tr>\n",
       "      <th>3</th>\n",
       "      <td>442284</td>\n",
       "      <td>96313</td>\n",
       "      <td>garlic cheese grits</td>\n",
       "      <td>0.5135</td>\n",
       "      <td>['low_calorie', 'low_carb', 'low_sugar', 'vege...</td>\n",
       "    </tr>\n",
       "    <tr>\n",
       "      <th>4</th>\n",
       "      <td>96313</td>\n",
       "      <td>379443</td>\n",
       "      <td>grilled garlic ch</td>\n",
       "      <td>0.5312</td>\n",
       "      <td>['dairy_free']</td>\n",
       "    </tr>\n",
       "  </tbody>\n",
       "</table>\n",
       "</div>"
      ],
      "text/plain": [
       "     base  target         name_overlap  name_iou  \\\n",
       "0   96313   86230    grilled garlic ch    0.5312   \n",
       "1   86230   96313    grilled garlic ch    0.5312   \n",
       "2  107592   96313  garlic cheese grits    0.7037   \n",
       "3  442284   96313  garlic cheese grits    0.5135   \n",
       "4   96313  379443    grilled garlic ch    0.5312   \n",
       "\n",
       "                                          categories  \n",
       "0                                     ['dairy_free']  \n",
       "1         ['low_calorie', 'low_sugar', 'vegetarian']  \n",
       "2                       ['low_calorie', 'low_sugar']  \n",
       "3  ['low_calorie', 'low_carb', 'low_sugar', 'vege...  \n",
       "4                                     ['dairy_free']  "
      ]
     },
     "execution_count": 7,
     "metadata": {},
     "output_type": "execute_result"
    }
   ],
   "source": [
    "pairs.head()"
   ]
  },
  {
   "cell_type": "code",
   "execution_count": 10,
   "metadata": {},
   "outputs": [
    {
     "data": {
      "text/plain": [
       "(6908697, 5)"
      ]
     },
     "execution_count": 10,
     "metadata": {},
     "output_type": "execute_result"
    }
   ],
   "source": [
    "pairs.shape"
   ]
  },
  {
   "cell_type": "code",
   "execution_count": 12,
   "metadata": {},
   "outputs": [
    {
     "data": {
      "text/plain": [
       "Index(['base', 'target', 'name_overlap', 'name_iou', 'categories'], dtype='object')"
      ]
     },
     "execution_count": 12,
     "metadata": {},
     "output_type": "execute_result"
    }
   ],
   "source": [
    "pairs.columns"
   ]
  },
  {
   "cell_type": "code",
   "execution_count": 14,
   "metadata": {},
   "outputs": [
    {
     "data": {
      "text/plain": [
       "base            0\n",
       "target          0\n",
       "name_overlap    0\n",
       "name_iou        0\n",
       "categories      0\n",
       "dtype: int64"
      ]
     },
     "execution_count": 14,
     "metadata": {},
     "output_type": "execute_result"
    }
   ],
   "source": [
    "pairs.isna().sum()"
   ]
  },
  {
   "cell_type": "code",
   "execution_count": 22,
   "metadata": {},
   "outputs": [
    {
     "data": {
      "text/plain": [
       "Counter({\"['gluten_free']\": 996935,\n",
       "         \"['dairy_free']\": 968348,\n",
       "         \"['low_sodium']\": 528340,\n",
       "         \"['vegetarian']\": 510143,\n",
       "         \"['low_carb']\": 473930,\n",
       "         \"['dairy_free', 'vegan']\": 294209,\n",
       "         \"['low_calorie', 'low_carb']\": 185653,\n",
       "         \"['low_calorie']\": 158868,\n",
       "         \"['dairy_free', 'gluten_free']\": 155282,\n",
       "         \"['low_fat']\": 147363,\n",
       "         \"['low_calorie', 'low_carb', 'low_sodium']\": 131986,\n",
       "         \"['low_sugar']\": 116917,\n",
       "         \"['gluten_free', 'low_carb']\": 109880,\n",
       "         \"['vegan', 'vegetarian']\": 99173,\n",
       "         \"['gluten_free', 'low_sodium']\": 98908,\n",
       "         \"['low_carb', 'low_sodium']\": 86869,\n",
       "         \"['low_calorie', 'low_fat']\": 84234,\n",
       "         \"['low_calorie', 'low_fat', 'low_sodium']\": 73794,\n",
       "         \"['dairy_free', 'vegan', 'vegetarian']\": 73584,\n",
       "         \"['low_calorie', 'low_sodium']\": 70228,\n",
       "         \"['vegan']\": 67652,\n",
       "         \"['gluten_free', 'vegetarian']\": 65433,\n",
       "         \"['dairy_free', 'low_sodium']\": 51648,\n",
       "         \"['low_calorie', 'low_carb', 'low_fat']\": 51171,\n",
       "         \"['dairy_free', 'low_carb']\": 47423,\n",
       "         \"['dairy_free', 'gluten_free', 'vegan']\": 43750,\n",
       "         \"['low_calorie', 'low_carb', 'low_fat', 'low_sodium']\": 43649,\n",
       "         \"['gluten_free', 'low_calorie', 'low_carb']\": 40383,\n",
       "         \"['low_fat', 'low_sodium']\": 40352,\n",
       "         \"['low_sodium', 'vegetarian']\": 39471,\n",
       "         \"['dairy_free', 'low_fat']\": 33348,\n",
       "         \"['gluten_free', 'low_calorie', 'low_carb', 'low_sodium']\": 30343,\n",
       "         \"['gluten_free', 'low_carb', 'low_sodium']\": 27120,\n",
       "         \"['dairy_free', 'low_calorie', 'low_carb']\": 25220,\n",
       "         \"['dairy_free', 'low_sodium', 'vegan']\": 24499,\n",
       "         \"['low_carb', 'vegetarian']\": 23100,\n",
       "         \"['dairy_free', 'vegetarian']\": 22562,\n",
       "         \"['dairy_free', 'low_calorie']\": 21500,\n",
       "         \"['dairy_free', 'low_calorie', 'low_fat']\": 20106,\n",
       "         \"['dairy_free', 'low_fat', 'vegan']\": 20063,\n",
       "         \"['gluten_free', 'low_calorie']\": 19168,\n",
       "         \"['dairy_free', 'low_sugar']\": 18290,\n",
       "         \"['dairy_free', 'low_calorie', 'low_carb', 'low_sodium']\": 17968,\n",
       "         \"['gluten_free', 'low_sugar']\": 17679,\n",
       "         \"['dairy_free', 'low_carb', 'low_sodium']\": 16731,\n",
       "         \"['dairy_free', 'gluten_free', 'low_carb']\": 15473,\n",
       "         \"['gluten_free', 'low_fat']\": 15387,\n",
       "         \"['dairy_free', 'low_calorie', 'low_fat', 'low_sodium', 'vegan']\": 14795,\n",
       "         \"['low_calorie', 'vegetarian']\": 14736,\n",
       "         \"['dairy_free', 'gluten_free', 'vegan', 'vegetarian']\": 13787,\n",
       "         \"['gluten_free', 'vegan', 'vegetarian']\": 13634,\n",
       "         \"['dairy_free', 'low_calorie', 'low_fat', 'low_sodium']\": 12661,\n",
       "         \"['dairy_free', 'low_calorie', 'low_carb', 'low_fat']\": 12520,\n",
       "         \"['low_calorie', 'low_sodium', 'vegetarian']\": 12235,\n",
       "         \"['gluten_free', 'low_calorie', 'low_sodium']\": 11833,\n",
       "         \"['dairy_free', 'low_calorie', 'low_fat', 'vegan']\": 11770,\n",
       "         \"['low_calorie', 'low_carb', 'vegetarian']\": 11539,\n",
       "         \"['gluten_free', 'low_calorie', 'low_carb', 'low_fat', 'low_sodium']\": 10624,\n",
       "         \"['gluten_free', 'low_calorie', 'low_fat']\": 10478,\n",
       "         \"['gluten_free', 'low_calorie', 'low_carb', 'low_fat']\": 10329,\n",
       "         \"['low_calorie', 'low_carb', 'low_sodium', 'vegetarian']\": 10280,\n",
       "         \"['dairy_free', 'gluten_free', 'low_sodium']\": 10268,\n",
       "         \"['low_carb', 'low_sugar']\": 10176,\n",
       "         \"['gluten_free', 'low_calorie', 'low_fat', 'low_sodium']\": 9851,\n",
       "         \"['dairy_free', 'low_calorie', 'low_carb', 'low_fat', 'low_sodium']\": 9490,\n",
       "         \"['low_fat', 'vegetarian']\": 9076,\n",
       "         \"['low_calorie', 'low_fat', 'low_sodium', 'vegetarian']\": 9059,\n",
       "         \"['gluten_free', 'low_sodium', 'vegetarian']\": 8787,\n",
       "         \"['dairy_free', 'low_fat', 'low_sodium', 'vegan']\": 8772,\n",
       "         \"['dairy_free', 'low_calorie', 'low_sodium']\": 8601,\n",
       "         \"['dairy_free', 'low_fat', 'low_sodium']\": 8574,\n",
       "         \"['dairy_free', 'gluten_free', 'low_calorie', 'low_carb']\": 8414,\n",
       "         \"['dairy_free', 'gluten_free', 'low_calorie', 'low_carb', 'low_sodium']\": 8008,\n",
       "         \"['low_calorie', 'low_fat', 'vegetarian']\": 7757,\n",
       "         \"['low_sugar', 'vegetarian']\": 7640,\n",
       "         \"['low_sodium', 'vegan', 'vegetarian']\": 7287,\n",
       "         \"['dairy_free', 'low_sugar', 'vegan']\": 7278,\n",
       "         \"['dairy_free', 'gluten_free', 'low_carb', 'low_sodium']\": 7275,\n",
       "         \"['gluten_free', 'low_carb', 'vegetarian']\": 7263,\n",
       "         \"['low_fat', 'vegan', 'vegetarian']\": 6684,\n",
       "         \"['dairy_free', 'low_calorie', 'low_carb', 'low_sodium', 'vegan']\": 6450,\n",
       "         \"['low_calorie', 'low_fat', 'low_sodium', 'vegan', 'vegetarian']\": 6427,\n",
       "         \"['gluten_free', 'vegan']\": 6349,\n",
       "         \"['dairy_free', 'low_calorie', 'vegan']\": 6313,\n",
       "         \"['low_calorie', 'low_fat', 'vegan', 'vegetarian']\": 6310,\n",
       "         \"['gluten_free', 'low_fat', 'low_sodium']\": 5765,\n",
       "         \"['low_sodium', 'vegan']\": 5529,\n",
       "         \"['dairy_free', 'low_sodium', 'vegan', 'vegetarian']\": 5523,\n",
       "         \"['low_sodium', 'low_sugar']\": 5231,\n",
       "         \"['dairy_free', 'gluten_free', 'low_calorie', 'low_carb', 'low_fat']\": 5126,\n",
       "         \"['low_fat', 'low_sugar']\": 4792,\n",
       "         \"['dairy_free', 'low_calorie', 'low_carb', 'vegan']\": 4790,\n",
       "         \"['dairy_free', 'gluten_free', 'low_sodium', 'vegan']\": 4704,\n",
       "         \"['low_carb', 'low_fat']\": 4695,\n",
       "         \"['dairy_free', 'low_calorie', 'low_fat', 'low_sodium', 'vegan', 'vegetarian']\": 4681,\n",
       "         \"['dairy_free', 'low_calorie', 'low_carb', 'low_fat', 'low_sodium', 'vegan']\": 4634,\n",
       "         \"['dairy_free', 'gluten_free', 'low_calorie', 'low_carb', 'low_fat', 'low_sodium']\": 4633,\n",
       "         \"['dairy_free', 'low_fat', 'vegan', 'vegetarian']\": 4592,\n",
       "         \"['dairy_free', 'low_calorie', 'low_sodium', 'vegan']\": 4540,\n",
       "         \"['dairy_free', 'gluten_free', 'low_calorie', 'low_fat']\": 4306,\n",
       "         \"['low_fat', 'vegan']\": 4091,\n",
       "         \"['dairy_free', 'gluten_free', 'low_fat']\": 4000,\n",
       "         \"['dairy_free', 'gluten_free', 'low_calorie']\": 3942,\n",
       "         \"['low_carb', 'low_sodium', 'vegetarian']\": 3898,\n",
       "         \"['dairy_free', 'low_calorie', 'low_fat', 'vegan', 'vegetarian']\": 3894,\n",
       "         \"['low_calorie', 'low_carb', 'low_sodium', 'vegan', 'vegetarian']\": 3867,\n",
       "         \"['dairy_free', 'gluten_free', 'low_sugar']\": 3747,\n",
       "         \"['dairy_free', 'gluten_free', 'low_calorie', 'low_fat', 'low_sodium', 'vegan']\": 3744,\n",
       "         \"['dairy_free', 'gluten_free', 'vegetarian']\": 3642,\n",
       "         \"['low_fat', 'low_sodium', 'vegetarian']\": 3581,\n",
       "         \"['low_calorie', 'low_sugar']\": 3531,\n",
       "         \"['low_calorie', 'low_carb', 'low_fat', 'low_sodium', 'vegan', 'vegetarian']\": 3530,\n",
       "         \"['low_calorie', 'vegan', 'vegetarian']\": 3516,\n",
       "         \"['low_fat', 'low_sodium', 'vegan', 'vegetarian']\": 3403,\n",
       "         \"['low_calorie', 'low_fat', 'low_sodium', 'vegan']\": 3390,\n",
       "         \"['low_calorie', 'low_carb', 'low_sugar']\": 3312,\n",
       "         \"['low_calorie', 'low_carb', 'low_sodium', 'low_sugar']\": 3287,\n",
       "         \"['dairy_free', 'gluten_free', 'low_calorie', 'low_fat', 'low_sodium']\": 3228,\n",
       "         \"['gluten_free', 'low_calorie', 'low_carb', 'low_sodium', 'vegetarian']\": 3014,\n",
       "         \"['dairy_free', 'low_carb', 'vegan']\": 2971,\n",
       "         \"['low_calorie', 'low_carb', 'vegan', 'vegetarian']\": 2926,\n",
       "         \"['dairy_free', 'gluten_free', 'low_calorie', 'low_sodium']\": 2845,\n",
       "         \"['low_calorie', 'low_carb', 'low_fat', 'low_sugar']\": 2836,\n",
       "         \"['low_sugar', 'vegan', 'vegetarian']\": 2832,\n",
       "         \"['gluten_free', 'low_calorie', 'low_carb', 'vegetarian']\": 2797,\n",
       "         \"['gluten_free', 'low_carb', 'low_sugar']\": 2778,\n",
       "         \"['low_calorie', 'low_carb', 'low_fat', 'vegan', 'vegetarian']\": 2748,\n",
       "         \"['dairy_free', 'low_calorie', 'low_carb', 'low_sodium', 'vegan', 'vegetarian']\": 2699,\n",
       "         \"['dairy_free', 'gluten_free', 'low_calorie', 'low_carb', 'low_sodium', 'vegan']\": 2564,\n",
       "         \"['dairy_free', 'low_fat', 'low_sodium', 'vegan', 'vegetarian']\": 2511,\n",
       "         \"['dairy_free', 'low_calorie', 'low_carb', 'low_fat', 'vegan']\": 2477,\n",
       "         \"['dairy_free', 'gluten_free', 'low_fat', 'vegan']\": 2456,\n",
       "         \"['low_calorie', 'low_sodium', 'vegan', 'vegetarian']\": 2390,\n",
       "         \"['dairy_free', 'low_calorie', 'vegan', 'vegetarian']\": 2363,\n",
       "         \"['dairy_free', 'low_calorie', 'low_carb', 'low_fat', 'low_sodium', 'vegan', 'vegetarian']\": 2218,\n",
       "         \"['low_calorie', 'low_carb', 'low_fat', 'low_sodium', 'low_sugar']\": 2129,\n",
       "         \"['dairy_free', 'low_calorie', 'low_carb', 'vegan', 'vegetarian']\": 2114,\n",
       "         \"['low_calorie', 'low_carb', 'low_fat', 'low_sodium', 'vegetarian']\": 2113,\n",
       "         \"['dairy_free', 'low_carb', 'low_sugar']\": 2096,\n",
       "         \"['dairy_free', 'low_calorie', 'low_sodium', 'vegan', 'vegetarian']\": 2085,\n",
       "         \"['low_carb', 'vegan', 'vegetarian']\": 2071,\n",
       "         \"['low_calorie', 'low_fat', 'low_sugar']\": 2055,\n",
       "         \"['low_carb', 'low_fat', 'low_sodium']\": 2007,\n",
       "         \"['gluten_free', 'low_calorie', 'low_sodium', 'vegetarian']\": 1998,\n",
       "         \"['dairy_free', 'gluten_free', 'low_fat', 'low_sodium', 'vegan']\": 1989,\n",
       "         \"['low_fat', 'low_sodium', 'vegan']\": 1963,\n",
       "         \"['dairy_free', 'low_sugar', 'vegan', 'vegetarian']\": 1886,\n",
       "         \"['dairy_free', 'gluten_free', 'low_calorie', 'low_fat', 'vegan']\": 1878,\n",
       "         \"['low_carb', 'low_sodium', 'low_sugar']\": 1857,\n",
       "         \"['low_calorie', 'low_fat', 'vegan']\": 1832,\n",
       "         \"['low_calorie', 'vegan']\": 1782,\n",
       "         \"['low_calorie', 'low_fat', 'low_sodium', 'low_sugar']\": 1760,\n",
       "         \"['gluten_free', 'low_calorie', 'vegetarian']\": 1746,\n",
       "         \"['dairy_free', 'gluten_free', 'low_calorie', 'low_carb', 'low_fat', 'low_sodium', 'vegan']\": 1735,\n",
       "         \"['dairy_free', 'gluten_free', 'low_calorie', 'low_carb', 'vegan']\": 1711,\n",
       "         \"['dairy_free', 'low_carb', 'low_sodium', 'vegan']\": 1710,\n",
       "         \"['low_calorie', 'low_sodium', 'vegan']\": 1636,\n",
       "         \"['low_calorie', 'low_sodium', 'low_sugar']\": 1628,\n",
       "         \"['dairy_free', 'low_sodium', 'vegetarian']\": 1623,\n",
       "         \"['dairy_free', 'gluten_free', 'low_fat', 'low_sodium']\": 1593,\n",
       "         \"['low_calorie', 'low_carb', 'low_fat', 'vegetarian']\": 1546,\n",
       "         \"['dairy_free', 'low_calorie', 'low_carb', 'low_fat', 'vegan', 'vegetarian']\": 1478,\n",
       "         \"['gluten_free', 'low_calorie', 'low_fat', 'low_sodium', 'vegetarian']\": 1455,\n",
       "         \"['gluten_free', 'low_calorie', 'low_fat', 'low_sodium', 'vegan', 'vegetarian']\": 1361,\n",
       "         \"['gluten_free', 'low_carb', 'low_sodium', 'vegetarian']\": 1342,\n",
       "         \"['gluten_free', 'low_fat', 'vegetarian']\": 1319,\n",
       "         \"['low_sugar', 'vegan']\": 1295,\n",
       "         \"['dairy_free', 'gluten_free', 'low_sugar', 'vegan']\": 1256,\n",
       "         \"['low_carb', 'low_sodium', 'vegan', 'vegetarian']\": 1219,\n",
       "         \"['dairy_free', 'low_carb', 'vegan', 'vegetarian']\": 1213,\n",
       "         \"['gluten_free', 'low_sugar', 'vegetarian']\": 1209,\n",
       "         \"['dairy_free', 'gluten_free', 'low_calorie', 'low_fat', 'low_sodium', 'vegan', 'vegetarian']\": 1205,\n",
       "         \"['gluten_free', 'low_calorie', 'low_fat', 'vegan', 'vegetarian']\": 1138,\n",
       "         \"['dairy_free', 'low_sodium', 'low_sugar']\": 1092,\n",
       "         \"['gluten_free', 'low_sodium', 'vegan', 'vegetarian']\": 1084,\n",
       "         \"['gluten_free', 'low_fat', 'vegan', 'vegetarian']\": 1073,\n",
       "         \"['dairy_free', 'low_carb', 'low_fat']\": 1072,\n",
       "         \"['low_calorie', 'low_carb', 'low_sodium', 'vegan']\": 1052,\n",
       "         \"['gluten_free', 'low_calorie', 'low_carb', 'low_fat', 'low_sugar']\": 1025,\n",
       "         \"['dairy_free', 'low_fat', 'low_sugar']\": 990,\n",
       "         \"['dairy_free', 'gluten_free', 'low_sodium', 'vegan', 'vegetarian']\": 980,\n",
       "         \"['dairy_free', 'gluten_free', 'low_calorie', 'low_carb', 'low_sodium', 'vegan', 'vegetarian']\": 970,\n",
       "         \"['gluten_free', 'low_calorie', 'low_carb', 'low_sugar']\": 924,\n",
       "         \"['dairy_free', 'gluten_free', 'low_calorie', 'low_sodium', 'vegan']\": 907,\n",
       "         \"['dairy_free', 'gluten_free', 'low_carb', 'vegan']\": 894,\n",
       "         \"['dairy_free', 'gluten_free', 'low_calorie', 'low_carb', 'low_fat', 'vegan']\": 863,\n",
       "         \"['gluten_free', 'low_sodium', 'low_sugar']\": 837,\n",
       "         \"['gluten_free', 'low_calorie', 'low_fat', 'vegetarian']\": 837,\n",
       "         \"['dairy_free', 'low_calorie', 'low_fat', 'low_sodium', 'vegetarian']\": 834,\n",
       "         \"['low_carb', 'vegan']\": 832,\n",
       "         \"['low_calorie', 'low_carb', 'low_fat', 'low_sodium', 'vegan']\": 807,\n",
       "         \"['gluten_free', 'low_calorie', 'low_carb', 'low_fat', 'low_sodium', 'vegan', 'vegetarian']\": 805,\n",
       "         \"['dairy_free', 'gluten_free', 'low_calorie', 'low_carb', 'low_fat', 'low_sodium', 'vegan', 'vegetarian']\": 793,\n",
       "         \"['gluten_free', 'low_sodium', 'vegan']\": 780,\n",
       "         \"['dairy_free', 'gluten_free', 'low_carb', 'low_sodium', 'vegan']\": 764,\n",
       "         \"['dairy_free', 'gluten_free', 'low_calorie', 'vegan']\": 762,\n",
       "         \"['dairy_free', 'gluten_free', 'low_fat', 'vegan', 'vegetarian']\": 761,\n",
       "         \"['gluten_free', 'low_calorie', 'low_carb', 'low_sodium', 'vegan', 'vegetarian']\": 758,\n",
       "         \"['low_calorie', 'low_carb', 'vegan']\": 752,\n",
       "         \"['gluten_free', 'low_fat', 'low_sodium', 'vegetarian']\": 735,\n",
       "         \"['dairy_free', 'low_calorie', 'low_fat', 'vegetarian']\": 726,\n",
       "         \"['dairy_free', 'gluten_free', 'low_calorie', 'low_carb', 'vegan', 'vegetarian']\": 723,\n",
       "         \"['gluten_free', 'low_calorie', 'low_carb', 'low_sodium', 'low_sugar']\": 713,\n",
       "         \"['low_fat', 'low_sodium', 'low_sugar']\": 712,\n",
       "         \"['dairy_free', 'low_carb', 'vegetarian']\": 711,\n",
       "         \"['gluten_free', 'low_calorie', 'low_carb', 'low_fat', 'vegan', 'vegetarian']\": 710,\n",
       "         \"['dairy_free', 'low_fat', 'vegetarian']\": 705,\n",
       "         \"['dairy_free', 'low_carb', 'low_sodium', 'low_sugar']\": 705,\n",
       "         \"['dairy_free', 'low_calorie', 'low_carb', 'low_fat', 'low_sugar']\": 699,\n",
       "         \"['dairy_free', 'low_carb', 'low_sodium', 'vegan', 'vegetarian']\": 690,\n",
       "         \"['dairy_free', 'low_calorie', 'low_fat', 'low_sugar']\": 671,\n",
       "         \"['gluten_free', 'low_calorie', 'low_carb', 'low_fat', 'low_sodium', 'vegetarian']\": 661,\n",
       "         \"['dairy_free', 'low_calorie', 'low_carb', 'low_fat', 'low_sodium', 'low_sugar']\": 633,\n",
       "         \"['dairy_free', 'low_calorie', 'low_fat', 'low_sodium', 'low_sugar']\": 624,\n",
       "         \"['gluten_free', 'low_fat', 'low_sodium', 'vegan', 'vegetarian']\": 615,\n",
       "         \"['gluten_free', 'low_carb', 'low_sodium', 'low_sugar']\": 601,\n",
       "         \"['dairy_free', 'gluten_free', 'low_calorie', 'low_fat', 'vegan', 'vegetarian']\": 590,\n",
       "         \"['gluten_free', 'low_calorie', 'low_carb', 'vegan', 'vegetarian']\": 582,\n",
       "         \"['dairy_free', 'gluten_free', 'low_fat', 'low_sodium', 'vegan', 'vegetarian']\": 577,\n",
       "         \"['dairy_free', 'gluten_free', 'low_calorie', 'low_carb', 'low_fat', 'vegan', 'vegetarian']\": 566,\n",
       "         \"['dairy_free', 'low_calorie', 'low_carb', 'low_sodium', 'low_sugar']\": 558,\n",
       "         \"['gluten_free', 'low_fat', 'low_sugar']\": 558,\n",
       "         \"['dairy_free', 'gluten_free', 'low_sodium', 'vegetarian']\": 527,\n",
       "         \"['gluten_free', 'low_carb', 'low_fat', 'low_sodium']\": 519,\n",
       "         \"['gluten_free', 'low_carb', 'low_fat']\": 512,\n",
       "         \"['dairy_free', 'gluten_free', 'low_carb', 'low_sugar']\": 507,\n",
       "         \"['dairy_free', 'low_calorie', 'low_sodium', 'vegetarian']\": 506,\n",
       "         \"['dairy_free', 'gluten_free', 'low_calorie', 'vegan', 'vegetarian']\": 503,\n",
       "         \"['dairy_free', 'low_calorie', 'low_carb', 'low_sugar']\": 502,\n",
       "         \"['dairy_free', 'low_calorie', 'low_carb', 'low_sodium', 'low_sugar', 'vegan']\": 499,\n",
       "         \"['gluten_free', 'low_calorie', 'low_carb', 'low_fat', 'low_sodium', 'low_sugar']\": 490,\n",
       "         \"['dairy_free', 'low_carb', 'low_fat', 'vegan']\": 484,\n",
       "         \"['low_fat', 'low_sugar', 'vegetarian']\": 465,\n",
       "         \"['dairy_free', 'gluten_free', 'low_carb', 'vegan', 'vegetarian']\": 463,\n",
       "         \"['gluten_free', 'low_calorie', 'vegan', 'vegetarian']\": 461,\n",
       "         \"['dairy_free', 'low_calorie', 'low_carb', 'vegetarian']\": 444,\n",
       "         \"['dairy_free', 'low_calorie', 'low_sugar', 'vegan']\": 438,\n",
       "         \"['gluten_free', 'low_calorie', 'low_fat', 'low_sodium', 'vegan']\": 432,\n",
       "         \"['dairy_free', 'low_calorie', 'vegetarian']\": 430,\n",
       "         \"['gluten_free', 'low_fat', 'vegan']\": 429,\n",
       "         \"['gluten_free', 'low_sugar', 'vegan', 'vegetarian']\": 418,\n",
       "         \"['low_carb', 'low_sugar', 'vegetarian']\": 415,\n",
       "         \"['dairy_free', 'low_calorie', 'low_sugar']\": 408,\n",
       "         \"['dairy_free', 'low_calorie', 'low_fat', 'low_sodium', 'low_sugar', 'vegan']\": 405,\n",
       "         \"['gluten_free', 'low_calorie', 'low_fat', 'low_sodium', 'low_sugar']\": 399,\n",
       "         \"['dairy_free', 'gluten_free', 'low_calorie', 'low_sodium', 'vegan', 'vegetarian']\": 386,\n",
       "         \"['low_calorie', 'low_carb', 'low_fat', 'vegan']\": 379,\n",
       "         \"['gluten_free', 'low_carb', 'vegan', 'vegetarian']\": 379,\n",
       "         \"['dairy_free', 'gluten_free', 'low_carb', 'low_sodium', 'vegan', 'vegetarian']\": 370,\n",
       "         \"['gluten_free', 'low_calorie', 'low_sugar']\": 353,\n",
       "         \"['dairy_free', 'gluten_free', 'low_calorie', 'low_carb', 'low_fat', 'low_sodium', 'low_sugar']\": 339,\n",
       "         \"['dairy_free', 'low_carb', 'low_fat', 'low_sodium']\": 334,\n",
       "         \"['dairy_free', 'gluten_free', 'low_sugar', 'vegan', 'vegetarian']\": 334,\n",
       "         \"['dairy_free', 'low_fat', 'low_sodium', 'vegetarian']\": 329,\n",
       "         \"['dairy_free', 'low_calorie', 'low_carb', 'low_sodium', 'vegetarian']\": 329,\n",
       "         \"['gluten_free', 'low_calorie', 'low_carb', 'low_fat', 'vegetarian']\": 328,\n",
       "         \"['dairy_free', 'gluten_free', 'low_carb', 'low_sodium', 'low_sugar']\": 328,\n",
       "         \"['dairy_free', 'low_sugar', 'vegetarian']\": 322,\n",
       "         \"['dairy_free', 'low_fat', 'low_sugar', 'vegan']\": 315,\n",
       "         \"['dairy_free', 'low_sodium', 'low_sugar', 'vegan']\": 314,\n",
       "         \"['gluten_free', 'low_fat', 'low_sodium', 'vegan']\": 309,\n",
       "         \"['gluten_free', 'low_calorie', 'low_fat', 'low_sugar']\": 297,\n",
       "         \"['dairy_free', 'low_calorie', 'low_carb', 'low_fat', 'low_sodium', 'low_sugar', 'vegan']\": 295,\n",
       "         \"['gluten_free', 'low_calorie', 'low_sodium', 'vegan', 'vegetarian']\": 294,\n",
       "         \"['dairy_free', 'gluten_free', 'low_carb', 'vegetarian']\": 289,\n",
       "         \"['dairy_free', 'low_calorie', 'low_fat', 'low_sugar', 'vegan']\": 286,\n",
       "         \"['low_calorie', 'low_sugar', 'vegetarian']\": 282,\n",
       "         \"['low_carb', 'low_fat', 'low_sugar']\": 278,\n",
       "         \"['low_carb', 'low_sodium', 'vegan']\": 278,\n",
       "         \"['gluten_free', 'low_carb', 'low_sodium', 'vegan', 'vegetarian']\": 277,\n",
       "         \"['dairy_free', 'low_calorie', 'low_carb', 'low_sugar', 'vegan']\": 277,\n",
       "         \"['low_calorie', 'low_carb', 'low_sodium', 'low_sugar', 'vegetarian']\": 277,\n",
       "         \"['gluten_free', 'low_calorie', 'low_sodium', 'low_sugar']\": 257,\n",
       "         \"['dairy_free', 'low_calorie', 'low_carb', 'low_sodium', 'low_sugar', 'vegan', 'vegetarian']\": 257,\n",
       "         \"['low_calorie', 'low_carb', 'low_sugar', 'vegetarian']\": 253,\n",
       "         \"['dairy_free', 'gluten_free', 'low_calorie', 'low_carb', 'low_sodium', 'low_sugar']\": 246,\n",
       "         \"['low_calorie', 'low_fat', 'low_sugar', 'vegetarian']\": 241,\n",
       "         \"['dairy_free', 'low_calorie', 'low_sodium', 'low_sugar']\": 240,\n",
       "         \"['low_calorie', 'low_fat', 'low_sodium', 'low_sugar', 'vegetarian']\": 232,\n",
       "         \"['gluten_free', 'low_calorie', 'low_fat', 'vegan']\": 231,\n",
       "         \"['dairy_free', 'low_fat', 'low_sodium', 'low_sugar']\": 231,\n",
       "         \"['gluten_free', 'low_calorie', 'low_carb', 'low_sodium', 'vegan']\": 220,\n",
       "         \"['low_sodium', 'low_sugar', 'vegetarian']\": 219,\n",
       "         \"['dairy_free', 'gluten_free', 'low_carb', 'low_fat']\": 218,\n",
       "         \"['low_calorie', 'low_fat', 'low_sodium', 'low_sugar', 'vegan', 'vegetarian']\": 218,\n",
       "         \"['dairy_free', 'gluten_free', 'low_calorie', 'low_carb', 'low_fat', 'low_sugar']\": 213,\n",
       "         \"['dairy_free', 'gluten_free', 'low_sodium', 'low_sugar']\": 211,\n",
       "         \"['gluten_free', 'low_carb', 'low_sugar', 'vegetarian']\": 211,\n",
       "         \"['low_calorie', 'low_carb', 'low_fat', 'low_sodium', 'low_sugar', 'vegetarian']\": 210,\n",
       "         \"['low_carb', 'low_fat', 'vegetarian']\": 205,\n",
       "         \"['dairy_free', 'low_carb', 'low_sugar', 'vegan']\": 205,\n",
       "         \"['dairy_free', 'gluten_free', 'low_calorie', 'low_fat', 'vegetarian']\": 204,\n",
       "         \"['dairy_free', 'low_fat', 'low_sodium', 'low_sugar', 'vegan']\": 201,\n",
       "         \"['dairy_free', 'gluten_free', 'low_calorie', 'low_carb', 'low_sodium', 'low_sugar', 'vegan']\": 199,\n",
       "         \"['dairy_free', 'gluten_free', 'low_calorie', 'low_carb', 'low_sugar']\": 199,\n",
       "         \"['dairy_free', 'low_carb', 'low_fat', 'low_sodium', 'vegan']\": 196,\n",
       "         \"['dairy_free', 'low_calorie', 'low_carb', 'low_fat', 'low_sugar', 'vegan']\": 193,\n",
       "         \"['low_carb', 'low_fat', 'vegan', 'vegetarian']\": 180,\n",
       "         \"['gluten_free', 'low_calorie', 'low_carb', 'low_fat', 'low_sodium', 'vegan']\": 179,\n",
       "         \"['gluten_free', 'low_sugar', 'vegan']\": 177,\n",
       "         \"['dairy_free', 'gluten_free', 'low_calorie', 'low_fat', 'low_sodium', 'vegetarian']\": 168,\n",
       "         \"['low_sodium', 'low_sugar', 'vegan', 'vegetarian']\": 162,\n",
       "         \"['dairy_free', 'gluten_free', 'low_fat', 'vegetarian']\": 162,\n",
       "         \"['dairy_free', 'gluten_free', 'low_carb', 'low_fat', 'low_sodium']\": 161,\n",
       "         \"['dairy_free', 'low_carb', 'low_fat', 'vegan', 'vegetarian']\": 158,\n",
       "         \"['dairy_free', 'gluten_free', 'low_calorie', 'low_fat', 'low_sodium', 'low_sugar']\": 155,\n",
       "         \"['dairy_free', 'low_sodium', 'low_sugar', 'vegan', 'vegetarian']\": 144,\n",
       "         \"['gluten_free', 'low_carb', 'vegan']\": 142,\n",
       "         \"['dairy_free', 'gluten_free', 'low_calorie', 'low_carb', 'low_fat', 'low_sodium', 'low_sugar', 'vegan']\": 140,\n",
       "         \"['dairy_free', 'low_calorie', 'low_sodium', 'low_sugar', 'vegan']\": 135,\n",
       "         \"['low_calorie', 'low_carb', 'low_fat', 'low_sugar', 'vegan', 'vegetarian']\": 135,\n",
       "         \"['dairy_free', 'gluten_free', 'low_fat', 'low_sodium', 'vegetarian']\": 131,\n",
       "         \"['low_calorie', 'low_fat', 'low_sodium', 'low_sugar', 'vegan']\": 130,\n",
       "         \"['low_calorie', 'low_carb', 'low_sugar', 'vegan', 'vegetarian']\": 127,\n",
       "         \"['low_calorie', 'low_carb', 'low_fat', 'low_sodium', 'low_sugar', 'vegan', 'vegetarian']\": 126,\n",
       "         \"['low_fat', 'low_sugar', 'vegan', 'vegetarian']\": 123,\n",
       "         \"['dairy_free', 'low_carb', 'low_sodium', 'vegetarian']\": 122,\n",
       "         \"['low_calorie', 'low_sugar', 'vegan']\": 121,\n",
       "         \"['gluten_free', 'low_fat', 'low_sodium', 'low_sugar']\": 119,\n",
       "         \"['gluten_free', 'low_calorie', 'low_carb', 'low_fat', 'low_sugar', 'vegetarian']\": 118,\n",
       "         \"['gluten_free', 'low_calorie', 'low_carb', 'vegan']\": 117,\n",
       "         \"['gluten_free', 'low_calorie', 'vegan']\": 116,\n",
       "         \"['dairy_free', 'gluten_free', 'low_calorie', 'low_carb', 'low_sodium', 'vegetarian']\": 116,\n",
       "         \"['gluten_free', 'low_calorie', 'low_carb', 'low_sodium', 'low_sugar', 'vegetarian']\": 114,\n",
       "         \"['gluten_free', 'low_carb', 'low_sodium', 'vegan']\": 112,\n",
       "         \"['gluten_free', 'low_calorie', 'low_sodium', 'vegan']\": 111,\n",
       "         \"['low_calorie', 'low_carb', 'low_sodium', 'low_sugar', 'vegan', 'vegetarian']\": 111,\n",
       "         \"['dairy_free', 'low_calorie', 'low_fat', 'low_sodium', 'low_sugar', 'vegan', 'vegetarian']\": 110,\n",
       "         \"['dairy_free', 'gluten_free', 'low_calorie', 'low_carb', 'low_sugar', 'vegan']\": 109,\n",
       "         \"['low_carb', 'low_fat', 'low_sodium', 'vegan', 'vegetarian']\": 101,\n",
       "         \"['dairy_free', 'low_carb', 'low_fat', 'low_sodium', 'vegan', 'vegetarian']\": 99,\n",
       "         \"['low_carb', 'low_fat', 'low_sodium', 'vegetarian']\": 97,\n",
       "         \"['low_calorie', 'low_carb', 'low_fat', 'low_sugar', 'vegetarian']\": 96,\n",
       "         \"['low_carb', 'low_sugar', 'vegan', 'vegetarian']\": 91,\n",
       "         \"['low_calorie', 'low_sugar', 'vegan', 'vegetarian']\": 89,\n",
       "         \"['dairy_free', 'low_calorie', 'low_sugar', 'vegan', 'vegetarian']\": 88,\n",
       "         \"['dairy_free', 'gluten_free', 'low_fat', 'low_sugar']\": 87,\n",
       "         \"['dairy_free', 'low_calorie', 'low_carb', 'low_fat', 'low_sodium', 'low_sugar', 'vegan', 'vegetarian']\": 86,\n",
       "         \"['low_fat', 'low_sodium', 'low_sugar', 'vegetarian']\": 81,\n",
       "         \"['low_calorie', 'low_sodium', 'low_sugar', 'vegetarian']\": 81,\n",
       "         \"['dairy_free', 'low_calorie', 'low_carb', 'low_fat', 'low_sodium', 'vegetarian']\": 78,\n",
       "         \"['low_fat', 'low_sodium', 'low_sugar', 'vegan', 'vegetarian']\": 78,\n",
       "         \"['dairy_free', 'gluten_free', 'low_calorie', 'low_sodium', 'vegetarian']\": 77,\n",
       "         \"['dairy_free', 'low_calorie', 'low_carb', 'low_fat', 'low_sugar', 'vegan', 'vegetarian']\": 76,\n",
       "         \"['dairy_free', 'low_fat', 'low_sugar', 'vegan', 'vegetarian']\": 76,\n",
       "         \"['dairy_free', 'gluten_free', 'low_calorie', 'low_fat', 'low_sugar']\": 75,\n",
       "         \"['dairy_free', 'gluten_free', 'low_sodium', 'low_sugar', 'vegan']\": 75,\n",
       "         \"['dairy_free', 'low_calorie', 'low_sodium', 'low_sugar', 'vegan', 'vegetarian']\": 74,\n",
       "         \"['dairy_free', 'gluten_free', 'low_calorie', 'low_sugar']\": 73,\n",
       "         \"['low_calorie', 'low_sodium', 'low_sugar', 'vegan', 'vegetarian']\": 73,\n",
       "         \"['gluten_free', 'low_calorie', 'low_carb', 'low_fat', 'vegan']\": 70,\n",
       "         \"['gluten_free', 'low_fat', 'low_sugar', 'vegetarian']\": 70,\n",
       "         \"['dairy_free', 'low_calorie', 'low_carb', 'low_sugar', 'vegan', 'vegetarian']\": 70,\n",
       "         \"['dairy_free', 'gluten_free', 'low_carb', 'low_fat', 'low_sodium', 'vegan']\": 70,\n",
       "         \"['dairy_free', 'gluten_free', 'low_calorie', 'low_carb', 'vegetarian']\": 69,\n",
       "         \"['dairy_free', 'gluten_free', 'low_sugar', 'vegetarian']\": 68,\n",
       "         \"['dairy_free', 'low_carb', 'low_fat', 'low_sugar']\": 67,\n",
       "         \"['gluten_free', 'low_calorie', 'low_fat', 'low_sugar', 'vegetarian']\": 65,\n",
       "         \"['low_carb', 'low_sugar', 'vegan']\": 64,\n",
       "         \"['dairy_free', 'gluten_free', 'low_calorie', 'low_fat', 'low_sodium', 'low_sugar', 'vegan']\": 62,\n",
       "         \"['low_carb', 'low_fat', 'low_sodium', 'low_sugar']\": 60,\n",
       "         \"['dairy_free', 'low_fat', 'low_sodium', 'low_sugar', 'vegan', 'vegetarian']\": 59,\n",
       "         \"['low_fat', 'low_sodium', 'low_sugar', 'vegan']\": 59,\n",
       "         \"['dairy_free', 'gluten_free', 'low_fat', 'low_sodium', 'low_sugar', 'vegan']\": 57,\n",
       "         \"['dairy_free', 'gluten_free', 'low_carb', 'low_sugar', 'vegan']\": 55,\n",
       "         \"['dairy_free', 'gluten_free', 'low_carb', 'low_fat', 'vegan']\": 55,\n",
       "         \"['low_calorie', 'low_carb', 'low_fat', 'low_sodium', 'low_sugar', 'vegan']\": 55,\n",
       "         \"['dairy_free', 'gluten_free', 'low_calorie', 'low_sodium', 'low_sugar']\": 53,\n",
       "         \"['gluten_free', 'low_calorie', 'low_carb', 'low_sugar', 'vegetarian']\": 53,\n",
       "         \"['gluten_free', 'low_sodium', 'low_sugar', 'vegetarian']\": 53,\n",
       "         \"['dairy_free', 'gluten_free', 'low_fat', 'low_sugar', 'vegan']\": 52,\n",
       "         \"['dairy_free', 'gluten_free', 'low_fat', 'low_sodium', 'low_sugar']\": 47,\n",
       "         \"['dairy_free', 'low_carb', 'low_sodium', 'low_sugar', 'vegan']\": 47,\n",
       "         \"['dairy_free', 'low_carb', 'low_sugar', 'vegan', 'vegetarian']\": 47,\n",
       "         \"['dairy_free', 'gluten_free', 'low_calorie', 'low_sugar', 'vegan']\": 47,\n",
       "         \"['dairy_free', 'gluten_free', 'low_calorie', 'low_carb', 'low_sodium', 'low_sugar', 'vegan', 'vegetarian']\": 46,\n",
       "         \"['low_calorie', 'low_carb', 'low_sodium', 'low_sugar', 'vegan']\": 45,\n",
       "         \"['dairy_free', 'gluten_free', 'low_carb', 'low_fat', 'low_sodium', 'vegan', 'vegetarian']\": 44,\n",
       "         \"['dairy_free', 'gluten_free', 'low_sodium', 'low_sugar', 'vegan', 'vegetarian']\": 44,\n",
       "         \"['low_calorie', 'low_fat', 'low_sugar', 'vegan', 'vegetarian']\": 44,\n",
       "         \"['low_carb', 'low_fat', 'vegan']\": 43,\n",
       "         \"['low_carb', 'low_sodium', 'low_sugar', 'vegetarian']\": 40,\n",
       "         \"['dairy_free', 'gluten_free', 'low_carb', 'low_fat', 'vegan', 'vegetarian']\": 40,\n",
       "         \"['gluten_free', 'low_calorie', 'low_carb', 'low_fat', 'low_sugar', 'vegan', 'vegetarian']\": 40,\n",
       "         \"['low_calorie', 'low_fat', 'low_sugar', 'vegan']\": 39,\n",
       "         \"['dairy_free', 'gluten_free', 'low_calorie', 'low_sodium', 'low_sugar', 'vegan']\": 39,\n",
       "         \"['gluten_free', 'low_sodium', 'low_sugar', 'vegan', 'vegetarian']\": 39,\n",
       "         \"['gluten_free', 'low_carb', 'low_fat', 'vegetarian']\": 39,\n",
       "         \"['gluten_free', 'low_carb', 'low_fat', 'vegan', 'vegetarian']\": 38,\n",
       "         \"['low_sodium', 'low_sugar', 'vegan']\": 38,\n",
       "         \"['dairy_free', 'low_calorie', 'low_fat', 'low_sugar', 'vegan', 'vegetarian']\": 38,\n",
       "         \"['low_calorie', 'low_sodium', 'low_sugar', 'vegan']\": 38,\n",
       "         \"['low_fat', 'low_sugar', 'vegan']\": 37,\n",
       "         \"['dairy_free', 'gluten_free', 'low_carb', 'low_sodium', 'vegetarian']\": 36,\n",
       "         \"['gluten_free', 'low_carb', 'low_fat', 'low_sugar']\": 34,\n",
       "         \"['gluten_free', 'low_carb', 'low_fat', 'low_sodium', 'vegetarian']\": 34,\n",
       "         \"['dairy_free', 'gluten_free', 'low_calorie', 'vegetarian']\": 32,\n",
       "         \"['dairy_free', 'gluten_free', 'low_fat', 'low_sodium', 'low_sugar', 'vegan', 'vegetarian']\": 32,\n",
       "         \"['gluten_free', 'low_calorie', 'low_carb', 'low_sodium', 'low_sugar', 'vegan', 'vegetarian']\": 31,\n",
       "         \"['dairy_free', 'gluten_free', 'low_calorie', 'low_carb', 'low_fat', 'low_sugar', 'vegan']\": 31,\n",
       "         \"['dairy_free', 'low_sodium', 'low_sugar', 'vegetarian']\": 31,\n",
       "         \"['dairy_free', 'gluten_free', 'low_calorie', 'low_carb', 'low_fat', 'low_sodium', 'vegetarian']\": 30,\n",
       "         \"['dairy_free', 'gluten_free', 'low_carb', 'low_sodium', 'low_sugar', 'vegan']\": 30,\n",
       "         \"['dairy_free', 'gluten_free', 'low_carb', 'low_sugar', 'vegan', 'vegetarian']\": 29,\n",
       "         \"['dairy_free', 'gluten_free', 'low_calorie', 'low_carb', 'low_sugar', 'vegan', 'vegetarian']\": 27,\n",
       "         \"['gluten_free', 'low_calorie', 'low_carb', 'low_fat', 'low_sodium', 'low_sugar', 'vegetarian']\": 26,\n",
       "         \"['gluten_free', 'low_calorie', 'low_sugar', 'vegan', 'vegetarian']\": 26,\n",
       "         \"['gluten_free', 'low_calorie', 'low_carb', 'low_fat', 'low_sodium', 'low_sugar', 'vegan', 'vegetarian']\": 26,\n",
       "         \"['gluten_free', 'low_calorie', 'low_fat', 'low_sodium', 'low_sugar', 'vegetarian']\": 26,\n",
       "         \"['dairy_free', 'gluten_free', 'low_calorie', 'low_carb', 'low_fat', 'low_sodium', 'low_sugar', 'vegan', 'vegetarian']\": 26,\n",
       "         \"['dairy_free', 'low_calorie', 'low_carb', 'low_fat', 'vegetarian']\": 25,\n",
       "         \"['dairy_free', 'low_carb', 'low_sodium', 'low_sugar', 'vegan', 'vegetarian']\": 25,\n",
       "         \"['gluten_free', 'low_calorie', 'low_carb', 'low_sugar', 'vegan', 'vegetarian']\": 23,\n",
       "         \"['dairy_free', 'gluten_free', 'low_calorie', 'low_fat', 'low_sugar', 'vegan']\": 23,\n",
       "         \"['low_carb', 'low_sodium', 'low_sugar', 'vegan', 'vegetarian']\": 23,\n",
       "         \"['gluten_free', 'low_fat', 'low_sodium', 'low_sugar', 'vegan', 'vegetarian']\": 23,\n",
       "         \"['dairy_free', 'low_carb', 'low_fat', 'low_sugar', 'vegan']\": 23,\n",
       "         \"['gluten_free', 'low_carb', 'low_fat', 'low_sodium', 'vegan', 'vegetarian']\": 22,\n",
       "         \"['dairy_free', 'gluten_free', 'low_calorie', 'low_sugar', 'vegan', 'vegetarian']\": 22,\n",
       "         \"['dairy_free', 'low_calorie', 'low_fat', 'low_sodium', 'low_sugar', 'vegetarian']\": 21,\n",
       "         \"['gluten_free', 'low_calorie', 'low_sugar', 'vegetarian']\": 19,\n",
       "         \"['low_calorie', 'low_carb', 'low_sugar', 'vegan']\": 19,\n",
       "         \"['gluten_free', 'low_fat', 'low_sugar', 'vegan', 'vegetarian']\": 19,\n",
       "         \"['low_carb', 'low_fat', 'low_sodium', 'low_sugar', 'vegetarian']\": 18,\n",
       "         \"['dairy_free', 'low_calorie', 'low_carb', 'low_sugar', 'vegetarian']\": 17,\n",
       "         \"['dairy_free', 'gluten_free', 'low_calorie', 'low_sodium', 'low_sugar', 'vegan', 'vegetarian']\": 17,\n",
       "         \"['gluten_free', 'low_calorie', 'low_carb', 'low_sodium', 'low_sugar', 'vegan']\": 16,\n",
       "         \"['low_calorie', 'low_carb', 'low_fat', 'low_sugar', 'vegan']\": 16,\n",
       "         \"['gluten_free', 'low_calorie', 'low_sodium', 'low_sugar', 'vegetarian']\": 16,\n",
       "         \"['dairy_free', 'gluten_free', 'low_calorie', 'low_carb', 'low_fat', 'low_sugar', 'vegan', 'vegetarian']\": 15,\n",
       "         \"['gluten_free', 'low_carb', 'low_sodium', 'low_sugar', 'vegetarian']\": 14,\n",
       "         \"['dairy_free', 'low_calorie', 'low_fat', 'low_sugar', 'vegetarian']\": 14,\n",
       "         \"['gluten_free', 'low_sodium', 'low_sugar', 'vegan']\": 14,\n",
       "         \"['gluten_free', 'low_calorie', 'low_carb', 'low_sugar', 'vegan']\": 13,\n",
       "         \"['gluten_free', 'low_calorie', 'low_sodium', 'low_sugar', 'vegan', 'vegetarian']\": 12,\n",
       "         \"['dairy_free', 'gluten_free', 'low_fat', 'low_sugar', 'vegan', 'vegetarian']\": 12,\n",
       "         \"['gluten_free', 'low_carb', 'low_sugar', 'vegan', 'vegetarian']\": 12,\n",
       "         \"['gluten_free', 'low_carb', 'low_fat', 'low_sodium', 'low_sugar']\": 12,\n",
       "         \"['gluten_free', 'low_calorie', 'low_carb', 'low_fat', 'low_sodium', 'low_sugar', 'vegan']\": 11,\n",
       "         \"['dairy_free', 'low_carb', 'low_fat', 'low_sodium', 'low_sugar']\": 11,\n",
       "         \"['dairy_free', 'low_carb', 'low_sugar', 'vegetarian']\": 11,\n",
       "         \"['dairy_free', 'gluten_free', 'low_carb', 'low_sodium', 'low_sugar', 'vegan', 'vegetarian']\": 10,\n",
       "         \"['gluten_free', 'low_calorie', 'low_fat', 'low_sugar', 'vegan', 'vegetarian']\": 10,\n",
       "         \"['dairy_free', 'gluten_free', 'low_calorie', 'low_fat', 'low_sodium', 'low_sugar', 'vegan', 'vegetarian']\": 10,\n",
       "         \"['gluten_free', 'low_calorie', 'low_fat', 'low_sodium', 'low_sugar', 'vegan', 'vegetarian']\": 10,\n",
       "         \"['dairy_free', 'low_carb', 'low_fat', 'low_sodium', 'low_sugar', 'vegan']\": 10,\n",
       "         \"['dairy_free', 'low_carb', 'low_sodium', 'low_sugar', 'vegetarian']\": 9,\n",
       "         \"['dairy_free', 'gluten_free', 'low_carb', 'low_fat', 'low_sodium', 'low_sugar', 'vegan']\": 9,\n",
       "         \"['gluten_free', 'low_carb', 'low_fat', 'low_sodium', 'vegan']\": 9,\n",
       "         \"['low_carb', 'low_fat', 'low_sodium', 'vegan']\": 9,\n",
       "         \"['dairy_free', 'low_fat', 'low_sugar', 'vegetarian']\": 8,\n",
       "         \"['gluten_free', 'low_fat', 'low_sodium', 'low_sugar', 'vegetarian']\": 8,\n",
       "         \"['dairy_free', 'gluten_free', 'low_carb', 'low_fat', 'low_sugar']\": 7,\n",
       "         \"['low_carb', 'low_fat', 'low_sugar', 'vegan', 'vegetarian']\": 7,\n",
       "         \"['low_carb', 'low_sodium', 'low_sugar', 'vegan']\": 6,\n",
       "         \"['low_carb', 'low_fat', 'low_sugar', 'vegetarian']\": 6,\n",
       "         \"['gluten_free', 'low_carb', 'low_sodium', 'low_sugar', 'vegan', 'vegetarian']\": 6,\n",
       "         \"['gluten_free', 'low_carb', 'low_sugar', 'vegan']\": 5,\n",
       "         \"['gluten_free', 'low_calorie', 'low_fat', 'low_sodium', 'low_sugar', 'vegan']\": 5,\n",
       "         \"['dairy_free', 'low_carb', 'low_fat', 'low_sugar', 'vegan', 'vegetarian']\": 5,\n",
       "         \"['dairy_free', 'gluten_free', 'low_sodium', 'low_sugar', 'vegetarian']\": 5,\n",
       "         \"['dairy_free', 'low_calorie', 'low_sugar', 'vegetarian']\": 5,\n",
       "         \"['dairy_free', 'gluten_free', 'low_carb', 'low_sodium', 'low_sugar', 'vegetarian']\": 5,\n",
       "         \"['low_carb', 'low_fat', 'low_sugar', 'vegan']\": 5,\n",
       "         \"['gluten_free', 'low_fat', 'low_sugar', 'vegan']\": 5,\n",
       "         \"['gluten_free', 'low_calorie', 'low_sugar', 'vegan']\": 5,\n",
       "         \"['low_carb', 'low_fat', 'low_sodium', 'low_sugar', 'vegan', 'vegetarian']\": 4,\n",
       "         \"['gluten_free', 'low_fat', 'low_sodium', 'low_sugar', 'vegan']\": 4,\n",
       "         \"['dairy_free', 'low_carb', 'low_fat', 'low_sodium', 'low_sugar', 'vegan', 'vegetarian']\": 4,\n",
       "         \"['gluten_free', 'low_calorie', 'low_sodium', 'low_sugar', 'vegan']\": 4,\n",
       "         \"['dairy_free', 'gluten_free', 'low_calorie', 'low_carb', 'low_fat', 'vegetarian']\": 4,\n",
       "         \"['dairy_free', 'gluten_free', 'low_fat', 'low_sodium', 'low_sugar', 'vegetarian']\": 4,\n",
       "         \"['gluten_free', 'low_carb', 'low_fat', 'vegan']\": 3,\n",
       "         \"['dairy_free', 'gluten_free', 'low_calorie', 'low_fat', 'low_sugar', 'vegan', 'vegetarian']\": 3,\n",
       "         \"['dairy_free', 'low_fat', 'low_sodium', 'low_sugar', 'vegetarian']\": 3,\n",
       "         \"['gluten_free', 'low_carb', 'low_fat', 'low_sugar', 'vegetarian']\": 2,\n",
       "         \"['dairy_free', 'low_carb', 'low_fat', 'low_sodium', 'vegetarian']\": 2,\n",
       "         \"['gluten_free', 'low_calorie', 'low_carb', 'low_fat', 'low_sugar', 'vegan']\": 2,\n",
       "         \"['gluten_free', 'low_carb', 'low_fat', 'low_sugar', 'vegan', 'vegetarian']\": 2,\n",
       "         \"['gluten_free', 'low_carb', 'low_fat', 'low_sodium', 'low_sugar', 'vegetarian']\": 2,\n",
       "         \"['dairy_free', 'low_calorie', 'low_sodium', 'low_sugar', 'vegetarian']\": 2,\n",
       "         \"['dairy_free', 'gluten_free', 'low_carb', 'low_sugar', 'vegetarian']\": 2,\n",
       "         \"['dairy_free', 'low_carb', 'low_fat', 'vegetarian']\": 2,\n",
       "         \"['gluten_free', 'low_carb', 'low_sodium', 'low_sugar', 'vegan']\": 2,\n",
       "         \"['dairy_free', 'gluten_free', 'low_carb', 'low_fat', 'low_sodium', 'low_sugar']\": 2,\n",
       "         \"['gluten_free', 'low_calorie', 'low_fat', 'low_sugar', 'vegan']\": 1,\n",
       "         \"['dairy_free', 'low_calorie', 'low_carb', 'low_fat', 'low_sugar', 'vegetarian']\": 1,\n",
       "         \"['dairy_free', 'gluten_free', 'low_calorie', 'low_carb', 'low_fat', 'low_sodium', 'low_sugar', 'vegetarian']\": 1,\n",
       "         \"['dairy_free', 'gluten_free', 'low_calorie', 'low_fat', 'low_sugar', 'vegetarian']\": 1,\n",
       "         \"['dairy_free', 'gluten_free', 'low_carb', 'low_fat', 'vegetarian']\": 1,\n",
       "         \"['dairy_free', 'gluten_free', 'low_carb', 'low_fat', 'low_sugar', 'vegan', 'vegetarian']\": 1,\n",
       "         \"['dairy_free', 'gluten_free', 'low_calorie', 'low_carb', 'low_sugar', 'vegetarian']\": 1,\n",
       "         \"['dairy_free', 'low_calorie', 'low_carb', 'low_fat', 'low_sodium', 'low_sugar', 'vegetarian']\": 1,\n",
       "         \"['gluten_free', 'low_carb', 'low_fat', 'low_sodium', 'low_sugar', 'vegan', 'vegetarian']\": 1,\n",
       "         \"['dairy_free', 'gluten_free', 'low_carb', 'low_fat', 'low_sugar', 'vegan']\": 1,\n",
       "         \"['gluten_free', 'low_carb', 'low_fat', 'low_sodium', 'low_sugar', 'vegan']\": 1})"
      ]
     },
     "execution_count": 22,
     "metadata": {},
     "output_type": "execute_result"
    }
   ],
   "source": [
    "from collections import Counter\n",
    "\n",
    "Counter(pairs['categories'])"
   ]
  },
  {
   "cell_type": "code",
   "execution_count": null,
   "metadata": {},
   "outputs": [
    {
     "data": {
      "text/plain": [
       "base                        96313\n",
       "target                      86230\n",
       "name_overlap    grilled garlic ch\n",
       "name_iou                   0.5312\n",
       "categories         ['dairy_free']\n",
       "Name: 0, dtype: object"
      ]
     },
     "execution_count": 31,
     "metadata": {},
     "output_type": "execute_result"
    }
   ],
   "source": [
    "pairs.loc[0]"
   ]
  },
  {
   "cell_type": "code",
   "execution_count": 35,
   "metadata": {},
   "outputs": [
    {
     "data": {
      "application/vnd.microsoft.datawrangler.viewer.v0+json": {
       "columns": [
        {
         "name": "index",
         "rawType": "int64",
         "type": "integer"
        },
        {
         "name": "id",
         "rawType": "int64",
         "type": "integer"
        },
        {
         "name": "name",
         "rawType": "object",
         "type": "string"
        },
        {
         "name": "steps",
         "rawType": "object",
         "type": "string"
        },
        {
         "name": "ingredients",
         "rawType": "object",
         "type": "unknown"
        },
        {
         "name": "categories",
         "rawType": "object",
         "type": "unknown"
        },
        {
         "name": "name_tokens",
         "rawType": "object",
         "type": "unknown"
        }
       ],
       "conversionMethod": "pd.DataFrame",
       "ref": "d3f67be9-2993-4381-a599-b49fe521a048",
       "rows": [
        [
         "0",
         "96313",
         "grilled garlic cheese grits",
         "i a sauce pan, bring water to a boil; slowly add grits and salt, stirring constantly; reduce heat:simmer, uncovered, for 40-45 minutes or untill thickened, stirrin occasionally. add cheese and garlic; stir until cheese is melted, spray 9-inch baking dish with nonstick cooking spray; cover and refrigerate for 2 to 2 1/2 hours or until frim. before starting the grill, coat the grill rack with nonstick cooking spray; cut the grits into 3-inch squares; brush both sides with olive oil. grill, covered, over medium heat for 4 to 6 minutes on each side or until lightly browned.",
         "['cheddar' 'garlic' 'grit' 'olive oil' 'salt' 'water']",
         "['low_calorie' 'low_sugar' 'gluten_free' 'low_carb' 'vegetarian']",
         "['grill' 'garlic' 'cheese' 'grit']"
        ]
       ],
       "shape": {
        "columns": 6,
        "rows": 1
       }
      },
      "text/html": [
       "<div>\n",
       "<style scoped>\n",
       "    .dataframe tbody tr th:only-of-type {\n",
       "        vertical-align: middle;\n",
       "    }\n",
       "\n",
       "    .dataframe tbody tr th {\n",
       "        vertical-align: top;\n",
       "    }\n",
       "\n",
       "    .dataframe thead th {\n",
       "        text-align: right;\n",
       "    }\n",
       "</style>\n",
       "<table border=\"1\" class=\"dataframe\">\n",
       "  <thead>\n",
       "    <tr style=\"text-align: right;\">\n",
       "      <th></th>\n",
       "      <th>id</th>\n",
       "      <th>name</th>\n",
       "      <th>steps</th>\n",
       "      <th>ingredients</th>\n",
       "      <th>categories</th>\n",
       "      <th>name_tokens</th>\n",
       "    </tr>\n",
       "  </thead>\n",
       "  <tbody>\n",
       "    <tr>\n",
       "      <th>0</th>\n",
       "      <td>96313</td>\n",
       "      <td>grilled garlic cheese grits</td>\n",
       "      <td>i a sauce pan, bring water to a boil; slowly a...</td>\n",
       "      <td>[cheddar, garlic, grit, olive oil, salt, water]</td>\n",
       "      <td>[low_calorie, low_sugar, gluten_free, low_carb...</td>\n",
       "      <td>[grill, garlic, cheese, grit]</td>\n",
       "    </tr>\n",
       "  </tbody>\n",
       "</table>\n",
       "</div>"
      ],
      "text/plain": [
       "      id                         name  \\\n",
       "0  96313  grilled garlic cheese grits   \n",
       "\n",
       "                                               steps  \\\n",
       "0  i a sauce pan, bring water to a boil; slowly a...   \n",
       "\n",
       "                                       ingredients  \\\n",
       "0  [cheddar, garlic, grit, olive oil, salt, water]   \n",
       "\n",
       "                                          categories  \\\n",
       "0  [low_calorie, low_sugar, gluten_free, low_carb...   \n",
       "\n",
       "                     name_tokens  \n",
       "0  [grill, garlic, cheese, grit]  "
      ]
     },
     "execution_count": 35,
     "metadata": {},
     "output_type": "execute_result"
    }
   ],
   "source": [
    "recipes.loc[recipes['id'] == pairs.loc[0].base]"
   ]
  },
  {
   "cell_type": "code",
   "execution_count": 36,
   "metadata": {},
   "outputs": [
    {
     "data": {
      "application/vnd.microsoft.datawrangler.viewer.v0+json": {
       "columns": [
        {
         "name": "index",
         "rawType": "int64",
         "type": "integer"
        },
        {
         "name": "id",
         "rawType": "int64",
         "type": "integer"
        },
        {
         "name": "name",
         "rawType": "object",
         "type": "string"
        },
        {
         "name": "steps",
         "rawType": "object",
         "type": "string"
        },
        {
         "name": "ingredients",
         "rawType": "object",
         "type": "unknown"
        },
        {
         "name": "categories",
         "rawType": "object",
         "type": "unknown"
        },
        {
         "name": "name_tokens",
         "rawType": "object",
         "type": "unknown"
        }
       ],
       "conversionMethod": "pd.DataFrame",
       "ref": "86aed22f-8f0a-44b3-a7c2-a6c266117836",
       "rows": [
        [
         "6723",
         "86230",
         "grilled garlic chicken",
         "in medium bowl, combine soup mix with oil. add chicken; toss to coat. grill or broil until chicken is done.",
         "['chicken' 'mushroom' 'oil']",
         "['dairy_free' 'gluten_free' 'low_carb']",
         "['grill' 'garlic' 'chicken']"
        ]
       ],
       "shape": {
        "columns": 6,
        "rows": 1
       }
      },
      "text/html": [
       "<div>\n",
       "<style scoped>\n",
       "    .dataframe tbody tr th:only-of-type {\n",
       "        vertical-align: middle;\n",
       "    }\n",
       "\n",
       "    .dataframe tbody tr th {\n",
       "        vertical-align: top;\n",
       "    }\n",
       "\n",
       "    .dataframe thead th {\n",
       "        text-align: right;\n",
       "    }\n",
       "</style>\n",
       "<table border=\"1\" class=\"dataframe\">\n",
       "  <thead>\n",
       "    <tr style=\"text-align: right;\">\n",
       "      <th></th>\n",
       "      <th>id</th>\n",
       "      <th>name</th>\n",
       "      <th>steps</th>\n",
       "      <th>ingredients</th>\n",
       "      <th>categories</th>\n",
       "      <th>name_tokens</th>\n",
       "    </tr>\n",
       "  </thead>\n",
       "  <tbody>\n",
       "    <tr>\n",
       "      <th>6723</th>\n",
       "      <td>86230</td>\n",
       "      <td>grilled garlic chicken</td>\n",
       "      <td>in medium bowl, combine soup mix with oil. add...</td>\n",
       "      <td>[chicken, mushroom, oil]</td>\n",
       "      <td>[dairy_free, gluten_free, low_carb]</td>\n",
       "      <td>[grill, garlic, chicken]</td>\n",
       "    </tr>\n",
       "  </tbody>\n",
       "</table>\n",
       "</div>"
      ],
      "text/plain": [
       "         id                    name  \\\n",
       "6723  86230  grilled garlic chicken   \n",
       "\n",
       "                                                  steps  \\\n",
       "6723  in medium bowl, combine soup mix with oil. add...   \n",
       "\n",
       "                   ingredients                           categories  \\\n",
       "6723  [chicken, mushroom, oil]  [dairy_free, gluten_free, low_carb]   \n",
       "\n",
       "                   name_tokens  \n",
       "6723  [grill, garlic, chicken]  "
      ]
     },
     "execution_count": 36,
     "metadata": {},
     "output_type": "execute_result"
    }
   ],
   "source": [
    "recipes.loc[recipes['id'] == pairs.loc[0].target]"
   ]
  },
  {
   "cell_type": "markdown",
   "metadata": {},
   "source": [
    "Several of the name overlaps here are for recipes that are clearly distinct. Lets play around with name overlap to try and get better pairs"
   ]
  },
  {
   "cell_type": "code",
   "execution_count": 37,
   "metadata": {},
   "outputs": [
    {
     "data": {
      "application/vnd.microsoft.datawrangler.viewer.v0+json": {
       "columns": [
        {
         "name": "index",
         "rawType": "int64",
         "type": "integer"
        },
        {
         "name": "base",
         "rawType": "int64",
         "type": "integer"
        },
        {
         "name": "target",
         "rawType": "int64",
         "type": "integer"
        },
        {
         "name": "name_overlap",
         "rawType": "object",
         "type": "string"
        },
        {
         "name": "name_iou",
         "rawType": "float64",
         "type": "float"
        },
        {
         "name": "categories",
         "rawType": "object",
         "type": "string"
        }
       ],
       "conversionMethod": "pd.DataFrame",
       "ref": "ae8d529f-8870-4c8d-b652-0e2f2ac7a561",
       "rows": [
        [
         "2",
         "107592",
         "96313",
         "garlic cheese grits",
         "0.7037",
         "['low_calorie', 'low_sugar']"
        ],
        [
         "9",
         "67385",
         "96313",
         "garlic cheese grits",
         "0.7037",
         "['low_calorie', 'low_carb', 'low_sugar', 'vegetarian']"
        ],
        [
         "10",
         "155316",
         "96313",
         "garlic cheese grits",
         "0.7037",
         "['low_calorie', 'low_carb', 'low_sugar']"
        ],
        [
         "14",
         "202932",
         "96313",
         "garlic cheese grits",
         "0.7037",
         "['low_calorie', 'low_carb', 'low_sugar']"
        ],
        [
         "15",
         "472759",
         "96313",
         "ed garlic cheese grits",
         "0.7333",
         "['low_calorie', 'low_sugar', 'vegetarian']"
        ]
       ],
       "shape": {
        "columns": 5,
        "rows": 5
       }
      },
      "text/html": [
       "<div>\n",
       "<style scoped>\n",
       "    .dataframe tbody tr th:only-of-type {\n",
       "        vertical-align: middle;\n",
       "    }\n",
       "\n",
       "    .dataframe tbody tr th {\n",
       "        vertical-align: top;\n",
       "    }\n",
       "\n",
       "    .dataframe thead th {\n",
       "        text-align: right;\n",
       "    }\n",
       "</style>\n",
       "<table border=\"1\" class=\"dataframe\">\n",
       "  <thead>\n",
       "    <tr style=\"text-align: right;\">\n",
       "      <th></th>\n",
       "      <th>base</th>\n",
       "      <th>target</th>\n",
       "      <th>name_overlap</th>\n",
       "      <th>name_iou</th>\n",
       "      <th>categories</th>\n",
       "    </tr>\n",
       "  </thead>\n",
       "  <tbody>\n",
       "    <tr>\n",
       "      <th>2</th>\n",
       "      <td>107592</td>\n",
       "      <td>96313</td>\n",
       "      <td>garlic cheese grits</td>\n",
       "      <td>0.7037</td>\n",
       "      <td>['low_calorie', 'low_sugar']</td>\n",
       "    </tr>\n",
       "    <tr>\n",
       "      <th>9</th>\n",
       "      <td>67385</td>\n",
       "      <td>96313</td>\n",
       "      <td>garlic cheese grits</td>\n",
       "      <td>0.7037</td>\n",
       "      <td>['low_calorie', 'low_carb', 'low_sugar', 'vege...</td>\n",
       "    </tr>\n",
       "    <tr>\n",
       "      <th>10</th>\n",
       "      <td>155316</td>\n",
       "      <td>96313</td>\n",
       "      <td>garlic cheese grits</td>\n",
       "      <td>0.7037</td>\n",
       "      <td>['low_calorie', 'low_carb', 'low_sugar']</td>\n",
       "    </tr>\n",
       "    <tr>\n",
       "      <th>14</th>\n",
       "      <td>202932</td>\n",
       "      <td>96313</td>\n",
       "      <td>garlic cheese grits</td>\n",
       "      <td>0.7037</td>\n",
       "      <td>['low_calorie', 'low_carb', 'low_sugar']</td>\n",
       "    </tr>\n",
       "    <tr>\n",
       "      <th>15</th>\n",
       "      <td>472759</td>\n",
       "      <td>96313</td>\n",
       "      <td>ed garlic cheese grits</td>\n",
       "      <td>0.7333</td>\n",
       "      <td>['low_calorie', 'low_sugar', 'vegetarian']</td>\n",
       "    </tr>\n",
       "  </tbody>\n",
       "</table>\n",
       "</div>"
      ],
      "text/plain": [
       "      base  target            name_overlap  name_iou  \\\n",
       "2   107592   96313     garlic cheese grits    0.7037   \n",
       "9    67385   96313     garlic cheese grits    0.7037   \n",
       "10  155316   96313     garlic cheese grits    0.7037   \n",
       "14  202932   96313     garlic cheese grits    0.7037   \n",
       "15  472759   96313  ed garlic cheese grits    0.7333   \n",
       "\n",
       "                                           categories  \n",
       "2                        ['low_calorie', 'low_sugar']  \n",
       "9   ['low_calorie', 'low_carb', 'low_sugar', 'vege...  \n",
       "10           ['low_calorie', 'low_carb', 'low_sugar']  \n",
       "14           ['low_calorie', 'low_carb', 'low_sugar']  \n",
       "15         ['low_calorie', 'low_sugar', 'vegetarian']  "
      ]
     },
     "execution_count": 37,
     "metadata": {},
     "output_type": "execute_result"
    }
   ],
   "source": [
    "pairs_subset = pairs[pairs['name_iou'] > 0.7]\n",
    "pairs_subset.head()"
   ]
  },
  {
   "cell_type": "code",
   "execution_count": 38,
   "metadata": {},
   "outputs": [
    {
     "data": {
      "text/plain": [
       "(939922, 5)"
      ]
     },
     "execution_count": 38,
     "metadata": {},
     "output_type": "execute_result"
    }
   ],
   "source": [
    "pairs_subset.shape"
   ]
  },
  {
   "cell_type": "code",
   "execution_count": 39,
   "metadata": {},
   "outputs": [
    {
     "data": {
      "text/plain": [
       "Counter({\"['dairy_free']\": 132382,\n",
       "         \"['gluten_free']\": 132372,\n",
       "         \"['low_carb']\": 81168,\n",
       "         \"['low_sodium']\": 80889,\n",
       "         \"['vegetarian']\": 63374,\n",
       "         \"['low_calorie', 'low_carb']\": 34039,\n",
       "         \"['dairy_free', 'vegan']\": 33742,\n",
       "         \"['low_calorie']\": 26332,\n",
       "         \"['low_calorie', 'low_carb', 'low_sodium']\": 21840,\n",
       "         \"['low_fat']\": 21784,\n",
       "         \"['low_sugar']\": 16870,\n",
       "         \"['gluten_free', 'low_carb']\": 16774,\n",
       "         \"['dairy_free', 'gluten_free']\": 16045,\n",
       "         \"['low_calorie', 'low_fat']\": 13058,\n",
       "         \"['low_carb', 'low_sodium']\": 12973,\n",
       "         \"['vegan', 'vegetarian']\": 11842,\n",
       "         \"['gluten_free', 'low_sodium']\": 11664,\n",
       "         \"['low_calorie', 'low_fat', 'low_sodium']\": 10615,\n",
       "         \"['low_calorie', 'low_sodium']\": 10420,\n",
       "         \"['low_calorie', 'low_carb', 'low_fat']\": 8563,\n",
       "         \"['vegan']\": 8470,\n",
       "         \"['dairy_free', 'vegan', 'vegetarian']\": 7946,\n",
       "         \"['low_calorie', 'low_carb', 'low_fat', 'low_sodium']\": 7039,\n",
       "         \"['dairy_free', 'low_sodium']\": 7025,\n",
       "         \"['low_fat', 'low_sodium']\": 6303,\n",
       "         \"['gluten_free', 'low_calorie', 'low_carb']\": 5926,\n",
       "         \"['gluten_free', 'vegetarian']\": 5668,\n",
       "         \"['dairy_free', 'low_carb']\": 5049,\n",
       "         \"['dairy_free', 'low_fat']\": 4393,\n",
       "         \"['low_sodium', 'vegetarian']\": 4316,\n",
       "         \"['gluten_free', 'low_calorie', 'low_carb', 'low_sodium']\": 4264,\n",
       "         \"['dairy_free', 'low_calorie', 'low_carb']\": 3613,\n",
       "         \"['gluten_free', 'low_carb', 'low_sodium']\": 3554,\n",
       "         \"['dairy_free', 'gluten_free', 'vegan']\": 3522,\n",
       "         \"['low_carb', 'vegetarian']\": 3182,\n",
       "         \"['dairy_free', 'low_calorie']\": 2997,\n",
       "         \"['dairy_free', 'low_sodium', 'vegan']\": 2799,\n",
       "         \"['dairy_free', 'low_calorie', 'low_fat']\": 2690,\n",
       "         \"['gluten_free', 'low_calorie']\": 2643,\n",
       "         \"['dairy_free', 'low_calorie', 'low_carb', 'low_sodium']\": 2391,\n",
       "         \"['gluten_free', 'low_sugar']\": 2341,\n",
       "         \"['dairy_free', 'low_fat', 'vegan']\": 2224,\n",
       "         \"['dairy_free', 'low_carb', 'low_sodium']\": 2167,\n",
       "         \"['dairy_free', 'vegetarian']\": 2113,\n",
       "         \"['dairy_free', 'low_sugar']\": 2112,\n",
       "         \"['gluten_free', 'low_fat']\": 1875,\n",
       "         \"['low_calorie', 'low_carb', 'vegetarian']\": 1727,\n",
       "         \"['low_calorie', 'vegetarian']\": 1684,\n",
       "         \"['dairy_free', 'low_calorie', 'low_fat', 'low_sodium']\": 1520,\n",
       "         \"['dairy_free', 'low_calorie', 'low_carb', 'low_fat']\": 1496,\n",
       "         \"['dairy_free', 'gluten_free', 'low_carb']\": 1478,\n",
       "         \"['low_calorie', 'low_sodium', 'vegetarian']\": 1444,\n",
       "         \"['gluten_free', 'low_calorie', 'low_carb', 'low_fat', 'low_sodium']\": 1441,\n",
       "         \"['gluten_free', 'low_calorie', 'low_sodium']\": 1422,\n",
       "         \"['gluten_free', 'low_calorie', 'low_carb', 'low_fat']\": 1402,\n",
       "         \"['low_calorie', 'low_carb', 'low_sodium', 'vegetarian']\": 1292,\n",
       "         \"['dairy_free', 'gluten_free', 'vegan', 'vegetarian']\": 1282,\n",
       "         \"['dairy_free', 'low_calorie', 'low_carb', 'low_fat', 'low_sodium']\": 1275,\n",
       "         \"['gluten_free', 'vegan', 'vegetarian']\": 1263,\n",
       "         \"['low_carb', 'low_sugar']\": 1228,\n",
       "         \"['dairy_free', 'low_calorie', 'low_fat', 'low_sodium', 'vegan']\": 1212,\n",
       "         \"['dairy_free', 'low_fat', 'low_sodium']\": 1183,\n",
       "         \"['dairy_free', 'low_calorie', 'low_sodium']\": 1138,\n",
       "         \"['gluten_free', 'low_calorie', 'low_fat']\": 1108,\n",
       "         \"['low_fat', 'vegetarian']\": 1082,\n",
       "         \"['gluten_free', 'low_carb', 'vegetarian']\": 1081,\n",
       "         \"['dairy_free', 'gluten_free', 'low_sodium']\": 1068,\n",
       "         \"['low_calorie', 'low_fat', 'low_sodium', 'vegetarian']\": 1003,\n",
       "         \"['dairy_free', 'low_calorie', 'low_fat', 'vegan']\": 999,\n",
       "         \"['dairy_free', 'gluten_free', 'low_calorie', 'low_carb', 'low_sodium']\": 961,\n",
       "         \"['low_calorie', 'low_fat', 'vegetarian']\": 958,\n",
       "         \"['low_sugar', 'vegetarian']\": 929,\n",
       "         \"['gluten_free', 'low_calorie', 'low_fat', 'low_sodium']\": 916,\n",
       "         \"['dairy_free', 'gluten_free', 'low_calorie', 'low_carb']\": 878,\n",
       "         \"['low_sodium', 'vegan', 'vegetarian']\": 850,\n",
       "         \"['dairy_free', 'low_fat', 'low_sodium', 'vegan']\": 841,\n",
       "         \"['low_fat', 'vegan', 'vegetarian']\": 829,\n",
       "         \"['low_calorie', 'low_fat', 'low_sodium', 'vegan', 'vegetarian']\": 784,\n",
       "         \"['low_calorie', 'low_fat', 'vegan', 'vegetarian']\": 763,\n",
       "         \"['low_carb', 'low_fat']\": 719,\n",
       "         \"['gluten_free', 'low_fat', 'low_sodium']\": 714,\n",
       "         \"['gluten_free', 'low_sodium', 'vegetarian']\": 710,\n",
       "         \"['low_sodium', 'vegan']\": 700,\n",
       "         \"['dairy_free', 'gluten_free', 'low_calorie', 'low_carb', 'low_fat']\": 686,\n",
       "         \"['dairy_free', 'low_calorie', 'low_carb', 'low_sodium', 'vegan']\": 676,\n",
       "         \"['dairy_free', 'low_calorie', 'vegan']\": 671,\n",
       "         \"['dairy_free', 'low_sugar', 'vegan']\": 669,\n",
       "         \"['dairy_free', 'gluten_free', 'low_calorie', 'low_carb', 'low_fat', 'low_sodium']\": 667,\n",
       "         \"['dairy_free', 'gluten_free', 'low_carb', 'low_sodium']\": 657,\n",
       "         \"['gluten_free', 'vegan']\": 631,\n",
       "         \"['low_sodium', 'low_sugar']\": 621,\n",
       "         \"['low_calorie', 'low_sugar']\": 550,\n",
       "         \"['dairy_free', 'low_sodium', 'vegan', 'vegetarian']\": 541,\n",
       "         \"['low_fat', 'low_sugar']\": 540,\n",
       "         \"['low_fat', 'vegan']\": 538,\n",
       "         \"['low_calorie', 'low_carb', 'low_sodium', 'low_sugar']\": 525,\n",
       "         \"['dairy_free', 'gluten_free', 'low_fat']\": 513,\n",
       "         \"['dairy_free', 'low_calorie', 'low_sodium', 'vegan']\": 483,\n",
       "         \"['low_fat', 'low_sodium', 'vegan', 'vegetarian']\": 482,\n",
       "         \"['low_carb', 'low_sodium', 'vegetarian']\": 477,\n",
       "         \"['dairy_free', 'gluten_free', 'low_calorie', 'low_fat']\": 471,\n",
       "         \"['dairy_free', 'low_fat', 'vegan', 'vegetarian']\": 463,\n",
       "         \"['dairy_free', 'low_calorie', 'low_fat', 'low_sodium', 'vegan', 'vegetarian']\": 449,\n",
       "         \"['low_calorie', 'low_carb', 'low_sugar']\": 447,\n",
       "         \"['dairy_free', 'gluten_free', 'low_calorie']\": 446,\n",
       "         \"['low_calorie', 'low_carb', 'low_fat', 'low_sodium', 'vegan', 'vegetarian']\": 445,\n",
       "         \"['dairy_free', 'low_calorie', 'low_carb', 'low_fat', 'low_sodium', 'vegan']\": 431,\n",
       "         \"['dairy_free', 'low_calorie', 'low_carb', 'vegan']\": 430,\n",
       "         \"['low_calorie', 'low_carb', 'low_sodium', 'vegan', 'vegetarian']\": 418,\n",
       "         \"['low_fat', 'low_sodium', 'vegetarian']\": 393,\n",
       "         \"['low_calorie', 'low_carb', 'low_fat', 'low_sugar']\": 390,\n",
       "         \"['low_calorie', 'low_carb', 'vegan', 'vegetarian']\": 385,\n",
       "         \"['low_calorie', 'vegan', 'vegetarian']\": 381,\n",
       "         \"['low_calorie', 'low_carb', 'low_fat', 'low_sodium', 'vegetarian']\": 366,\n",
       "         \"['low_calorie', 'low_fat', 'low_sugar']\": 365,\n",
       "         \"['dairy_free', 'gluten_free', 'low_sodium', 'vegan']\": 365,\n",
       "         \"['dairy_free', 'gluten_free', 'low_calorie', 'low_sodium']\": 361,\n",
       "         \"['low_calorie', 'low_carb', 'low_fat', 'vegan', 'vegetarian']\": 359,\n",
       "         \"['dairy_free', 'gluten_free', 'low_sugar']\": 356,\n",
       "         \"['dairy_free', 'low_calorie', 'low_carb', 'vegan', 'vegetarian']\": 342,\n",
       "         \"['gluten_free', 'low_calorie', 'low_carb', 'vegetarian']\": 333,\n",
       "         \"['gluten_free', 'low_calorie', 'low_carb', 'low_sodium', 'vegetarian']\": 325,\n",
       "         \"['low_carb', 'low_fat', 'low_sodium']\": 324,\n",
       "         \"['dairy_free', 'low_calorie', 'low_carb', 'low_sodium', 'vegan', 'vegetarian']\": 320,\n",
       "         \"['low_calorie', 'low_sodium', 'low_sugar']\": 315,\n",
       "         \"['dairy_free', 'gluten_free', 'low_calorie', 'low_fat', 'low_sodium']\": 300,\n",
       "         \"['low_calorie', 'low_carb', 'low_fat', 'low_sodium', 'low_sugar']\": 284,\n",
       "         \"['dairy_free', 'low_calorie', 'low_fat', 'vegan', 'vegetarian']\": 283,\n",
       "         \"['dairy_free', 'low_carb', 'vegan']\": 281,\n",
       "         \"['low_sugar', 'vegan', 'vegetarian']\": 276,\n",
       "         \"['low_calorie', 'low_sodium', 'vegan', 'vegetarian']\": 272,\n",
       "         \"['dairy_free', 'low_calorie', 'low_carb', 'low_fat', 'low_sodium', 'vegan', 'vegetarian']\": 265,\n",
       "         \"['dairy_free', 'gluten_free', 'low_calorie', 'low_fat', 'low_sodium', 'vegan']\": 261,\n",
       "         \"['low_calorie', 'low_fat', 'low_sodium', 'vegan']\": 252,\n",
       "         \"['low_fat', 'low_sodium', 'vegan']\": 242,\n",
       "         \"['gluten_free', 'low_carb', 'low_sugar']\": 236,\n",
       "         \"['dairy_free', 'low_fat', 'low_sodium', 'vegan', 'vegetarian']\": 236,\n",
       "         \"['low_carb', 'vegan', 'vegetarian']\": 235,\n",
       "         \"['dairy_free', 'low_calorie', 'vegan', 'vegetarian']\": 227,\n",
       "         \"['low_calorie', 'low_carb', 'low_fat', 'vegetarian']\": 220,\n",
       "         \"['low_calorie', 'low_fat', 'vegan']\": 220,\n",
       "         \"['dairy_free', 'low_calorie', 'low_sodium', 'vegan', 'vegetarian']\": 216,\n",
       "         \"['low_calorie', 'vegan']\": 208,\n",
       "         \"['dairy_free', 'gluten_free', 'low_fat', 'vegan']\": 202,\n",
       "         \"['dairy_free', 'gluten_free', 'vegetarian']\": 200,\n",
       "         \"['gluten_free', 'low_calorie', 'vegetarian']\": 190,\n",
       "         \"['low_carb', 'low_sodium', 'low_sugar']\": 189,\n",
       "         \"['low_calorie', 'low_fat', 'low_sodium', 'low_sugar']\": 187,\n",
       "         \"['dairy_free', 'low_calorie', 'low_carb', 'low_fat', 'vegan']\": 183,\n",
       "         \"['dairy_free', 'gluten_free', 'low_fat', 'low_sodium']\": 181,\n",
       "         \"['gluten_free', 'low_calorie', 'low_sodium', 'vegetarian']\": 179,\n",
       "         \"['dairy_free', 'low_sodium', 'vegetarian']\": 171,\n",
       "         \"['dairy_free', 'low_carb', 'low_sugar']\": 168,\n",
       "         \"['gluten_free', 'low_carb', 'low_sodium', 'vegetarian']\": 167,\n",
       "         \"['dairy_free', 'low_carb', 'low_sodium', 'vegan']\": 165,\n",
       "         \"['gluten_free', 'low_calorie', 'low_carb', 'low_fat', 'low_sugar']\": 160,\n",
       "         \"['dairy_free', 'low_calorie', 'low_carb', 'low_fat', 'vegan', 'vegetarian']\": 153,\n",
       "         \"['dairy_free', 'gluten_free', 'low_calorie', 'low_carb', 'low_sodium', 'vegan']\": 149,\n",
       "         \"['dairy_free', 'gluten_free', 'low_calorie', 'low_fat', 'vegan']\": 140,\n",
       "         \"['dairy_free', 'gluten_free', 'low_fat', 'low_sodium', 'vegan']\": 140,\n",
       "         \"['dairy_free', 'low_sugar', 'vegan', 'vegetarian']\": 135,\n",
       "         \"['low_calorie', 'low_sodium', 'vegan']\": 135,\n",
       "         \"['dairy_free', 'low_sodium', 'low_sugar']\": 132,\n",
       "         \"['dairy_free', 'gluten_free', 'low_calorie', 'low_carb', 'low_fat', 'low_sodium', 'vegan']\": 129,\n",
       "         \"['dairy_free', 'gluten_free', 'low_calorie', 'low_carb', 'vegan']\": 121,\n",
       "         \"['dairy_free', 'low_fat', 'low_sugar']\": 119,\n",
       "         \"['gluten_free', 'low_calorie', 'low_fat', 'low_sodium', 'vegetarian']\": 117,\n",
       "         \"['low_sugar', 'vegan']\": 117,\n",
       "         \"['gluten_free', 'low_sodium', 'low_sugar']\": 112,\n",
       "         \"['low_carb', 'low_sodium', 'vegan', 'vegetarian']\": 109,\n",
       "         \"['dairy_free', 'low_carb', 'low_fat']\": 109,\n",
       "         \"['gluten_free', 'low_calorie', 'low_carb', 'low_sugar']\": 107,\n",
       "         \"['gluten_free', 'low_calorie', 'low_carb', 'low_fat', 'low_sodium', 'vegetarian']\": 102,\n",
       "         \"['gluten_free', 'low_calorie', 'low_fat', 'low_sodium', 'vegan', 'vegetarian']\": 102,\n",
       "         \"['dairy_free', 'low_calorie', 'low_carb', 'low_fat', 'low_sugar']\": 101,\n",
       "         \"['dairy_free', 'gluten_free', 'low_sugar', 'vegan']\": 99,\n",
       "         \"['low_fat', 'low_sodium', 'low_sugar']\": 94,\n",
       "         \"['dairy_free', 'low_calorie', 'low_fat', 'vegetarian']\": 94,\n",
       "         \"['low_carb', 'vegan']\": 94,\n",
       "         \"['gluten_free', 'low_carb', 'low_fat', 'low_sodium']\": 92,\n",
       "         \"['low_calorie', 'low_carb', 'low_sodium', 'vegan']\": 91,\n",
       "         \"['gluten_free', 'low_sodium', 'vegan']\": 90,\n",
       "         \"['gluten_free', 'low_sugar', 'vegetarian']\": 89,\n",
       "         \"['dairy_free', 'low_calorie', 'low_carb', 'low_fat', 'low_sodium', 'low_sugar']\": 88,\n",
       "         \"['low_calorie', 'low_carb', 'vegan']\": 88,\n",
       "         \"['dairy_free', 'low_carb', 'vegan', 'vegetarian']\": 84,\n",
       "         \"['dairy_free', 'low_calorie', 'low_carb', 'vegetarian']\": 82,\n",
       "         \"['dairy_free', 'low_calorie', 'low_fat', 'low_sodium', 'vegetarian']\": 82,\n",
       "         \"['gluten_free', 'low_fat', 'vegan', 'vegetarian']\": 81,\n",
       "         \"['gluten_free', 'low_calorie', 'low_fat', 'vegetarian']\": 81,\n",
       "         \"['gluten_free', 'low_sodium', 'vegan', 'vegetarian']\": 79,\n",
       "         \"['dairy_free', 'low_fat', 'vegetarian']\": 78,\n",
       "         \"['gluten_free', 'low_fat', 'vegetarian']\": 77,\n",
       "         \"['gluten_free', 'low_calorie', 'low_carb', 'low_sodium', 'low_sugar']\": 77,\n",
       "         \"['dairy_free', 'low_carb', 'vegetarian']\": 76,\n",
       "         \"['gluten_free', 'low_calorie', 'low_carb', 'vegan', 'vegetarian']\": 72,\n",
       "         \"['gluten_free', 'low_calorie', 'low_carb', 'low_fat', 'low_sodium', 'vegan', 'vegetarian']\": 72,\n",
       "         \"['gluten_free', 'low_fat', 'vegan']\": 71,\n",
       "         \"['dairy_free', 'gluten_free', 'low_sodium', 'vegan', 'vegetarian']\": 70,\n",
       "         \"['dairy_free', 'gluten_free', 'low_calorie', 'low_carb', 'low_fat', 'low_sodium', 'vegan', 'vegetarian']\": 70,\n",
       "         \"['low_calorie', 'low_carb', 'low_fat', 'low_sodium', 'vegan']\": 69,\n",
       "         \"['dairy_free', 'gluten_free', 'low_calorie', 'low_fat', 'low_sodium', 'vegan', 'vegetarian']\": 69,\n",
       "         \"['gluten_free', 'low_fat', 'low_sugar']\": 68,\n",
       "         \"['dairy_free', 'low_calorie', 'low_fat', 'low_sugar']\": 67,\n",
       "         \"['dairy_free', 'low_calorie', 'low_carb', 'low_sodium', 'low_sugar']\": 66,\n",
       "         \"['gluten_free', 'low_calorie', 'low_sodium', 'low_sugar']\": 65,\n",
       "         \"['dairy_free', 'low_carb', 'low_sodium', 'low_sugar']\": 63,\n",
       "         \"['gluten_free', 'low_carb', 'low_sodium', 'low_sugar']\": 62,\n",
       "         \"['gluten_free', 'low_calorie', 'low_fat', 'vegan', 'vegetarian']\": 59,\n",
       "         \"['dairy_free', 'low_calorie', 'low_sugar']\": 59,\n",
       "         \"['dairy_free', 'low_calorie', 'low_carb', 'low_sugar']\": 58,\n",
       "         \"['dairy_free', 'gluten_free', 'low_carb', 'vegan']\": 57,\n",
       "         \"['dairy_free', 'gluten_free', 'low_calorie', 'low_sodium', 'vegan']\": 56,\n",
       "         \"['gluten_free', 'low_carb', 'low_fat']\": 56,\n",
       "         \"['dairy_free', 'gluten_free', 'low_carb', 'low_sodium', 'vegan']\": 54,\n",
       "         \"['dairy_free', 'low_calorie', 'low_fat', 'low_sodium', 'low_sugar']\": 53,\n",
       "         \"['low_carb', 'low_fat', 'low_sugar']\": 51,\n",
       "         \"['dairy_free', 'gluten_free', 'low_fat', 'vegan', 'vegetarian']\": 51,\n",
       "         \"['dairy_free', 'gluten_free', 'low_calorie', 'low_carb', 'vegan', 'vegetarian']\": 50,\n",
       "         \"['low_calorie', 'low_sugar', 'vegetarian']\": 49,\n",
       "         \"['low_calorie', 'low_carb', 'low_fat', 'vegan']\": 49,\n",
       "         \"['dairy_free', 'gluten_free', 'low_carb', 'vegetarian']\": 49,\n",
       "         \"['dairy_free', 'low_calorie', 'low_sodium', 'vegetarian']\": 49,\n",
       "         \"['dairy_free', 'gluten_free', 'low_calorie', 'low_carb', 'low_fat', 'low_sodium', 'low_sugar']\": 48,\n",
       "         \"['gluten_free', 'low_calorie', 'low_fat', 'low_sugar']\": 48,\n",
       "         \"['gluten_free', 'low_calorie', 'low_carb', 'low_fat', 'vegan', 'vegetarian']\": 48,\n",
       "         \"['gluten_free', 'low_calorie', 'low_fat', 'low_sodium', 'low_sugar']\": 47,\n",
       "         \"['gluten_free', 'low_calorie', 'vegan', 'vegetarian']\": 47,\n",
       "         \"['gluten_free', 'low_calorie', 'low_carb', 'low_sodium', 'vegan', 'vegetarian']\": 45,\n",
       "         \"['dairy_free', 'low_carb', 'low_fat', 'vegan']\": 44,\n",
       "         \"['dairy_free', 'gluten_free', 'low_calorie', 'low_carb', 'low_fat', 'low_sugar']\": 43,\n",
       "         \"['dairy_free', 'gluten_free', 'low_carb', 'low_sugar']\": 43,\n",
       "         \"['dairy_free', 'gluten_free', 'low_calorie', 'low_carb', 'low_fat', 'vegan']\": 43,\n",
       "         \"['dairy_free', 'gluten_free', 'low_calorie', 'vegan', 'vegetarian']\": 43,\n",
       "         \"['gluten_free', 'low_calorie', 'low_carb', 'low_fat', 'low_sodium', 'low_sugar']\": 43,\n",
       "         \"['gluten_free', 'low_carb', 'vegan', 'vegetarian']\": 43,\n",
       "         \"['dairy_free', 'gluten_free', 'low_calorie', 'vegan']\": 42,\n",
       "         \"['gluten_free', 'low_fat', 'low_sodium', 'vegetarian']\": 41,\n",
       "         \"['gluten_free', 'low_calorie', 'low_carb', 'low_fat', 'low_sugar', 'vegetarian']\": 41,\n",
       "         \"['gluten_free', 'low_calorie', 'low_carb', 'low_fat', 'vegetarian']\": 40,\n",
       "         \"['dairy_free', 'gluten_free', 'low_calorie', 'low_carb', 'low_sodium', 'low_sugar']\": 40,\n",
       "         \"['dairy_free', 'low_calorie', 'low_carb', 'low_sodium', 'low_sugar', 'vegan']\": 39,\n",
       "         \"['dairy_free', 'low_carb', 'low_sodium', 'vegan', 'vegetarian']\": 39,\n",
       "         \"['low_calorie', 'low_fat', 'low_sugar', 'vegetarian']\": 39,\n",
       "         \"['dairy_free', 'gluten_free', 'low_sodium', 'vegetarian']\": 38,\n",
       "         \"['dairy_free', 'gluten_free', 'low_fat', 'low_sodium', 'vegan', 'vegetarian']\": 38,\n",
       "         \"['low_fat', 'low_sugar', 'vegetarian']\": 38,\n",
       "         \"['low_calorie', 'low_carb', 'low_sugar', 'vegetarian']\": 37,\n",
       "         \"['gluten_free', 'low_fat', 'low_sodium', 'vegan', 'vegetarian']\": 37,\n",
       "         \"['dairy_free', 'low_calorie', 'low_carb', 'low_sodium', 'vegetarian']\": 36,\n",
       "         \"['gluten_free', 'low_fat', 'low_sodium', 'vegan']\": 35,\n",
       "         \"['low_calorie', 'low_carb', 'low_fat', 'low_sodium', 'low_sugar', 'vegetarian']\": 35,\n",
       "         \"['dairy_free', 'low_fat', 'low_sugar', 'vegan']\": 34,\n",
       "         \"['dairy_free', 'low_calorie', 'low_carb', 'low_sodium', 'low_sugar', 'vegan', 'vegetarian']\": 34,\n",
       "         \"['dairy_free', 'gluten_free', 'low_calorie', 'low_carb', 'low_sodium', 'vegan', 'vegetarian']\": 33,\n",
       "         \"['low_sodium', 'low_sugar', 'vegetarian']\": 33,\n",
       "         \"['dairy_free', 'gluten_free', 'low_calorie', 'low_fat', 'vegan', 'vegetarian']\": 33,\n",
       "         \"['dairy_free', 'low_sodium', 'low_sugar', 'vegan']\": 32,\n",
       "         \"['gluten_free', 'low_sugar', 'vegan', 'vegetarian']\": 32,\n",
       "         \"['dairy_free', 'low_fat', 'low_sodium', 'vegetarian']\": 32,\n",
       "         \"['low_carb', 'low_sugar', 'vegetarian']\": 31,\n",
       "         \"['low_carb', 'low_sodium', 'vegan']\": 31,\n",
       "         \"['gluten_free', 'low_calorie', 'low_fat', 'low_sodium', 'vegan']\": 29,\n",
       "         \"['dairy_free', 'gluten_free', 'low_carb', 'vegan', 'vegetarian']\": 29,\n",
       "         \"['dairy_free', 'low_carb', 'low_fat', 'low_sodium']\": 29,\n",
       "         \"['gluten_free', 'low_calorie', 'low_sugar']\": 29,\n",
       "         \"['low_calorie', 'low_carb', 'low_fat', 'low_sugar', 'vegetarian']\": 29,\n",
       "         \"['dairy_free', 'low_calorie', 'low_sodium', 'low_sugar']\": 27,\n",
       "         \"['dairy_free', 'low_calorie', 'vegetarian']\": 27,\n",
       "         \"['dairy_free', 'low_fat', 'low_sodium', 'low_sugar']\": 26,\n",
       "         \"['low_calorie', 'low_carb', 'low_sodium', 'low_sugar', 'vegetarian']\": 26,\n",
       "         \"['dairy_free', 'gluten_free', 'low_calorie', 'low_sodium', 'vegan', 'vegetarian']\": 24,\n",
       "         \"['dairy_free', 'gluten_free', 'low_carb', 'low_sodium', 'low_sugar']\": 24,\n",
       "         \"['gluten_free', 'low_calorie', 'low_carb', 'low_fat', 'low_sodium', 'vegan']\": 23,\n",
       "         \"['low_carb', 'low_fat', 'vegetarian']\": 23,\n",
       "         \"['dairy_free', 'low_calorie', 'low_carb', 'low_fat', 'low_sodium', 'low_sugar', 'vegan']\": 23,\n",
       "         \"['gluten_free', 'low_calorie', 'low_fat', 'low_sugar', 'vegetarian']\": 22,\n",
       "         \"['dairy_free', 'low_calorie', 'low_sugar', 'vegan']\": 22,\n",
       "         \"['dairy_free', 'low_calorie', 'low_fat', 'low_sodium', 'low_sugar', 'vegan']\": 21,\n",
       "         \"['dairy_free', 'gluten_free', 'low_sodium', 'low_sugar']\": 21,\n",
       "         \"['dairy_free', 'gluten_free', 'low_carb', 'low_fat', 'low_sodium']\": 20,\n",
       "         \"['gluten_free', 'low_sugar', 'vegan']\": 20,\n",
       "         \"['dairy_free', 'low_calorie', 'low_carb', 'low_sugar', 'vegan']\": 20,\n",
       "         \"['dairy_free', 'low_carb', 'low_sugar', 'vegan']\": 20,\n",
       "         \"['dairy_free', 'gluten_free', 'low_calorie', 'low_fat', 'low_sodium', 'vegetarian']\": 19,\n",
       "         \"['dairy_free', 'gluten_free', 'low_carb', 'low_fat']\": 19,\n",
       "         \"['dairy_free', 'gluten_free', 'low_calorie', 'low_carb', 'low_fat', 'vegan', 'vegetarian']\": 19,\n",
       "         \"['dairy_free', 'gluten_free', 'low_fat', 'low_sugar']\": 18,\n",
       "         \"['gluten_free', 'low_carb', 'low_sodium', 'vegan', 'vegetarian']\": 17,\n",
       "         \"['dairy_free', 'low_carb', 'low_fat', 'vegan', 'vegetarian']\": 17,\n",
       "         \"['low_calorie', 'low_fat', 'low_sodium', 'low_sugar', 'vegetarian']\": 17,\n",
       "         \"['dairy_free', 'low_sugar', 'vegetarian']\": 17,\n",
       "         \"['gluten_free', 'low_calorie', 'low_fat', 'vegan']\": 17,\n",
       "         \"['dairy_free', 'low_calorie', 'low_sodium', 'low_sugar', 'vegan']\": 16,\n",
       "         \"['low_carb', 'low_fat', 'vegan', 'vegetarian']\": 16,\n",
       "         \"['dairy_free', 'gluten_free', 'low_calorie', 'low_carb', 'low_sugar']\": 16,\n",
       "         \"['dairy_free', 'gluten_free', 'low_calorie', 'low_fat', 'low_sodium', 'low_sugar']\": 15,\n",
       "         \"['dairy_free', 'gluten_free', 'low_calorie', 'low_fat', 'low_sugar']\": 14,\n",
       "         \"['dairy_free', 'gluten_free', 'low_carb', 'low_sodium', 'vegan', 'vegetarian']\": 14,\n",
       "         \"['gluten_free', 'low_calorie', 'low_sodium', 'vegan', 'vegetarian']\": 14,\n",
       "         \"['gluten_free', 'low_carb', 'low_fat', 'low_sugar']\": 14,\n",
       "         \"['dairy_free', 'low_carb', 'low_fat', 'low_sodium', 'vegan', 'vegetarian']\": 14,\n",
       "         \"['low_calorie', 'low_carb', 'low_sodium', 'low_sugar', 'vegan', 'vegetarian']\": 14,\n",
       "         \"['dairy_free', 'low_calorie', 'low_sodium', 'low_sugar', 'vegan', 'vegetarian']\": 14,\n",
       "         \"['dairy_free', 'low_calorie', 'low_fat', 'low_sugar', 'vegan']\": 13,\n",
       "         \"['low_calorie', 'low_carb', 'low_sugar', 'vegan', 'vegetarian']\": 13,\n",
       "         \"['gluten_free', 'low_calorie', 'low_carb', 'low_sodium', 'vegan']\": 13,\n",
       "         \"['dairy_free', 'low_sodium', 'low_sugar', 'vegan', 'vegetarian']\": 13,\n",
       "         \"['dairy_free', 'low_carb', 'low_sodium', 'vegetarian']\": 13,\n",
       "         \"['low_sodium', 'low_sugar', 'vegan', 'vegetarian']\": 12,\n",
       "         \"['dairy_free', 'gluten_free', 'low_fat', 'vegetarian']\": 12,\n",
       "         \"['dairy_free', 'gluten_free', 'low_calorie', 'low_carb', 'low_sugar', 'vegan']\": 12,\n",
       "         \"['gluten_free', 'low_fat', 'low_sugar', 'vegetarian']\": 12,\n",
       "         \"['low_fat', 'low_sugar', 'vegan', 'vegetarian']\": 11,\n",
       "         \"['low_calorie', 'low_carb', 'low_fat', 'low_sodium', 'low_sugar', 'vegan', 'vegetarian']\": 11,\n",
       "         \"['gluten_free', 'low_calorie', 'low_carb', 'low_sodium', 'low_sugar', 'vegetarian']\": 11,\n",
       "         \"['gluten_free', 'low_fat', 'low_sodium', 'low_sugar']\": 11,\n",
       "         \"['dairy_free', 'gluten_free', 'low_calorie', 'low_carb', 'low_sodium', 'vegetarian']\": 11,\n",
       "         \"['dairy_free', 'gluten_free', 'low_sugar', 'vegan', 'vegetarian']\": 10,\n",
       "         \"['dairy_free', 'low_calorie', 'low_carb', 'low_fat', 'low_sodium', 'low_sugar', 'vegan', 'vegetarian']\": 10,\n",
       "         \"['dairy_free', 'gluten_free', 'low_calorie', 'low_sodium', 'low_sugar']\": 10,\n",
       "         \"['dairy_free', 'low_carb', 'low_fat', 'low_sugar']\": 10,\n",
       "         \"['gluten_free', 'low_carb', 'low_sugar', 'vegetarian']\": 10,\n",
       "         \"['gluten_free', 'low_calorie', 'low_sodium', 'vegan']\": 10,\n",
       "         \"['dairy_free', 'low_fat', 'low_sodium', 'low_sugar', 'vegan']\": 9,\n",
       "         \"['low_carb', 'low_fat', 'low_sodium', 'vegetarian']\": 9,\n",
       "         \"['low_carb', 'low_sugar', 'vegan', 'vegetarian']\": 9,\n",
       "         \"['low_fat', 'low_sodium', 'low_sugar', 'vegetarian']\": 9,\n",
       "         \"['low_carb', 'low_fat', 'low_sodium', 'vegan', 'vegetarian']\": 8,\n",
       "         \"['gluten_free', 'low_calorie', 'vegan']\": 8,\n",
       "         \"['gluten_free', 'low_carb', 'vegan']\": 8,\n",
       "         \"['dairy_free', 'gluten_free', 'low_carb', 'low_fat', 'low_sodium', 'vegan', 'vegetarian']\": 7,\n",
       "         \"['low_carb', 'low_fat', 'low_sodium', 'low_sugar']\": 7,\n",
       "         \"['dairy_free', 'low_calorie', 'low_carb', 'low_fat', 'low_sugar', 'vegan']\": 7,\n",
       "         \"['low_calorie', 'low_sodium', 'low_sugar', 'vegetarian']\": 7,\n",
       "         \"['low_calorie', 'low_sodium', 'low_sugar', 'vegan', 'vegetarian']\": 6,\n",
       "         \"['dairy_free', 'gluten_free', 'low_calorie', 'low_carb', 'vegetarian']\": 6,\n",
       "         \"['low_calorie', 'low_fat', 'low_sodium', 'low_sugar', 'vegan', 'vegetarian']\": 6,\n",
       "         \"['dairy_free', 'low_calorie', 'low_sugar', 'vegan', 'vegetarian']\": 6,\n",
       "         \"['gluten_free', 'low_carb', 'low_fat', 'low_sodium', 'vegetarian']\": 6,\n",
       "         \"['dairy_free', 'gluten_free', 'low_fat', 'low_sodium', 'vegetarian']\": 6,\n",
       "         \"['low_calorie', 'low_carb', 'low_fat', 'low_sugar', 'vegan', 'vegetarian']\": 6,\n",
       "         \"['dairy_free', 'low_carb', 'low_fat', 'low_sodium', 'vegan']\": 6,\n",
       "         \"['dairy_free', 'low_calorie', 'low_carb', 'low_sugar', 'vegetarian']\": 6,\n",
       "         \"['gluten_free', 'low_carb', 'low_fat', 'vegan', 'vegetarian']\": 6,\n",
       "         \"['dairy_free', 'gluten_free', 'low_fat', 'low_sodium', 'low_sugar']\": 6,\n",
       "         \"['gluten_free', 'low_calorie', 'low_carb', 'vegan']\": 6,\n",
       "         \"['low_carb', 'low_fat', 'vegan']\": 5,\n",
       "         \"['dairy_free', 'gluten_free', 'low_calorie', 'low_sodium', 'low_sugar', 'vegan']\": 5,\n",
       "         \"['low_calorie', 'low_sugar', 'vegan', 'vegetarian']\": 5,\n",
       "         \"['dairy_free', 'gluten_free', 'low_calorie', 'low_carb', 'low_sodium', 'low_sugar', 'vegan']\": 5,\n",
       "         \"['dairy_free', 'gluten_free', 'low_calorie', 'low_fat', 'vegetarian']\": 5,\n",
       "         \"['low_carb', 'low_sugar', 'vegan']\": 5,\n",
       "         \"['dairy_free', 'low_calorie', 'low_fat', 'low_sodium', 'low_sugar', 'vegan', 'vegetarian']\": 5,\n",
       "         \"['low_calorie', 'low_fat', 'low_sugar', 'vegan']\": 5,\n",
       "         \"['dairy_free', 'low_calorie', 'low_fat', 'low_sodium', 'low_sugar', 'vegetarian']\": 5,\n",
       "         \"['dairy_free', 'low_calorie', 'low_carb', 'low_sugar', 'vegan', 'vegetarian']\": 4,\n",
       "         \"['dairy_free', 'gluten_free', 'low_fat', 'low_sodium', 'low_sugar', 'vegan']\": 4,\n",
       "         \"['dairy_free', 'gluten_free', 'low_carb', 'low_sodium', 'vegetarian']\": 4,\n",
       "         \"['dairy_free', 'gluten_free', 'low_calorie', 'vegetarian']\": 4,\n",
       "         \"['low_carb', 'low_sodium', 'low_sugar', 'vegetarian']\": 4,\n",
       "         \"['gluten_free', 'low_calorie', 'low_sodium', 'low_sugar', 'vegetarian']\": 4,\n",
       "         \"['dairy_free', 'gluten_free', 'low_calorie', 'low_carb', 'low_fat', 'low_sodium', 'low_sugar', 'vegan']\": 4,\n",
       "         \"['dairy_free', 'low_fat', 'low_sodium', 'low_sugar', 'vegan', 'vegetarian']\": 4,\n",
       "         \"['dairy_free', 'low_carb', 'low_fat', 'low_sugar', 'vegan']\": 4,\n",
       "         \"['low_fat', 'low_sodium', 'low_sugar', 'vegan']\": 4,\n",
       "         \"['dairy_free', 'gluten_free', 'low_calorie', 'low_sugar', 'vegan']\": 4,\n",
       "         \"['dairy_free', 'low_calorie', 'low_carb', 'low_fat', 'vegetarian']\": 4,\n",
       "         \"['dairy_free', 'gluten_free', 'low_carb', 'low_fat', 'vegan', 'vegetarian']\": 4,\n",
       "         \"['gluten_free', 'low_sodium', 'low_sugar', 'vegetarian']\": 4,\n",
       "         \"['gluten_free', 'low_carb', 'low_fat', 'low_sodium', 'vegan', 'vegetarian']\": 4,\n",
       "         \"['dairy_free', 'gluten_free', 'low_calorie', 'low_fat', 'low_sodium', 'low_sugar', 'vegan']\": 4,\n",
       "         \"['gluten_free', 'low_calorie', 'low_carb', 'low_sugar', 'vegetarian']\": 4,\n",
       "         \"['gluten_free', 'low_carb', 'low_sodium', 'vegan']\": 3,\n",
       "         \"['low_calorie', 'low_fat', 'low_sodium', 'low_sugar', 'vegan']\": 3,\n",
       "         \"['gluten_free', 'low_carb', 'low_fat', 'vegetarian']\": 3,\n",
       "         \"['gluten_free', 'low_calorie', 'low_carb', 'low_fat', 'vegan']\": 3,\n",
       "         \"['low_fat', 'low_sugar', 'vegan']\": 3,\n",
       "         \"['dairy_free', 'low_fat', 'low_sugar', 'vegan', 'vegetarian']\": 3,\n",
       "         \"['low_fat', 'low_sodium', 'low_sugar', 'vegan', 'vegetarian']\": 3,\n",
       "         \"['dairy_free', 'low_calorie', 'low_sugar', 'vegetarian']\": 3,\n",
       "         \"['low_carb', 'low_fat', 'low_sodium', 'low_sugar', 'vegetarian']\": 3,\n",
       "         \"['dairy_free', 'low_sodium', 'low_sugar', 'vegetarian']\": 3,\n",
       "         \"['dairy_free', 'gluten_free', 'low_fat', 'low_sodium', 'low_sugar', 'vegan', 'vegetarian']\": 3,\n",
       "         \"['dairy_free', 'gluten_free', 'low_calorie', 'low_fat', 'low_sugar', 'vegan']\": 3,\n",
       "         \"['dairy_free', 'low_calorie', 'low_carb', 'low_fat', 'low_sodium', 'vegetarian']\": 3,\n",
       "         \"['dairy_free', 'low_fat', 'low_sugar', 'vegetarian']\": 2,\n",
       "         \"['low_calorie', 'low_fat', 'low_sugar', 'vegan', 'vegetarian']\": 2,\n",
       "         \"['dairy_free', 'gluten_free', 'low_sugar', 'vegetarian']\": 2,\n",
       "         \"['low_calorie', 'low_carb', 'low_fat', 'low_sugar', 'vegan']\": 2,\n",
       "         \"['dairy_free', 'gluten_free', 'low_sodium', 'low_sugar', 'vegan']\": 2,\n",
       "         \"['low_carb', 'low_sodium', 'low_sugar', 'vegan']\": 2,\n",
       "         \"['gluten_free', 'low_sodium', 'low_sugar', 'vegan', 'vegetarian']\": 2,\n",
       "         \"['dairy_free', 'gluten_free', 'low_carb', 'low_sodium', 'low_sugar', 'vegan']\": 2,\n",
       "         \"['dairy_free', 'gluten_free', 'low_carb', 'low_fat', 'low_sodium', 'vegan']\": 2,\n",
       "         \"['dairy_free', 'low_carb', 'low_fat', 'low_sodium', 'low_sugar', 'vegan']\": 2,\n",
       "         \"['gluten_free', 'low_calorie', 'low_fat', 'low_sodium', 'low_sugar', 'vegetarian']\": 2,\n",
       "         \"['dairy_free', 'gluten_free', 'low_calorie', 'low_sugar']\": 2,\n",
       "         \"['low_calorie', 'low_carb', 'low_fat', 'low_sodium', 'low_sugar', 'vegan']\": 2,\n",
       "         \"['dairy_free', 'low_carb', 'low_sugar', 'vegetarian']\": 2,\n",
       "         \"['dairy_free', 'low_carb', 'low_fat', 'low_sodium', 'low_sugar', 'vegan', 'vegetarian']\": 2,\n",
       "         \"['dairy_free', 'gluten_free', 'low_carb', 'low_fat', 'vegan']\": 2,\n",
       "         \"['dairy_free', 'gluten_free', 'low_calorie', 'low_carb', 'low_fat', 'low_sodium', 'low_sugar', 'vegan', 'vegetarian']\": 2,\n",
       "         \"['dairy_free', 'gluten_free', 'low_calorie', 'low_sodium', 'vegetarian']\": 2,\n",
       "         \"['dairy_free', 'gluten_free', 'low_calorie', 'low_sugar', 'vegan', 'vegetarian']\": 2,\n",
       "         \"['gluten_free', 'low_fat', 'low_sugar', 'vegan', 'vegetarian']\": 1,\n",
       "         \"['gluten_free', 'low_calorie', 'low_carb', 'low_sodium', 'low_sugar', 'vegan', 'vegetarian']\": 1,\n",
       "         \"['gluten_free', 'low_calorie', 'low_sodium', 'low_sugar', 'vegan', 'vegetarian']\": 1,\n",
       "         \"['dairy_free', 'gluten_free', 'low_calorie', 'low_carb', 'low_sodium', 'low_sugar', 'vegan', 'vegetarian']\": 1,\n",
       "         \"['gluten_free', 'low_carb', 'low_fat', 'low_sugar', 'vegan', 'vegetarian']\": 1,\n",
       "         \"['gluten_free', 'low_sodium', 'low_sugar', 'vegan']\": 1,\n",
       "         \"['dairy_free', 'gluten_free', 'low_fat', 'low_sugar', 'vegan']\": 1,\n",
       "         \"['low_calorie', 'low_carb', 'low_sugar', 'vegan']\": 1,\n",
       "         \"['low_carb', 'low_fat', 'low_sodium', 'vegan']\": 1,\n",
       "         \"['low_calorie', 'low_sugar', 'vegan']\": 1,\n",
       "         \"['dairy_free', 'low_carb', 'low_sugar', 'vegan', 'vegetarian']\": 1,\n",
       "         \"['gluten_free', 'low_calorie', 'low_sugar', 'vegetarian']\": 1,\n",
       "         \"['dairy_free', 'gluten_free', 'low_carb', 'low_fat', 'low_sodium', 'low_sugar', 'vegan']\": 1,\n",
       "         \"['gluten_free', 'low_fat', 'low_sodium', 'low_sugar', 'vegan', 'vegetarian']\": 1,\n",
       "         \"['dairy_free', 'gluten_free', 'low_sodium', 'low_sugar', 'vegan', 'vegetarian']\": 1,\n",
       "         \"['dairy_free', 'low_calorie', 'low_fat', 'low_sugar', 'vegetarian']\": 1,\n",
       "         \"['dairy_free', 'low_fat', 'low_sodium', 'low_sugar', 'vegetarian']\": 1,\n",
       "         \"['gluten_free', 'low_calorie', 'low_carb', 'low_fat', 'low_sodium', 'low_sugar', 'vegetarian']\": 1,\n",
       "         \"['low_sodium', 'low_sugar', 'vegan']\": 1,\n",
       "         \"['dairy_free', 'gluten_free', 'low_fat', 'low_sugar', 'vegan', 'vegetarian']\": 1,\n",
       "         \"['low_calorie', 'low_sodium', 'low_sugar', 'vegan']\": 1,\n",
       "         \"['low_calorie', 'low_carb', 'low_sodium', 'low_sugar', 'vegan']\": 1,\n",
       "         \"['dairy_free', 'gluten_free', 'low_carb', 'low_fat', 'low_sugar']\": 1,\n",
       "         \"['gluten_free', 'low_calorie', 'low_carb', 'low_sodium', 'low_sugar', 'vegan']\": 1})"
      ]
     },
     "execution_count": 39,
     "metadata": {},
     "output_type": "execute_result"
    }
   ],
   "source": [
    "Counter(pairs_subset['categories'])"
   ]
  },
  {
   "cell_type": "code",
   "execution_count": 46,
   "metadata": {},
   "outputs": [
    {
     "data": {
      "text/plain": [
       "base                           206237\n",
       "target                         260554\n",
       "name_overlap    chicken tortilla soup\n",
       "name_iou                       0.7778\n",
       "categories             ['dairy_free']\n",
       "Name: 3865, dtype: object"
      ]
     },
     "execution_count": 46,
     "metadata": {},
     "output_type": "execute_result"
    }
   ],
   "source": [
    "pairs_subset.iloc[552]"
   ]
  },
  {
   "cell_type": "code",
   "execution_count": 47,
   "metadata": {},
   "outputs": [
    {
     "data": {
      "application/vnd.microsoft.datawrangler.viewer.v0+json": {
       "columns": [
        {
         "name": "index",
         "rawType": "int64",
         "type": "integer"
        },
        {
         "name": "id",
         "rawType": "int64",
         "type": "integer"
        },
        {
         "name": "name",
         "rawType": "object",
         "type": "string"
        },
        {
         "name": "steps",
         "rawType": "object",
         "type": "string"
        },
        {
         "name": "ingredients",
         "rawType": "object",
         "type": "unknown"
        },
        {
         "name": "categories",
         "rawType": "object",
         "type": "unknown"
        },
        {
         "name": "name_tokens",
         "rawType": "object",
         "type": "unknown"
        }
       ],
       "conversionMethod": "pd.DataFrame",
       "ref": "d2a2b60c-1d18-4259-887b-9bd4ae2e23d0",
       "rows": [
        [
         "175100",
         "206237",
         "texas chicken tortilla soup",
         "in a large saucepan, combine the first ten ingredients; bring to a boil. add chicken. reduce heat; cover and simmer for 10-15 minutes or until chicken is fully cooked. combine cornstarch and water until smooth; gradually stir into soup. bring to a boil; cook and stir for 5 minutes. top servings with your choice of cheese, crumbled tortilla chips, and/or a dollop of sour cream.",
         "['bean' 'carrot' 'cheese' 'chicken' 'chicken broth' 'coriander' 'corn'\n 'garlic' 'onion' 'rotel' 'seasoning' 'sour cream' 'starch' 'tortilla'\n 'water']",
         "[]",
         "['texas' 'chicken' 'tortilla' 'soup']"
        ]
       ],
       "shape": {
        "columns": 6,
        "rows": 1
       }
      },
      "text/html": [
       "<div>\n",
       "<style scoped>\n",
       "    .dataframe tbody tr th:only-of-type {\n",
       "        vertical-align: middle;\n",
       "    }\n",
       "\n",
       "    .dataframe tbody tr th {\n",
       "        vertical-align: top;\n",
       "    }\n",
       "\n",
       "    .dataframe thead th {\n",
       "        text-align: right;\n",
       "    }\n",
       "</style>\n",
       "<table border=\"1\" class=\"dataframe\">\n",
       "  <thead>\n",
       "    <tr style=\"text-align: right;\">\n",
       "      <th></th>\n",
       "      <th>id</th>\n",
       "      <th>name</th>\n",
       "      <th>steps</th>\n",
       "      <th>ingredients</th>\n",
       "      <th>categories</th>\n",
       "      <th>name_tokens</th>\n",
       "    </tr>\n",
       "  </thead>\n",
       "  <tbody>\n",
       "    <tr>\n",
       "      <th>175100</th>\n",
       "      <td>206237</td>\n",
       "      <td>texas chicken tortilla soup</td>\n",
       "      <td>in a large saucepan, combine the first ten ing...</td>\n",
       "      <td>[bean, carrot, cheese, chicken, chicken broth,...</td>\n",
       "      <td>[]</td>\n",
       "      <td>[texas, chicken, tortilla, soup]</td>\n",
       "    </tr>\n",
       "  </tbody>\n",
       "</table>\n",
       "</div>"
      ],
      "text/plain": [
       "            id                         name  \\\n",
       "175100  206237  texas chicken tortilla soup   \n",
       "\n",
       "                                                    steps  \\\n",
       "175100  in a large saucepan, combine the first ten ing...   \n",
       "\n",
       "                                              ingredients categories  \\\n",
       "175100  [bean, carrot, cheese, chicken, chicken broth,...         []   \n",
       "\n",
       "                             name_tokens  \n",
       "175100  [texas, chicken, tortilla, soup]  "
      ]
     },
     "execution_count": 47,
     "metadata": {},
     "output_type": "execute_result"
    }
   ],
   "source": [
    "recipes.loc[recipes['id'] == pairs_subset.iloc[552].base]"
   ]
  },
  {
   "cell_type": "code",
   "execution_count": 48,
   "metadata": {},
   "outputs": [
    {
     "data": {
      "application/vnd.microsoft.datawrangler.viewer.v0+json": {
       "columns": [
        {
         "name": "index",
         "rawType": "int64",
         "type": "integer"
        },
        {
         "name": "id",
         "rawType": "int64",
         "type": "integer"
        },
        {
         "name": "name",
         "rawType": "object",
         "type": "string"
        },
        {
         "name": "steps",
         "rawType": "object",
         "type": "string"
        },
        {
         "name": "ingredients",
         "rawType": "object",
         "type": "unknown"
        },
        {
         "name": "categories",
         "rawType": "object",
         "type": "unknown"
        },
        {
         "name": "name_tokens",
         "rawType": "object",
         "type": "unknown"
        }
       ],
       "conversionMethod": "pd.DataFrame",
       "ref": "050b4ac5-c73a-4d1d-8ddf-1b4a3e6ca6c0",
       "rows": [
        [
         "153",
         "260554",
         "chicken tortilla soup",
         "heat the oil in a medium saucepan over medium heat. add the onion, garlic, chipotle, chili powder, and salt and cook until the onion softens, about 15 minutes. add the chicken broth, bring to a boil, reduce the heat slightly, and simmer, uncovered, for 10 minutes. add the corn and cook for 5 minutes more. pull the saucepan from the heat and stir in the tomato, chicken, cilantro, and lime juice. divide the tortilla chips among 4 warmed bowls, ladle the soup on top, and serve with the lime wedges, if desired.",
         "['chicken' 'chili powder' 'chipotle chile' 'coriander' 'corn kernel'\n 'garlic' 'lime juice' 'lime wedge' 'low sodium chicken broth' 'onion'\n 'salt' 'tomato' 'tortilla' 'vegetable oil']",
         "['dairy_free']",
         "['chicken' 'tortilla' 'soup']"
        ]
       ],
       "shape": {
        "columns": 6,
        "rows": 1
       }
      },
      "text/html": [
       "<div>\n",
       "<style scoped>\n",
       "    .dataframe tbody tr th:only-of-type {\n",
       "        vertical-align: middle;\n",
       "    }\n",
       "\n",
       "    .dataframe tbody tr th {\n",
       "        vertical-align: top;\n",
       "    }\n",
       "\n",
       "    .dataframe thead th {\n",
       "        text-align: right;\n",
       "    }\n",
       "</style>\n",
       "<table border=\"1\" class=\"dataframe\">\n",
       "  <thead>\n",
       "    <tr style=\"text-align: right;\">\n",
       "      <th></th>\n",
       "      <th>id</th>\n",
       "      <th>name</th>\n",
       "      <th>steps</th>\n",
       "      <th>ingredients</th>\n",
       "      <th>categories</th>\n",
       "      <th>name_tokens</th>\n",
       "    </tr>\n",
       "  </thead>\n",
       "  <tbody>\n",
       "    <tr>\n",
       "      <th>153</th>\n",
       "      <td>260554</td>\n",
       "      <td>chicken tortilla soup</td>\n",
       "      <td>heat the oil in a medium saucepan over medium ...</td>\n",
       "      <td>[chicken, chili powder, chipotle chile, corian...</td>\n",
       "      <td>[dairy_free]</td>\n",
       "      <td>[chicken, tortilla, soup]</td>\n",
       "    </tr>\n",
       "  </tbody>\n",
       "</table>\n",
       "</div>"
      ],
      "text/plain": [
       "         id                   name  \\\n",
       "153  260554  chicken tortilla soup   \n",
       "\n",
       "                                                 steps  \\\n",
       "153  heat the oil in a medium saucepan over medium ...   \n",
       "\n",
       "                                           ingredients    categories  \\\n",
       "153  [chicken, chili powder, chipotle chile, corian...  [dairy_free]   \n",
       "\n",
       "                   name_tokens  \n",
       "153  [chicken, tortilla, soup]  "
      ]
     },
     "execution_count": 48,
     "metadata": {},
     "output_type": "execute_result"
    }
   ],
   "source": [
    "recipes.loc[recipes['id'] == pairs_subset.iloc[552].target]"
   ]
  },
  {
   "cell_type": "code",
   "execution_count": 61,
   "metadata": {},
   "outputs": [
    {
     "data": {
      "text/plain": [
       "['chicken',\n",
       " 'chili powder',\n",
       " 'chipotle chile',\n",
       " 'coriander',\n",
       " 'corn kernel',\n",
       " 'garlic',\n",
       " 'lime juice',\n",
       " 'lime wedge',\n",
       " 'low sodium chicken broth',\n",
       " 'onion',\n",
       " 'salt',\n",
       " 'tomato',\n",
       " 'tortilla',\n",
       " 'vegetable oil']"
      ]
     },
     "execution_count": 61,
     "metadata": {},
     "output_type": "execute_result"
    }
   ],
   "source": [
    "recipes.loc[recipes['id'] == pairs_subset.iloc[552].target]['ingredients'].explode().tolist()"
   ]
  },
  {
   "cell_type": "markdown",
   "metadata": {},
   "source": [
    "Try to automatically extract recipes by restrictions"
   ]
  },
  {
   "cell_type": "code",
   "execution_count": 62,
   "metadata": {},
   "outputs": [
    {
     "data": {
      "application/vnd.microsoft.datawrangler.viewer.v0+json": {
       "columns": [
        {
         "name": "index",
         "rawType": "int64",
         "type": "integer"
        },
        {
         "name": "base",
         "rawType": "int64",
         "type": "integer"
        },
        {
         "name": "target",
         "rawType": "int64",
         "type": "integer"
        },
        {
         "name": "name_overlap",
         "rawType": "object",
         "type": "string"
        },
        {
         "name": "name_iou",
         "rawType": "float64",
         "type": "float"
        },
        {
         "name": "categories",
         "rawType": "object",
         "type": "string"
        }
       ],
       "conversionMethod": "pd.DataFrame",
       "ref": "9d376720-cd84-4fda-a36a-e73afaedeee6",
       "rows": [
        [
         "19",
         "341532",
         "232050",
         "sweet almond brittle",
         "0.8",
         "['dairy_free', 'vegan']"
        ],
        [
         "808",
         "248232",
         "387267",
         "chocolate biscuit",
         "0.7083",
         "['dairy_free', 'low_sugar', 'vegan']"
        ],
        [
         "1241",
         "342209",
         "213878",
         "banana oatmeal cookies",
         "1.0",
         "['dairy_free', 'low_sodium', 'vegan']"
        ],
        [
         "1257",
         "429673",
         "387908",
         "chinese salad",
         "1.0",
         "['dairy_free', 'vegan']"
        ],
        [
         "1320",
         "489197",
         "456296",
         "pasta primavera",
         "1.0",
         "['dairy_free', 'vegan']"
        ]
       ],
       "shape": {
        "columns": 5,
        "rows": 5
       }
      },
      "text/html": [
       "<div>\n",
       "<style scoped>\n",
       "    .dataframe tbody tr th:only-of-type {\n",
       "        vertical-align: middle;\n",
       "    }\n",
       "\n",
       "    .dataframe tbody tr th {\n",
       "        vertical-align: top;\n",
       "    }\n",
       "\n",
       "    .dataframe thead th {\n",
       "        text-align: right;\n",
       "    }\n",
       "</style>\n",
       "<table border=\"1\" class=\"dataframe\">\n",
       "  <thead>\n",
       "    <tr style=\"text-align: right;\">\n",
       "      <th></th>\n",
       "      <th>base</th>\n",
       "      <th>target</th>\n",
       "      <th>name_overlap</th>\n",
       "      <th>name_iou</th>\n",
       "      <th>categories</th>\n",
       "    </tr>\n",
       "  </thead>\n",
       "  <tbody>\n",
       "    <tr>\n",
       "      <th>19</th>\n",
       "      <td>341532</td>\n",
       "      <td>232050</td>\n",
       "      <td>sweet almond brittle</td>\n",
       "      <td>0.8000</td>\n",
       "      <td>['dairy_free', 'vegan']</td>\n",
       "    </tr>\n",
       "    <tr>\n",
       "      <th>808</th>\n",
       "      <td>248232</td>\n",
       "      <td>387267</td>\n",
       "      <td>chocolate biscuit</td>\n",
       "      <td>0.7083</td>\n",
       "      <td>['dairy_free', 'low_sugar', 'vegan']</td>\n",
       "    </tr>\n",
       "    <tr>\n",
       "      <th>1241</th>\n",
       "      <td>342209</td>\n",
       "      <td>213878</td>\n",
       "      <td>banana oatmeal cookies</td>\n",
       "      <td>1.0000</td>\n",
       "      <td>['dairy_free', 'low_sodium', 'vegan']</td>\n",
       "    </tr>\n",
       "    <tr>\n",
       "      <th>1257</th>\n",
       "      <td>429673</td>\n",
       "      <td>387908</td>\n",
       "      <td>chinese salad</td>\n",
       "      <td>1.0000</td>\n",
       "      <td>['dairy_free', 'vegan']</td>\n",
       "    </tr>\n",
       "    <tr>\n",
       "      <th>1320</th>\n",
       "      <td>489197</td>\n",
       "      <td>456296</td>\n",
       "      <td>pasta primavera</td>\n",
       "      <td>1.0000</td>\n",
       "      <td>['dairy_free', 'vegan']</td>\n",
       "    </tr>\n",
       "  </tbody>\n",
       "</table>\n",
       "</div>"
      ],
      "text/plain": [
       "        base  target            name_overlap  name_iou  \\\n",
       "19    341532  232050    sweet almond brittle    0.8000   \n",
       "808   248232  387267       chocolate biscuit    0.7083   \n",
       "1241  342209  213878  banana oatmeal cookies    1.0000   \n",
       "1257  429673  387908           chinese salad    1.0000   \n",
       "1320  489197  456296         pasta primavera    1.0000   \n",
       "\n",
       "                                 categories  \n",
       "19                  ['dairy_free', 'vegan']  \n",
       "808    ['dairy_free', 'low_sugar', 'vegan']  \n",
       "1241  ['dairy_free', 'low_sodium', 'vegan']  \n",
       "1257                ['dairy_free', 'vegan']  \n",
       "1320                ['dairy_free', 'vegan']  "
      ]
     },
     "execution_count": 62,
     "metadata": {},
     "output_type": "execute_result"
    }
   ],
   "source": [
    "pairs_vegan = pairs_subset[pairs_subset['categories'].apply(lambda x: 'vegan' in x)]\n",
    "pairs_vegan.head()"
   ]
  },
  {
   "cell_type": "code",
   "execution_count": 63,
   "metadata": {},
   "outputs": [
    {
     "data": {
      "text/plain": [
       "(98121, 5)"
      ]
     },
     "execution_count": 63,
     "metadata": {},
     "output_type": "execute_result"
    }
   ],
   "source": [
    "pairs_vegan.shape"
   ]
  },
  {
   "cell_type": "code",
   "execution_count": 64,
   "metadata": {},
   "outputs": [
    {
     "data": {
      "text/plain": [
       "(129677, 5)"
      ]
     },
     "execution_count": 64,
     "metadata": {},
     "output_type": "execute_result"
    }
   ],
   "source": [
    "pairs_vegetarian = pairs_subset[pairs_subset['categories'].apply(lambda x: 'vegetarian' in x)]\n",
    "pairs_vegetarian.shape"
   ]
  },
  {
   "cell_type": "code",
   "execution_count": 65,
   "metadata": {},
   "outputs": [
    {
     "data": {
      "text/plain": [
       "(266503, 5)"
      ]
     },
     "execution_count": 65,
     "metadata": {},
     "output_type": "execute_result"
    }
   ],
   "source": [
    "pairs_df = pairs_subset[pairs_subset['categories'].apply(lambda x: 'dairy_free' in x)]\n",
    "pairs_df.shape"
   ]
  },
  {
   "cell_type": "markdown",
   "metadata": {},
   "source": [
    "Testing out compression"
   ]
  },
  {
   "cell_type": "code",
   "execution_count": 68,
   "metadata": {},
   "outputs": [
    {
     "data": {
      "application/vnd.microsoft.datawrangler.viewer.v0+json": {
       "columns": [
        {
         "name": "index",
         "rawType": "int64",
         "type": "integer"
        },
        {
         "name": "base",
         "rawType": "int64",
         "type": "integer"
        },
        {
         "name": "target",
         "rawType": "object",
         "type": "unknown"
        }
       ],
       "conversionMethod": "pd.DataFrame",
       "ref": "f7baa55c-7cc2-42e4-8954-7ebb215b8d7a",
       "rows": [
        [
         "0",
         "54",
         "[154898, 225429, 228477, 419515, 530682]"
        ],
        [
         "1",
         "60",
         "[21117, 68368]"
        ],
        [
         "2",
         "68",
         "[130896]"
        ],
        [
         "3",
         "70",
         "[278946]"
        ],
        [
         "4",
         "80",
         "[14237]"
        ]
       ],
       "shape": {
        "columns": 2,
        "rows": 5
       }
      },
      "text/html": [
       "<div>\n",
       "<style scoped>\n",
       "    .dataframe tbody tr th:only-of-type {\n",
       "        vertical-align: middle;\n",
       "    }\n",
       "\n",
       "    .dataframe tbody tr th {\n",
       "        vertical-align: top;\n",
       "    }\n",
       "\n",
       "    .dataframe thead th {\n",
       "        text-align: right;\n",
       "    }\n",
       "</style>\n",
       "<table border=\"1\" class=\"dataframe\">\n",
       "  <thead>\n",
       "    <tr style=\"text-align: right;\">\n",
       "      <th></th>\n",
       "      <th>base</th>\n",
       "      <th>target</th>\n",
       "    </tr>\n",
       "  </thead>\n",
       "  <tbody>\n",
       "    <tr>\n",
       "      <th>0</th>\n",
       "      <td>54</td>\n",
       "      <td>[154898, 225429, 228477, 419515, 530682]</td>\n",
       "    </tr>\n",
       "    <tr>\n",
       "      <th>1</th>\n",
       "      <td>60</td>\n",
       "      <td>[21117, 68368]</td>\n",
       "    </tr>\n",
       "    <tr>\n",
       "      <th>2</th>\n",
       "      <td>68</td>\n",
       "      <td>[130896]</td>\n",
       "    </tr>\n",
       "    <tr>\n",
       "      <th>3</th>\n",
       "      <td>70</td>\n",
       "      <td>[278946]</td>\n",
       "    </tr>\n",
       "    <tr>\n",
       "      <th>4</th>\n",
       "      <td>80</td>\n",
       "      <td>[14237]</td>\n",
       "    </tr>\n",
       "  </tbody>\n",
       "</table>\n",
       "</div>"
      ],
      "text/plain": [
       "   base                                    target\n",
       "0    54  [154898, 225429, 228477, 419515, 530682]\n",
       "1    60                            [21117, 68368]\n",
       "2    68                                  [130896]\n",
       "3    70                                  [278946]\n",
       "4    80                                   [14237]"
      ]
     },
     "execution_count": 68,
     "metadata": {},
     "output_type": "execute_result"
    }
   ],
   "source": [
    "pairs_vegan_compressed = pairs_vegan.groupby('base', as_index=False).agg({'target': list})\n",
    "pairs_vegan_compressed.head()"
   ]
  },
  {
   "cell_type": "code",
   "execution_count": 69,
   "metadata": {},
   "outputs": [
    {
     "data": {
      "text/plain": [
       "(30393, 2)"
      ]
     },
     "execution_count": 69,
     "metadata": {},
     "output_type": "execute_result"
    }
   ],
   "source": [
    "pairs_vegan_compressed.shape"
   ]
  },
  {
   "cell_type": "code",
   "execution_count": 73,
   "metadata": {},
   "outputs": [],
   "source": [
    "def get_item_by_id(id):\n",
    "\treturn recipes.loc[recipes['id'] == id]"
   ]
  },
  {
   "cell_type": "code",
   "execution_count": 74,
   "metadata": {},
   "outputs": [
    {
     "data": {
      "application/vnd.microsoft.datawrangler.viewer.v0+json": {
       "columns": [
        {
         "name": "index",
         "rawType": "int64",
         "type": "integer"
        },
        {
         "name": "id",
         "rawType": "int64",
         "type": "integer"
        },
        {
         "name": "name",
         "rawType": "object",
         "type": "string"
        },
        {
         "name": "steps",
         "rawType": "object",
         "type": "string"
        },
        {
         "name": "ingredients",
         "rawType": "object",
         "type": "unknown"
        },
        {
         "name": "categories",
         "rawType": "object",
         "type": "unknown"
        },
        {
         "name": "name_tokens",
         "rawType": "object",
         "type": "unknown"
        }
       ],
       "conversionMethod": "pd.DataFrame",
       "ref": "e8bf3756-e0a5-455d-9fe4-fcf49f556de1",
       "rows": [
        [
         "9",
         "232088",
         "potato chip chocolate chip cookies",
         "position racks in the top and bottom thirds of the oven; preheat oven to 350°. in a bowl, whisk the flour, baking soda, and nutmeg until combined; set aside. put margarine in a big bowl; beat with an electric mixer on medium speed until softened. add in both sugars; continue beating until combined but grainy, with no bits of margarine visible, about 2 minutes. beat in the egg, then the egg white and vanilla. turn off the beaters; add in the flour mixture, and beat at low speed until a sticky and thick but nonetheless soft batter forms, about 20 seconds. remove the beaters and stir in the crushed potato chips and chocolate chips with a wooden spoon, just until evenly distributed. drop by rounded tablespoonfuls onto 2 large ungreased nonstick baking sheets, spacing 2 inches apart. bake for 8 minutes, then reverse the baking sheets front to back and top to bottom. continue baking for about 7 more minutes, or until the cookies are browned and somewhat firm to touch. cool on baking sheets for 2 minutes; transfer to wire racks to cool completely.",
         "['baking soda' 'brown sugar' 'chocolate chip' 'egg' 'flour' 'margarine'\n 'nutmeg' 'potato chip' 'sugar' 'vanilla']",
         "['vegetarian' 'dairy_free' 'gluten_free']",
         "['potato' 'chip' 'chocolate' 'chip' 'cookie']"
        ]
       ],
       "shape": {
        "columns": 6,
        "rows": 1
       }
      },
      "text/html": [
       "<div>\n",
       "<style scoped>\n",
       "    .dataframe tbody tr th:only-of-type {\n",
       "        vertical-align: middle;\n",
       "    }\n",
       "\n",
       "    .dataframe tbody tr th {\n",
       "        vertical-align: top;\n",
       "    }\n",
       "\n",
       "    .dataframe thead th {\n",
       "        text-align: right;\n",
       "    }\n",
       "</style>\n",
       "<table border=\"1\" class=\"dataframe\">\n",
       "  <thead>\n",
       "    <tr style=\"text-align: right;\">\n",
       "      <th></th>\n",
       "      <th>id</th>\n",
       "      <th>name</th>\n",
       "      <th>steps</th>\n",
       "      <th>ingredients</th>\n",
       "      <th>categories</th>\n",
       "      <th>name_tokens</th>\n",
       "    </tr>\n",
       "  </thead>\n",
       "  <tbody>\n",
       "    <tr>\n",
       "      <th>9</th>\n",
       "      <td>232088</td>\n",
       "      <td>potato chip chocolate chip cookies</td>\n",
       "      <td>position racks in the top and bottom thirds of...</td>\n",
       "      <td>[baking soda, brown sugar, chocolate chip, egg...</td>\n",
       "      <td>[vegetarian, dairy_free, gluten_free]</td>\n",
       "      <td>[potato, chip, chocolate, chip, cookie]</td>\n",
       "    </tr>\n",
       "  </tbody>\n",
       "</table>\n",
       "</div>"
      ],
      "text/plain": [
       "       id                                name  \\\n",
       "9  232088  potato chip chocolate chip cookies   \n",
       "\n",
       "                                               steps  \\\n",
       "9  position racks in the top and bottom thirds of...   \n",
       "\n",
       "                                         ingredients  \\\n",
       "9  [baking soda, brown sugar, chocolate chip, egg...   \n",
       "\n",
       "                              categories  \\\n",
       "9  [vegetarian, dairy_free, gluten_free]   \n",
       "\n",
       "                               name_tokens  \n",
       "9  [potato, chip, chocolate, chip, cookie]  "
      ]
     },
     "execution_count": 74,
     "metadata": {},
     "output_type": "execute_result"
    }
   ],
   "source": [
    "get_item_by_id(232088)"
   ]
  },
  {
   "cell_type": "code",
   "execution_count": 75,
   "metadata": {},
   "outputs": [
    {
     "data": {
      "application/vnd.microsoft.datawrangler.viewer.v0+json": {
       "columns": [
        {
         "name": "index",
         "rawType": "int64",
         "type": "integer"
        },
        {
         "name": "id",
         "rawType": "int64",
         "type": "integer"
        },
        {
         "name": "name",
         "rawType": "object",
         "type": "string"
        },
        {
         "name": "steps",
         "rawType": "object",
         "type": "string"
        },
        {
         "name": "ingredients",
         "rawType": "object",
         "type": "unknown"
        },
        {
         "name": "categories",
         "rawType": "object",
         "type": "unknown"
        },
        {
         "name": "name_tokens",
         "rawType": "object",
         "type": "unknown"
        }
       ],
       "conversionMethod": "pd.DataFrame",
       "ref": "84f39a38-6462-44af-84d7-092066636e33",
       "rows": [
        [
         "202079",
         "523902",
         "vegan chocolate chip cookies",
         "preheat oven to 375. create chia eggs by combining water and ground chia seeds. stir and let sit for 10-15 minutes to create a gel. combine dry ingredients in a large mixing bowl and mix well. combine wet ingredients and stir well to combine. gradually add wet ingredients to dry and mix in chocolate chips. form into 1 t balls and bake on a greased cookie sheet for 10-12 minutes. otherwise freeze for later cooking or eating frozen!",
         "['applesauce' 'baking soda' 'chia seed' 'chocolate chip' 'flour' 'oat'\n 'oil' 'salt' 'turbinado sugar' 'vanilla extract' 'water']",
         "['vegetarian' 'dairy_free' 'gluten_free' 'vegan']",
         "['vegan' 'chocolate' 'chip' 'cookie']"
        ]
       ],
       "shape": {
        "columns": 6,
        "rows": 1
       }
      },
      "text/html": [
       "<div>\n",
       "<style scoped>\n",
       "    .dataframe tbody tr th:only-of-type {\n",
       "        vertical-align: middle;\n",
       "    }\n",
       "\n",
       "    .dataframe tbody tr th {\n",
       "        vertical-align: top;\n",
       "    }\n",
       "\n",
       "    .dataframe thead th {\n",
       "        text-align: right;\n",
       "    }\n",
       "</style>\n",
       "<table border=\"1\" class=\"dataframe\">\n",
       "  <thead>\n",
       "    <tr style=\"text-align: right;\">\n",
       "      <th></th>\n",
       "      <th>id</th>\n",
       "      <th>name</th>\n",
       "      <th>steps</th>\n",
       "      <th>ingredients</th>\n",
       "      <th>categories</th>\n",
       "      <th>name_tokens</th>\n",
       "    </tr>\n",
       "  </thead>\n",
       "  <tbody>\n",
       "    <tr>\n",
       "      <th>202079</th>\n",
       "      <td>523902</td>\n",
       "      <td>vegan chocolate chip cookies</td>\n",
       "      <td>preheat oven to 375. create chia eggs by combi...</td>\n",
       "      <td>[applesauce, baking soda, chia seed, chocolate...</td>\n",
       "      <td>[vegetarian, dairy_free, gluten_free, vegan]</td>\n",
       "      <td>[vegan, chocolate, chip, cookie]</td>\n",
       "    </tr>\n",
       "  </tbody>\n",
       "</table>\n",
       "</div>"
      ],
      "text/plain": [
       "            id                          name  \\\n",
       "202079  523902  vegan chocolate chip cookies   \n",
       "\n",
       "                                                    steps  \\\n",
       "202079  preheat oven to 375. create chia eggs by combi...   \n",
       "\n",
       "                                              ingredients  \\\n",
       "202079  [applesauce, baking soda, chia seed, chocolate...   \n",
       "\n",
       "                                          categories  \\\n",
       "202079  [vegetarian, dairy_free, gluten_free, vegan]   \n",
       "\n",
       "                             name_tokens  \n",
       "202079  [vegan, chocolate, chip, cookie]  "
      ]
     },
     "execution_count": 75,
     "metadata": {},
     "output_type": "execute_result"
    }
   ],
   "source": [
    "get_item_by_id(523902)"
   ]
  }
 ],
 "metadata": {
  "kernelspec": {
   "display_name": "eval_venv",
   "language": "python",
   "name": "python3"
  },
  "language_info": {
   "codemirror_mode": {
    "name": "ipython",
    "version": 3
   },
   "file_extension": ".py",
   "mimetype": "text/x-python",
   "name": "python",
   "nbconvert_exporter": "python",
   "pygments_lexer": "ipython3",
   "version": "3.13.1"
  }
 },
 "nbformat": 4,
 "nbformat_minor": 2
}
